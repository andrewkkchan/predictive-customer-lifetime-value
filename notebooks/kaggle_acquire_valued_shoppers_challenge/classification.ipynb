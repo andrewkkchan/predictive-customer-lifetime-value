{
  "cells": [
    {
      "cell_type": "code",
      "execution_count": 112,
      "metadata": {
        "id": "znEK1MNRXqWY"
      },
      "outputs": [],
      "source": [
        "#@title Copyright 2019 The Lifetime Value Authors.\n",
        "# Licensed under the Apache License, Version 2.0 (the \"License\");\n",
        "# you may not use this file except in compliance with the License.\n",
        "# You may obtain a copy of the License at\n",
        "#\n",
        "#     https://www.apache.org/licenses/LICENSE-2.0\n",
        "#\n",
        "# Unless required by applicable law or agreed to in writing, software\n",
        "# distributed under the License is distributed on an \"AS IS\" BASIS,\n",
        "# WITHOUT WARRANTIES OR CONDITIONS OF ANY KIND, either express or implied.\n",
        "# See the License for the specific language governing permissions and\n",
        "# limitations under the License.\n",
        "# ============================================================================"
      ]
    },
    {
      "cell_type": "markdown",
      "metadata": {
        "id": "3oNqWmn530N-"
      },
      "source": [
        "# Churn Prediction for Kaggle Acquire Valued Customer Challenge"
      ]
    },
    {
      "cell_type": "markdown",
      "metadata": {
        "id": "XKydJ9qF4KVm"
      },
      "source": [
        "<table align=\"left\">\n",
        "  <td>\n",
        "    <a target=\"_blank\" href=\"https://colab.research.google.com/github/google/lifetime_value/blob/master/notebooks/kaggle_acquire_valued_shoppers_challenge/classification.ipynb\"><img src=\"https://www.tensorflow.org/images/colab_logo_32px.png\" />Run in Google Colab</a>\n",
        "  </td>\n",
        "  <td>\n",
        "    <a target=\"_blank\" href=\"https://github.com/google/lifetime_value/blob/master/notebooks/kaggle_acquire_valued_shoppers_challenge/classification.ipynb\"><img src=\"https://www.tensorflow.org/images/GitHub-Mark-32px.png\" />View source on GitHub</a>\n",
        "  </td>\n",
        "</table>"
      ]
    },
    {
      "cell_type": "code",
      "execution_count": 113,
      "metadata": {},
      "outputs": [
        {
          "name": "stdout",
          "output_type": "stream",
          "text": [
            "Requirement already satisfied: scikit-learn in /Users/andrew.chan/lifetime_value/.venv/lib/python3.8/site-packages (1.3.2)\n",
            "Requirement already satisfied: matplotlib in /Users/andrew.chan/lifetime_value/.venv/lib/python3.8/site-packages (3.7.5)\n",
            "Requirement already satisfied: numpy<2.0,>=1.17.3 in /Users/andrew.chan/lifetime_value/.venv/lib/python3.8/site-packages (from scikit-learn) (1.24.3)\n",
            "Requirement already satisfied: scipy>=1.5.0 in /Users/andrew.chan/lifetime_value/.venv/lib/python3.8/site-packages (from scikit-learn) (1.10.1)\n",
            "Requirement already satisfied: joblib>=1.1.1 in /Users/andrew.chan/lifetime_value/.venv/lib/python3.8/site-packages (from scikit-learn) (1.4.2)\n",
            "Requirement already satisfied: threadpoolctl>=2.0.0 in /Users/andrew.chan/lifetime_value/.venv/lib/python3.8/site-packages (from scikit-learn) (3.5.0)\n",
            "Requirement already satisfied: contourpy>=1.0.1 in /Users/andrew.chan/lifetime_value/.venv/lib/python3.8/site-packages (from matplotlib) (1.1.1)\n",
            "Requirement already satisfied: cycler>=0.10 in /Users/andrew.chan/lifetime_value/.venv/lib/python3.8/site-packages (from matplotlib) (0.12.1)\n",
            "Requirement already satisfied: fonttools>=4.22.0 in /Users/andrew.chan/lifetime_value/.venv/lib/python3.8/site-packages (from matplotlib) (4.56.0)\n",
            "Requirement already satisfied: kiwisolver>=1.0.1 in /Users/andrew.chan/lifetime_value/.venv/lib/python3.8/site-packages (from matplotlib) (1.4.7)\n",
            "Requirement already satisfied: packaging>=20.0 in /Users/andrew.chan/lifetime_value/.venv/lib/python3.8/site-packages (from matplotlib) (24.2)\n",
            "Requirement already satisfied: pillow>=6.2.0 in /Users/andrew.chan/lifetime_value/.venv/lib/python3.8/site-packages (from matplotlib) (10.4.0)\n",
            "Requirement already satisfied: pyparsing>=2.3.1 in /Users/andrew.chan/lifetime_value/.venv/lib/python3.8/site-packages (from matplotlib) (3.1.4)\n",
            "Requirement already satisfied: python-dateutil>=2.7 in /Users/andrew.chan/lifetime_value/.venv/lib/python3.8/site-packages (from matplotlib) (2.9.0.post0)\n",
            "Requirement already satisfied: importlib-resources>=3.2.0 in /Users/andrew.chan/lifetime_value/.venv/lib/python3.8/site-packages (from matplotlib) (6.4.5)\n",
            "Requirement already satisfied: zipp>=3.1.0 in /Users/andrew.chan/lifetime_value/.venv/lib/python3.8/site-packages (from importlib-resources>=3.2.0->matplotlib) (3.20.2)\n",
            "Requirement already satisfied: six>=1.5 in /Users/andrew.chan/lifetime_value/.venv/lib/python3.8/site-packages (from python-dateutil>=2.7->matplotlib) (1.17.0)\n",
            "Note: you may need to restart the kernel to use updated packages.\n"
          ]
        }
      ],
      "source": [
        "%pip install scikit-learn matplotlib"
      ]
    },
    {
      "cell_type": "code",
      "execution_count": 114,
      "metadata": {},
      "outputs": [
        {
          "name": "stdout",
          "output_type": "stream",
          "text": [
            "Processing /Users/andrew.chan/lifetime_value\n",
            "  Preparing metadata (setup.py) ... \u001b[?25ldone\n",
            "\u001b[?25hRequirement already satisfied: numpy>=1.11.1 in /Users/andrew.chan/lifetime_value/.venv/lib/python3.8/site-packages (from lifetime-value==0.1) (1.24.3)\n",
            "Requirement already satisfied: pandas in /Users/andrew.chan/lifetime_value/.venv/lib/python3.8/site-packages (from lifetime-value==0.1) (2.0.3)\n",
            "Requirement already satisfied: sklearn in /Users/andrew.chan/lifetime_value/.venv/lib/python3.8/site-packages (from lifetime-value==0.1) (0.0.post12)\n",
            "Requirement already satisfied: tensorflow in /Users/andrew.chan/lifetime_value/.venv/lib/python3.8/site-packages (from lifetime-value==0.1) (2.13.0)\n",
            "Requirement already satisfied: tensorflow-probability in /Users/andrew.chan/lifetime_value/.venv/lib/python3.8/site-packages (from lifetime-value==0.1) (0.21.0)\n",
            "Requirement already satisfied: tqdm in /Users/andrew.chan/lifetime_value/.venv/lib/python3.8/site-packages (from lifetime-value==0.1) (4.67.1)\n",
            "Requirement already satisfied: python-dateutil>=2.8.2 in /Users/andrew.chan/lifetime_value/.venv/lib/python3.8/site-packages (from pandas->lifetime-value==0.1) (2.9.0.post0)\n",
            "Requirement already satisfied: pytz>=2020.1 in /Users/andrew.chan/lifetime_value/.venv/lib/python3.8/site-packages (from pandas->lifetime-value==0.1) (2025.1)\n",
            "Requirement already satisfied: tzdata>=2022.1 in /Users/andrew.chan/lifetime_value/.venv/lib/python3.8/site-packages (from pandas->lifetime-value==0.1) (2025.1)\n",
            "Requirement already satisfied: tensorflow-macos==2.13.0 in /Users/andrew.chan/lifetime_value/.venv/lib/python3.8/site-packages (from tensorflow->lifetime-value==0.1) (2.13.0)\n",
            "Requirement already satisfied: absl-py>=1.0.0 in /Users/andrew.chan/lifetime_value/.venv/lib/python3.8/site-packages (from tensorflow-macos==2.13.0->tensorflow->lifetime-value==0.1) (2.1.0)\n",
            "Requirement already satisfied: astunparse>=1.6.0 in /Users/andrew.chan/lifetime_value/.venv/lib/python3.8/site-packages (from tensorflow-macos==2.13.0->tensorflow->lifetime-value==0.1) (1.6.3)\n",
            "Requirement already satisfied: flatbuffers>=23.1.21 in /Users/andrew.chan/lifetime_value/.venv/lib/python3.8/site-packages (from tensorflow-macos==2.13.0->tensorflow->lifetime-value==0.1) (25.2.10)\n",
            "Requirement already satisfied: gast<=0.4.0,>=0.2.1 in /Users/andrew.chan/lifetime_value/.venv/lib/python3.8/site-packages (from tensorflow-macos==2.13.0->tensorflow->lifetime-value==0.1) (0.4.0)\n",
            "Requirement already satisfied: google-pasta>=0.1.1 in /Users/andrew.chan/lifetime_value/.venv/lib/python3.8/site-packages (from tensorflow-macos==2.13.0->tensorflow->lifetime-value==0.1) (0.2.0)\n",
            "Requirement already satisfied: h5py>=2.9.0 in /Users/andrew.chan/lifetime_value/.venv/lib/python3.8/site-packages (from tensorflow-macos==2.13.0->tensorflow->lifetime-value==0.1) (3.11.0)\n",
            "Requirement already satisfied: libclang>=13.0.0 in /Users/andrew.chan/lifetime_value/.venv/lib/python3.8/site-packages (from tensorflow-macos==2.13.0->tensorflow->lifetime-value==0.1) (18.1.1)\n",
            "Requirement already satisfied: opt-einsum>=2.3.2 in /Users/andrew.chan/lifetime_value/.venv/lib/python3.8/site-packages (from tensorflow-macos==2.13.0->tensorflow->lifetime-value==0.1) (3.4.0)\n",
            "Requirement already satisfied: packaging in /Users/andrew.chan/lifetime_value/.venv/lib/python3.8/site-packages (from tensorflow-macos==2.13.0->tensorflow->lifetime-value==0.1) (24.2)\n",
            "Requirement already satisfied: protobuf!=4.21.0,!=4.21.1,!=4.21.2,!=4.21.3,!=4.21.4,!=4.21.5,<5.0.0dev,>=3.20.3 in /Users/andrew.chan/lifetime_value/.venv/lib/python3.8/site-packages (from tensorflow-macos==2.13.0->tensorflow->lifetime-value==0.1) (4.25.6)\n",
            "Requirement already satisfied: setuptools in /Users/andrew.chan/lifetime_value/.venv/lib/python3.8/site-packages (from tensorflow-macos==2.13.0->tensorflow->lifetime-value==0.1) (56.0.0)\n",
            "Requirement already satisfied: six>=1.12.0 in /Users/andrew.chan/lifetime_value/.venv/lib/python3.8/site-packages (from tensorflow-macos==2.13.0->tensorflow->lifetime-value==0.1) (1.17.0)\n",
            "Requirement already satisfied: termcolor>=1.1.0 in /Users/andrew.chan/lifetime_value/.venv/lib/python3.8/site-packages (from tensorflow-macos==2.13.0->tensorflow->lifetime-value==0.1) (2.4.0)\n",
            "Requirement already satisfied: typing-extensions<4.6.0,>=3.6.6 in /Users/andrew.chan/lifetime_value/.venv/lib/python3.8/site-packages (from tensorflow-macos==2.13.0->tensorflow->lifetime-value==0.1) (4.5.0)\n",
            "Requirement already satisfied: wrapt>=1.11.0 in /Users/andrew.chan/lifetime_value/.venv/lib/python3.8/site-packages (from tensorflow-macos==2.13.0->tensorflow->lifetime-value==0.1) (1.17.2)\n",
            "Requirement already satisfied: grpcio<2.0,>=1.24.3 in /Users/andrew.chan/lifetime_value/.venv/lib/python3.8/site-packages (from tensorflow-macos==2.13.0->tensorflow->lifetime-value==0.1) (1.70.0)\n",
            "Requirement already satisfied: tensorboard<2.14,>=2.13 in /Users/andrew.chan/lifetime_value/.venv/lib/python3.8/site-packages (from tensorflow-macos==2.13.0->tensorflow->lifetime-value==0.1) (2.13.0)\n",
            "Requirement already satisfied: tensorflow-estimator<2.14,>=2.13.0 in /Users/andrew.chan/lifetime_value/.venv/lib/python3.8/site-packages (from tensorflow-macos==2.13.0->tensorflow->lifetime-value==0.1) (2.13.0)\n",
            "Requirement already satisfied: keras<2.14,>=2.13.1 in /Users/andrew.chan/lifetime_value/.venv/lib/python3.8/site-packages (from tensorflow-macos==2.13.0->tensorflow->lifetime-value==0.1) (2.13.1)\n",
            "Requirement already satisfied: decorator in /Users/andrew.chan/lifetime_value/.venv/lib/python3.8/site-packages (from tensorflow-probability->lifetime-value==0.1) (5.1.1)\n",
            "Requirement already satisfied: cloudpickle>=1.3 in /Users/andrew.chan/lifetime_value/.venv/lib/python3.8/site-packages (from tensorflow-probability->lifetime-value==0.1) (3.1.1)\n",
            "Requirement already satisfied: dm-tree in /Users/andrew.chan/lifetime_value/.venv/lib/python3.8/site-packages (from tensorflow-probability->lifetime-value==0.1) (0.1.8)\n",
            "Requirement already satisfied: wheel<1.0,>=0.23.0 in /Users/andrew.chan/lifetime_value/.venv/lib/python3.8/site-packages (from astunparse>=1.6.0->tensorflow-macos==2.13.0->tensorflow->lifetime-value==0.1) (0.45.1)\n",
            "Requirement already satisfied: google-auth<3,>=1.6.3 in /Users/andrew.chan/lifetime_value/.venv/lib/python3.8/site-packages (from tensorboard<2.14,>=2.13->tensorflow-macos==2.13.0->tensorflow->lifetime-value==0.1) (2.38.0)\n",
            "Requirement already satisfied: google-auth-oauthlib<1.1,>=0.5 in /Users/andrew.chan/lifetime_value/.venv/lib/python3.8/site-packages (from tensorboard<2.14,>=2.13->tensorflow-macos==2.13.0->tensorflow->lifetime-value==0.1) (1.0.0)\n",
            "Requirement already satisfied: markdown>=2.6.8 in /Users/andrew.chan/lifetime_value/.venv/lib/python3.8/site-packages (from tensorboard<2.14,>=2.13->tensorflow-macos==2.13.0->tensorflow->lifetime-value==0.1) (3.7)\n",
            "Requirement already satisfied: requests<3,>=2.21.0 in /Users/andrew.chan/lifetime_value/.venv/lib/python3.8/site-packages (from tensorboard<2.14,>=2.13->tensorflow-macos==2.13.0->tensorflow->lifetime-value==0.1) (2.32.3)\n",
            "Requirement already satisfied: tensorboard-data-server<0.8.0,>=0.7.0 in /Users/andrew.chan/lifetime_value/.venv/lib/python3.8/site-packages (from tensorboard<2.14,>=2.13->tensorflow-macos==2.13.0->tensorflow->lifetime-value==0.1) (0.7.2)\n",
            "Requirement already satisfied: werkzeug>=1.0.1 in /Users/andrew.chan/lifetime_value/.venv/lib/python3.8/site-packages (from tensorboard<2.14,>=2.13->tensorflow-macos==2.13.0->tensorflow->lifetime-value==0.1) (3.0.6)\n",
            "Requirement already satisfied: cachetools<6.0,>=2.0.0 in /Users/andrew.chan/lifetime_value/.venv/lib/python3.8/site-packages (from google-auth<3,>=1.6.3->tensorboard<2.14,>=2.13->tensorflow-macos==2.13.0->tensorflow->lifetime-value==0.1) (5.5.1)\n",
            "Requirement already satisfied: pyasn1-modules>=0.2.1 in /Users/andrew.chan/lifetime_value/.venv/lib/python3.8/site-packages (from google-auth<3,>=1.6.3->tensorboard<2.14,>=2.13->tensorflow-macos==2.13.0->tensorflow->lifetime-value==0.1) (0.4.1)\n",
            "Requirement already satisfied: rsa<5,>=3.1.4 in /Users/andrew.chan/lifetime_value/.venv/lib/python3.8/site-packages (from google-auth<3,>=1.6.3->tensorboard<2.14,>=2.13->tensorflow-macos==2.13.0->tensorflow->lifetime-value==0.1) (4.9)\n",
            "Requirement already satisfied: requests-oauthlib>=0.7.0 in /Users/andrew.chan/lifetime_value/.venv/lib/python3.8/site-packages (from google-auth-oauthlib<1.1,>=0.5->tensorboard<2.14,>=2.13->tensorflow-macos==2.13.0->tensorflow->lifetime-value==0.1) (2.0.0)\n",
            "Requirement already satisfied: importlib-metadata>=4.4 in /Users/andrew.chan/lifetime_value/.venv/lib/python3.8/site-packages (from markdown>=2.6.8->tensorboard<2.14,>=2.13->tensorflow-macos==2.13.0->tensorflow->lifetime-value==0.1) (8.5.0)\n",
            "Requirement already satisfied: charset-normalizer<4,>=2 in /Users/andrew.chan/lifetime_value/.venv/lib/python3.8/site-packages (from requests<3,>=2.21.0->tensorboard<2.14,>=2.13->tensorflow-macos==2.13.0->tensorflow->lifetime-value==0.1) (3.4.1)\n",
            "Requirement already satisfied: idna<4,>=2.5 in /Users/andrew.chan/lifetime_value/.venv/lib/python3.8/site-packages (from requests<3,>=2.21.0->tensorboard<2.14,>=2.13->tensorflow-macos==2.13.0->tensorflow->lifetime-value==0.1) (3.10)\n",
            "Requirement already satisfied: urllib3<3,>=1.21.1 in /Users/andrew.chan/lifetime_value/.venv/lib/python3.8/site-packages (from requests<3,>=2.21.0->tensorboard<2.14,>=2.13->tensorflow-macos==2.13.0->tensorflow->lifetime-value==0.1) (2.2.3)\n",
            "Requirement already satisfied: certifi>=2017.4.17 in /Users/andrew.chan/lifetime_value/.venv/lib/python3.8/site-packages (from requests<3,>=2.21.0->tensorboard<2.14,>=2.13->tensorflow-macos==2.13.0->tensorflow->lifetime-value==0.1) (2025.1.31)\n",
            "Requirement already satisfied: MarkupSafe>=2.1.1 in /Users/andrew.chan/lifetime_value/.venv/lib/python3.8/site-packages (from werkzeug>=1.0.1->tensorboard<2.14,>=2.13->tensorflow-macos==2.13.0->tensorflow->lifetime-value==0.1) (2.1.5)\n",
            "Requirement already satisfied: zipp>=3.20 in /Users/andrew.chan/lifetime_value/.venv/lib/python3.8/site-packages (from importlib-metadata>=4.4->markdown>=2.6.8->tensorboard<2.14,>=2.13->tensorflow-macos==2.13.0->tensorflow->lifetime-value==0.1) (3.20.2)\n",
            "Requirement already satisfied: pyasn1<0.7.0,>=0.4.6 in /Users/andrew.chan/lifetime_value/.venv/lib/python3.8/site-packages (from pyasn1-modules>=0.2.1->google-auth<3,>=1.6.3->tensorboard<2.14,>=2.13->tensorflow-macos==2.13.0->tensorflow->lifetime-value==0.1) (0.6.1)\n",
            "Requirement already satisfied: oauthlib>=3.0.0 in /Users/andrew.chan/lifetime_value/.venv/lib/python3.8/site-packages (from requests-oauthlib>=0.7.0->google-auth-oauthlib<1.1,>=0.5->tensorboard<2.14,>=2.13->tensorflow-macos==2.13.0->tensorflow->lifetime-value==0.1) (3.2.2)\n",
            "Building wheels for collected packages: lifetime-value\n",
            "  Building wheel for lifetime-value (setup.py) ... \u001b[?25ldone\n",
            "\u001b[?25h  Created wheel for lifetime-value: filename=lifetime_value-0.1-py3-none-any.whl size=11220 sha256=e20e8db6e16b9fc405ada23e0735979fb85d5f8bb3e9078063ddb08e3b5f15f9\n",
            "  Stored in directory: /private/var/folders/_x/lk156_010zvdrbc289hkw0180000gp/T/pip-ephem-wheel-cache-wwrta0kk/wheels/f0/57/13/3cbd2c64aad6b4e360557b0e10580dc2fe41b0c49ab9a9c64f\n",
            "Successfully built lifetime-value\n",
            "Installing collected packages: lifetime-value\n",
            "  Attempting uninstall: lifetime-value\n",
            "    Found existing installation: lifetime-value 0.1\n",
            "    Uninstalling lifetime-value-0.1:\n",
            "      Successfully uninstalled lifetime-value-0.1\n",
            "Successfully installed lifetime-value-0.1\n"
          ]
        }
      ],
      "source": [
        "!SKLEARN_ALLOW_DEPRECATED_SKLEARN_PACKAGE_INSTALL=True pip install ../.."
      ]
    },
    {
      "cell_type": "code",
      "execution_count": 115,
      "metadata": {
        "id": "KObdQwyXH2mC"
      },
      "outputs": [],
      "source": [
        "import os\n",
        "\n",
        "import numpy as np\n",
        "import pandas as pd\n",
        "import tqdm\n",
        "from sklearn import metrics\n",
        "from sklearn import model_selection\n",
        "from sklearn import preprocessing\n",
        "import tensorflow as tf\n",
        "from tensorflow import keras\n",
        "from tensorflow.keras import backend as K\n",
        "import tensorflow_probability as tfp\n",
        "from typing import Sequence\n",
        "\n",
        "# install and import ltv\n",
        "import lifetime_value as ltv"
      ]
    },
    {
      "cell_type": "code",
      "execution_count": 116,
      "metadata": {
        "id": "K41RmAfNXtu_"
      },
      "outputs": [],
      "source": [
        "tfd = tfp.distributions\n",
        "pd.options.mode.chained_assignment = None  # default='warn'"
      ]
    },
    {
      "cell_type": "markdown",
      "metadata": {
        "id": "RzTaK6fFXMWT"
      },
      "source": [
        "## Global variables"
      ]
    },
    {
      "cell_type": "code",
      "execution_count": null,
      "metadata": {
        "id": "VQVhF3fhNEr2"
      },
      "outputs": [],
      "source": [
        "COMPANY = '1078778070'  # @param { isTemplate: true, type: 'string'}\n",
        "LOSS = 'ziln'  # @param { isTemplate: true, type: 'string'} ['bce', 'ziln']\n",
        "MODEL = 'dnn'  # @param { isTemplate: true, type: 'string'} ['linear', 'dnn']\n",
        "LEARNING_RATE = 0.0002  # @param { isTemplate: true}\n",
        "EPOCHS = 400  # @param {type: 'integer'}\n",
        "OUTPUT_CSV_FOLDER = '/tmp/lifetime-value/acquire-valued-shoppers-challenge/result'  # @param { isTemplate: true, type: 'string'}"
      ]
    },
    {
      "cell_type": "code",
      "execution_count": 118,
      "metadata": {
        "id": "g7dg8TwYbxnl"
      },
      "outputs": [],
      "source": [
        "CATEGORICAL_FEATURES = ['chain', 'dept', 'category', 'brand', 'productmeasure']\n",
        "NUMERIC_FEATURES = ['log_calibration_value']\n",
        "\n",
        "ALL_FEATURES = CATEGORICAL_FEATURES + NUMERIC_FEATURES"
      ]
    },
    {
      "cell_type": "markdown",
      "metadata": {
        "id": "I_nbvZjMuj_z"
      },
      "source": [
        "## Data"
      ]
    },
    {
      "cell_type": "markdown",
      "metadata": {
        "id": "SFi0JMPu138h"
      },
      "source": [
        "### Download data"
      ]
    },
    {
      "cell_type": "markdown",
      "metadata": {
        "id": "krXMbrkVNtdN"
      },
      "source": [
        "Setup kaggle API correctly following https://www.kaggle.com/docs/api\n",
        "```\n",
        "%%shell\n",
        "mkdir ~/.kaggle\n",
        "echo \\{\\\"username\\\":\\\"{your kaggle username}\\\",\\\"key\\\":\\\"{your kaggle api key}\\\"\\} > ~/.kaggle/kaggle.json\n",
        "pip install kaggle\n",
        "```"
      ]
    },
    {
      "cell_type": "code",
      "execution_count": 119,
      "metadata": {},
      "outputs": [
        {
          "name": "stdout",
          "output_type": "stream",
          "text": [
            "Requirement already satisfied: kaggle in /Users/andrew.chan/lifetime_value/.venv/lib/python3.8/site-packages (1.6.17)\n",
            "Requirement already satisfied: six>=1.10 in /Users/andrew.chan/lifetime_value/.venv/lib/python3.8/site-packages (from kaggle) (1.17.0)\n",
            "Requirement already satisfied: certifi>=2023.7.22 in /Users/andrew.chan/lifetime_value/.venv/lib/python3.8/site-packages (from kaggle) (2025.1.31)\n",
            "Requirement already satisfied: python-dateutil in /Users/andrew.chan/lifetime_value/.venv/lib/python3.8/site-packages (from kaggle) (2.9.0.post0)\n",
            "Requirement already satisfied: requests in /Users/andrew.chan/lifetime_value/.venv/lib/python3.8/site-packages (from kaggle) (2.32.3)\n",
            "Requirement already satisfied: tqdm in /Users/andrew.chan/lifetime_value/.venv/lib/python3.8/site-packages (from kaggle) (4.67.1)\n",
            "Requirement already satisfied: python-slugify in /Users/andrew.chan/lifetime_value/.venv/lib/python3.8/site-packages (from kaggle) (8.0.4)\n",
            "Requirement already satisfied: urllib3 in /Users/andrew.chan/lifetime_value/.venv/lib/python3.8/site-packages (from kaggle) (2.2.3)\n",
            "Requirement already satisfied: bleach in /Users/andrew.chan/lifetime_value/.venv/lib/python3.8/site-packages (from kaggle) (6.1.0)\n",
            "Requirement already satisfied: webencodings in /Users/andrew.chan/lifetime_value/.venv/lib/python3.8/site-packages (from bleach->kaggle) (0.5.1)\n",
            "Requirement already satisfied: text-unidecode>=1.3 in /Users/andrew.chan/lifetime_value/.venv/lib/python3.8/site-packages (from python-slugify->kaggle) (1.3)\n",
            "Requirement already satisfied: charset-normalizer<4,>=2 in /Users/andrew.chan/lifetime_value/.venv/lib/python3.8/site-packages (from requests->kaggle) (3.4.1)\n",
            "Requirement already satisfied: idna<4,>=2.5 in /Users/andrew.chan/lifetime_value/.venv/lib/python3.8/site-packages (from requests->kaggle) (3.10)\n",
            "Note: you may need to restart the kernel to use updated packages.\n"
          ]
        }
      ],
      "source": [
        "%pip install kaggle"
      ]
    },
    {
      "cell_type": "code",
      "execution_count": 120,
      "metadata": {
        "id": "0gf4ipd-14x0"
      },
      "outputs": [],
      "source": [
        "# %%bash\n",
        "# if [ -e /tmp/lifetime-value/acquire-valued-shoppers-challenge/transactions.csv ]\n",
        "# then\n",
        "#   echo \"File already exists, no need to download.\"\n",
        "# else\n",
        "#   rm -rf /tmp/lifetime-value/acquire-valued-shoppers-challenge\n",
        "#   mkdir -p /tmp/lifetime-value/acquire-valued-shoppers-challenge\n",
        "#   cd /tmp/lifetime-value/acquire-valued-shoppers-challenge\n",
        "#   kaggle competitions download -c acquire-valued-shoppers-challenge\n",
        "#   echo \"Unzip file. This may take 10 min.\"\n",
        "#   gunzip transactions.csv.gz\n",
        "# fi"
      ]
    },
    {
      "cell_type": "markdown",
      "metadata": {
        "id": "V4zoAS25uj_7"
      },
      "source": [
        "### Load transaction csv"
      ]
    },
    {
      "cell_type": "code",
      "execution_count": 121,
      "metadata": {
        "id": "5tIMvE3dW1Ky"
      },
      "outputs": [],
      "source": [
        "def load_transaction_data(company):\n",
        "  all_data_filename = '/tmp/lifetime-value/acquire-valued-shoppers-challenge/transactions.csv'\n",
        "  one_company_data_filename = (\n",
        "      '/tmp/lifetime-value/acquire-valued-shoppers-challenge/transactions_company_{}.csv'\n",
        "      .format(COMPANY))\n",
        "  if os.path.isfile(one_company_data_filename):\n",
        "    df = pd.read_csv(one_company_data_filename)\n",
        "  else:\n",
        "    data_list = []\n",
        "    chunksize = 10**6\n",
        "    # 350 iterations\n",
        "    for chunk in tqdm.tqdm(pd.read_csv(all_data_filename, chunksize=chunksize)):\n",
        "      data_list.append(chunk.query(\"company=={}\".format(company)))\n",
        "    df = pd.concat(data_list, axis=0)\n",
        "    df.to_csv(one_company_data_filename, index=None)\n",
        "  return df"
      ]
    },
    {
      "cell_type": "markdown",
      "metadata": {
        "id": "9ra4bfwCVwKn"
      },
      "source": [
        "### Preprocess data"
      ]
    },
    {
      "cell_type": "code",
      "execution_count": 122,
      "metadata": {
        "id": "PlJl5g9Delmi"
      },
      "outputs": [],
      "source": [
        "def preprocess(df):\n",
        "  df = df.query('purchaseamount>0')\n",
        "  df['date'] = pd.to_datetime(df['date'], format='%Y-%m-%d')\n",
        "  df['start_date'] = df.groupby('id')['date'].transform('min')\n",
        "\n",
        "  # Compute calibration values\n",
        "  calibration_value = (\n",
        "      df.query('date==start_date').groupby('id')\n",
        "      ['purchaseamount'].sum().reset_index())\n",
        "  calibration_value.columns = ['id', 'calibration_value']\n",
        "\n",
        "  # Compute holdout values\n",
        "  one_year_holdout_window_mask = (\n",
        "      (df['date'] > df['start_date']) &\n",
        "      (df['date'] <= df['start_date'] + np.timedelta64(365, 'D')))\n",
        "  holdout_value = (\n",
        "      df[one_year_holdout_window_mask].groupby('id')\n",
        "      ['purchaseamount'].sum().reset_index())\n",
        "  holdout_value.columns = ['id', 'holdout_value']\n",
        "\n",
        "  # Compute calibration attributes\n",
        "  calibration_attributes = (\n",
        "      df.query('date==start_date').sort_values(\n",
        "          'purchaseamount', ascending=False).groupby('id')[[\n",
        "              'chain', 'dept', 'category', 'brand', 'productmeasure'\n",
        "          ]].first().reset_index())\n",
        "\n",
        "  # Merge dataframes\n",
        "  customer_level_data = (\n",
        "      calibration_value.merge(calibration_attributes, how='left',\n",
        "                              on='id').merge(\n",
        "                                  holdout_value, how='left', on='id'))\n",
        "  customer_level_data['holdout_value'] = (\n",
        "      customer_level_data['holdout_value'].fillna(0.))\n",
        "  customer_level_data[CATEGORICAL_FEATURES] = (\n",
        "      customer_level_data[CATEGORICAL_FEATURES].fillna('UNKNOWN'))\n",
        "\n",
        "  # Specify data types\n",
        "  customer_level_data['log_calibration_value'] = (\n",
        "      np.log(customer_level_data['calibration_value']).astype('float32'))\n",
        "  customer_level_data['chain'] = (\n",
        "      customer_level_data['chain'].astype('category'))\n",
        "  customer_level_data['dept'] = (customer_level_data['dept'].astype('category'))\n",
        "  customer_level_data['brand'] = (\n",
        "      customer_level_data['brand'].astype('category'))\n",
        "  customer_level_data['category'] = (\n",
        "      customer_level_data['category'].astype('category'))\n",
        "  customer_level_data['label'] = (\n",
        "      customer_level_data['holdout_value'].astype('float32'))\n",
        "  return customer_level_data"
      ]
    },
    {
      "cell_type": "markdown",
      "metadata": {
        "id": "fP3q6uuMoXhA"
      },
      "source": [
        "### Load customer-level csv"
      ]
    },
    {
      "cell_type": "code",
      "execution_count": 123,
      "metadata": {
        "id": "X8B4zV1xoeMX"
      },
      "outputs": [],
      "source": [
        "def load_customer_level_csv(company):\n",
        "  customer_level_data_file = (\n",
        "      '/tmp/lifetime-value/acquire-valued-shoppers-challenge/customer_level_data_company_{}.csv'\n",
        "      .format(company))\n",
        "  if os.path.isfile(customer_level_data_file):\n",
        "    customer_level_data = pd.read_csv(customer_level_data_file)\n",
        "  else:\n",
        "    customer_level_data = preprocess(load_transaction_data(company))\n",
        "  for cat_col in CATEGORICAL_FEATURES:\n",
        "    customer_level_data[cat_col] = (\n",
        "        customer_level_data[cat_col].astype('category'))\n",
        "  for num_col in [\n",
        "      'log_calibration_value', 'calibration_value', 'holdout_value'\n",
        "  ]:\n",
        "    customer_level_data[num_col] = (\n",
        "        customer_level_data[num_col].astype('float32'))\n",
        "\n",
        "  return customer_level_data"
      ]
    },
    {
      "cell_type": "code",
      "execution_count": 124,
      "metadata": {
        "id": "DWwMxpIEukAE"
      },
      "outputs": [],
      "source": [
        "# Processes data. 350 iteration in total. May take 10min.\n",
        "customer_level_data = load_customer_level_csv(COMPANY)"
      ]
    },
    {
      "cell_type": "code",
      "execution_count": 125,
      "metadata": {},
      "outputs": [
        {
          "data": {
            "text/plain": [
              "<bound method NDFrame.head of                id  calibration_value chain dept category  brand  \\\n",
              "0           86246           7.590000   205    7      707  12564   \n",
              "1        23412989           4.990000    17    7      708  12564   \n",
              "2        50869828           4.990000    17    7      708  12564   \n",
              "3        51472749           8.290000    17    7      707  12564   \n",
              "4        85811085          20.969999    17    7      707  12564   \n",
              "...           ...                ...   ...  ...      ...    ...   \n",
              "11456  4731465992           6.990000    31    7      709  12564   \n",
              "11457  4735021917           4.990000   169    7      707  12564   \n",
              "11458  4798816558           6.990000   153    7      709  12564   \n",
              "11459  4798818274           6.990000   152    7      709  12564   \n",
              "11460  4813286185           6.990000   153    7      708  12564   \n",
              "\n",
              "      productmeasure  holdout_value  log_calibration_value  label  \n",
              "0                 OZ          22.77               2.026832  22.77  \n",
              "1                 OZ           0.00               1.607436   0.00  \n",
              "2                 OZ           0.00               1.607436   0.00  \n",
              "3                 OZ           0.00               2.115050   0.00  \n",
              "4                 OZ           0.00               3.043093   0.00  \n",
              "...              ...            ...                    ...    ...  \n",
              "11456             OZ           0.00               1.944481   0.00  \n",
              "11457             OZ           0.00               1.607436   0.00  \n",
              "11458             OZ          48.93               1.944481  48.93  \n",
              "11459             OZ           0.00               1.944481   0.00  \n",
              "11460             OZ           6.49               1.944481   6.49  \n",
              "\n",
              "[11461 rows x 10 columns]>"
            ]
          },
          "execution_count": 125,
          "metadata": {},
          "output_type": "execute_result"
        }
      ],
      "source": [
        "customer_level_data.head"
      ]
    },
    {
      "cell_type": "markdown",
      "metadata": {
        "id": "09tqgvANtsil"
      },
      "source": [
        "We observe a mixture of zero and lognormal distribution of holdout value."
      ]
    },
    {
      "cell_type": "code",
      "execution_count": 126,
      "metadata": {
        "id": "BtF0z3VbmGev"
      },
      "outputs": [
        {
          "data": {
            "text/plain": [
              "<Axes: >"
            ]
          },
          "execution_count": 126,
          "metadata": {},
          "output_type": "execute_result"
        },
        {
          "data": {
            "image/png": "[encoded data removed]",
            "text/plain": [
              "<Figure size 640x480 with 1 Axes>"
            ]
          },
          "metadata": {},
          "output_type": "display_data"
        }
      ],
      "source": [
        "customer_level_data.label.apply(np.log1p).hist(bins=50)"
      ]
    },
    {
      "cell_type": "code",
      "execution_count": 127,
      "metadata": {
        "id": "wLpgjEuofbdy"
      },
      "outputs": [
        {
          "data": {
            "text/html": [
              "<div>\n",
              "<style scoped>\n",
              "    .dataframe tbody tr th:only-of-type {\n",
              "        vertical-align: middle;\n",
              "    }\n",
              "\n",
              "    .dataframe tbody tr th {\n",
              "        vertical-align: top;\n",
              "    }\n",
              "\n",
              "    .dataframe thead th {\n",
              "        text-align: right;\n",
              "    }\n",
              "</style>\n",
              "<table border=\"1\" class=\"dataframe\">\n",
              "  <thead>\n",
              "    <tr style=\"text-align: right;\">\n",
              "      <th></th>\n",
              "      <th>0</th>\n",
              "      <th>1</th>\n",
              "      <th>2</th>\n",
              "      <th>3</th>\n",
              "      <th>4</th>\n",
              "    </tr>\n",
              "  </thead>\n",
              "  <tbody>\n",
              "    <tr>\n",
              "      <th>id</th>\n",
              "      <td>86246</td>\n",
              "      <td>23412989</td>\n",
              "      <td>50869828</td>\n",
              "      <td>51472749</td>\n",
              "      <td>85811085</td>\n",
              "    </tr>\n",
              "    <tr>\n",
              "      <th>calibration_value</th>\n",
              "      <td>7.59</td>\n",
              "      <td>4.99</td>\n",
              "      <td>4.99</td>\n",
              "      <td>8.29</td>\n",
              "      <td>20.969999</td>\n",
              "    </tr>\n",
              "    <tr>\n",
              "      <th>chain</th>\n",
              "      <td>205</td>\n",
              "      <td>17</td>\n",
              "      <td>17</td>\n",
              "      <td>17</td>\n",
              "      <td>17</td>\n",
              "    </tr>\n",
              "    <tr>\n",
              "      <th>dept</th>\n",
              "      <td>7</td>\n",
              "      <td>7</td>\n",
              "      <td>7</td>\n",
              "      <td>7</td>\n",
              "      <td>7</td>\n",
              "    </tr>\n",
              "    <tr>\n",
              "      <th>category</th>\n",
              "      <td>707</td>\n",
              "      <td>708</td>\n",
              "      <td>708</td>\n",
              "      <td>707</td>\n",
              "      <td>707</td>\n",
              "    </tr>\n",
              "    <tr>\n",
              "      <th>brand</th>\n",
              "      <td>12564</td>\n",
              "      <td>12564</td>\n",
              "      <td>12564</td>\n",
              "      <td>12564</td>\n",
              "      <td>12564</td>\n",
              "    </tr>\n",
              "    <tr>\n",
              "      <th>productmeasure</th>\n",
              "      <td>OZ</td>\n",
              "      <td>OZ</td>\n",
              "      <td>OZ</td>\n",
              "      <td>OZ</td>\n",
              "      <td>OZ</td>\n",
              "    </tr>\n",
              "    <tr>\n",
              "      <th>holdout_value</th>\n",
              "      <td>22.77</td>\n",
              "      <td>0.0</td>\n",
              "      <td>0.0</td>\n",
              "      <td>0.0</td>\n",
              "      <td>0.0</td>\n",
              "    </tr>\n",
              "    <tr>\n",
              "      <th>log_calibration_value</th>\n",
              "      <td>2.026832</td>\n",
              "      <td>1.607436</td>\n",
              "      <td>1.607436</td>\n",
              "      <td>2.11505</td>\n",
              "      <td>3.043093</td>\n",
              "    </tr>\n",
              "    <tr>\n",
              "      <th>label</th>\n",
              "      <td>22.77</td>\n",
              "      <td>0.0</td>\n",
              "      <td>0.0</td>\n",
              "      <td>0.0</td>\n",
              "      <td>0.0</td>\n",
              "    </tr>\n",
              "  </tbody>\n",
              "</table>\n",
              "</div>"
            ],
            "text/plain": [
              "                              0         1         2         3          4\n",
              "id                        86246  23412989  50869828  51472749   85811085\n",
              "calibration_value          7.59      4.99      4.99      8.29  20.969999\n",
              "chain                       205        17        17        17         17\n",
              "dept                          7         7         7         7          7\n",
              "category                    707       708       708       707        707\n",
              "brand                     12564     12564     12564     12564      12564\n",
              "productmeasure               OZ        OZ        OZ        OZ         OZ\n",
              "holdout_value             22.77       0.0       0.0       0.0        0.0\n",
              "log_calibration_value  2.026832  1.607436  1.607436   2.11505   3.043093\n",
              "label                     22.77       0.0       0.0       0.0        0.0"
            ]
          },
          "execution_count": 127,
          "metadata": {},
          "output_type": "execute_result"
        }
      ],
      "source": [
        "customer_level_data.head().T"
      ]
    },
    {
      "cell_type": "markdown",
      "metadata": {
        "id": "slIDJAaTcQeK"
      },
      "source": [
        "## Data"
      ]
    },
    {
      "cell_type": "markdown",
      "metadata": {
        "id": "i4kN0uk4kZ68"
      },
      "source": [
        "### Make train/eval"
      ]
    },
    {
      "cell_type": "code",
      "execution_count": 128,
      "metadata": {
        "id": "JjP5v6NiQfCX"
      },
      "outputs": [],
      "source": [
        "def linear_split(df):\n",
        "  # get_dummies preserves numeric features.\n",
        "  x = pd.get_dummies(df[ALL_FEATURES], drop_first=True).astype('float32').values\n",
        "  y = df['label'].values\n",
        "\n",
        "  x_train, x_eval, y_train, y_eval = model_selection.train_test_split(\n",
        "      x, y, test_size=0.2, random_state=123)\n",
        "\n",
        "  return x_train, x_eval, y_train, y_eval"
      ]
    },
    {
      "cell_type": "code",
      "execution_count": 129,
      "metadata": {
        "id": "KtWXwORJjaP4"
      },
      "outputs": [],
      "source": [
        "def dnn_split(df):\n",
        "  for key in CATEGORICAL_FEATURES:\n",
        "    encoder = preprocessing.LabelEncoder()\n",
        "    df[key] = encoder.fit_transform(df[key])\n",
        "\n",
        "  df_train, df_eval = model_selection.train_test_split(\n",
        "      df, test_size=0.2, random_state=123)\n",
        "\n",
        "  def feature_dict(df):\n",
        "    features = {k: v.values for k, v in dict(df[CATEGORICAL_FEATURES]).items()}\n",
        "    features['numeric'] = df[NUMERIC_FEATURES].values\n",
        "    return features\n",
        "\n",
        "  x_train, y_train = feature_dict(df_train), df_train['label'].values\n",
        "  x_eval, y_eval = feature_dict(df_eval), df_eval['label'].values\n",
        "\n",
        "  return x_train, x_eval, y_train, y_eval"
      ]
    },
    {
      "cell_type": "markdown",
      "metadata": {
        "id": "lqbShWBzR4NE"
      },
      "source": [
        "## Model"
      ]
    },
    {
      "cell_type": "code",
      "execution_count": 130,
      "metadata": {
        "id": "Yh4Y4a89ooP3"
      },
      "outputs": [],
      "source": [
        "def linear_model(output_units):\n",
        "  return tf.keras.experimental.LinearModel(output_units)"
      ]
    },
    {
      "cell_type": "code",
      "execution_count": 131,
      "metadata": {
        "id": "W8yo3HLtrAE_"
      },
      "outputs": [],
      "source": [
        "def embedding_dim(x):\n",
        "  return int(x**.25) + 1\n",
        "\n",
        "\n",
        "def embedding_layer(vocab_size):\n",
        "  return tf.keras.Sequential([\n",
        "      tf.keras.layers.Embedding(\n",
        "          input_dim=vocab_size,\n",
        "          output_dim=embedding_dim(vocab_size),\n",
        "          input_length=1),\n",
        "      tf.keras.layers.Flatten(),\n",
        "  ])\n",
        "\n",
        "\n",
        "def dnn_model(output_units, df):\n",
        "  numeric_input = tf.keras.layers.Input(\n",
        "      shape=(len(NUMERIC_FEATURES),), name='numeric')\n",
        "\n",
        "  embedding_inputs = [\n",
        "      tf.keras.layers.Input(shape=(1,), name=key, dtype=np.int64)\n",
        "      for key in CATEGORICAL_FEATURES\n",
        "  ]\n",
        "\n",
        "  embedding_outputs = [\n",
        "      embedding_layer(vocab_size=df[key].nunique())(input)\n",
        "      for key, input in zip(CATEGORICAL_FEATURES, embedding_inputs)\n",
        "  ]\n",
        "\n",
        "  deep_input = tf.keras.layers.concatenate([numeric_input] + embedding_outputs)\n",
        "  deep_model = tf.keras.Sequential([\n",
        "      tf.keras.layers.Dense(64, activation='relu'),\n",
        "      tf.keras.layers.Dense(32, activation='relu'),\n",
        "      tf.keras.layers.Dense(output_units),\n",
        "  ])\n",
        "  return tf.keras.Model(\n",
        "      inputs=[numeric_input] + embedding_inputs, outputs=deep_model(deep_input))"
      ]
    },
    {
      "cell_type": "markdown",
      "metadata": {
        "id": "U8l-KzZ12fbK"
      },
      "source": [
        "### Train"
      ]
    },
    {
      "cell_type": "code",
      "execution_count": 132,
      "metadata": {
        "id": "45BHY6q7rQmI"
      },
      "outputs": [],
      "source": [
        "if LOSS == 'bce':\n",
        "  loss = keras.losses.BinaryCrossentropy(from_logits=True)\n",
        "  output_units = 1\n",
        "\n",
        "if LOSS == 'ziln':\n",
        "  loss = ltv.zero_inflated_lognormal_loss\n",
        "  output_units = 3"
      ]
    },
    {
      "cell_type": "code",
      "execution_count": 133,
      "metadata": {
        "id": "7Jeou8bGrhll"
      },
      "outputs": [],
      "source": [
        "if MODEL == 'linear':\n",
        "  x_train, x_eval, y_train, y_eval = linear_split(customer_level_data)\n",
        "  model = linear_model(output_units)\n",
        "\n",
        "if MODEL == 'dnn':\n",
        "  x_train, x_eval, y_train, y_eval = dnn_split(customer_level_data)\n",
        "  model = dnn_model(output_units, customer_level_data)"
      ]
    },
    {
      "cell_type": "code",
      "execution_count": 134,
      "metadata": {
        "id": "uF2IdTpAwiZV"
      },
      "outputs": [],
      "source": [
        "if LOSS == 'bce':\n",
        "  y_train = (y_train > 0).astype('float32')\n",
        "  y_eval = (y_eval > 0).astype('float32')"
      ]
    },
    {
      "cell_type": "code",
      "execution_count": 135,
      "metadata": {
        "id": "_GQ-RlIAfT62"
      },
      "outputs": [
        {
          "name": "stderr",
          "output_type": "stream",
          "text": [
            "WARNING:absl:At this time, the v2.11+ optimizer `tf.keras.optimizers.Adam` runs slowly on M1/M2 Macs, please use the legacy Keras optimizer instead, located at `tf.keras.optimizers.legacy.Adam`.\n",
            "WARNING:absl:`lr` is deprecated in Keras optimizer, please use `learning_rate` or use the legacy optimizer, e.g.,tf.keras.optimizers.legacy.Adam.\n",
            "WARNING:absl:There is a known slowdown when using v2.11+ Keras optimizers on M1/M2 Macs. Falling back to the legacy Keras optimizer, i.e., `tf.keras.optimizers.legacy.Adam`.\n"
          ]
        }
      ],
      "source": [
        "model.compile(loss=loss, optimizer=keras.optimizers.Adam(lr=LEARNING_RATE))"
      ]
    },
    {
      "cell_type": "code",
      "execution_count": 136,
      "metadata": {
        "id": "chEIOzq6rlJx"
      },
      "outputs": [],
      "source": [
        "callbacks = [\n",
        "    tf.keras.callbacks.ReduceLROnPlateau(monitor='val_loss', min_lr=1e-6),\n",
        "    tf.keras.callbacks.EarlyStopping(monitor='val_loss', patience=10),\n",
        "]"
      ]
    },
    {
      "cell_type": "code",
      "execution_count": 137,
      "metadata": {
        "id": "-BjnHV7MWhK1"
      },
      "outputs": [
        {
          "name": "stdout",
          "output_type": "stream",
          "text": [
            "Epoch 1/400\n"
          ]
        },
        {
          "name": "stdout",
          "output_type": "stream",
          "text": [
            "9/9 - 0s - loss: 6.3913 - val_loss: 6.2035 - lr: 0.0010 - 277ms/epoch - 31ms/step\n",
            "Epoch 2/400\n",
            "9/9 - 0s - loss: 6.0728 - val_loss: 5.9010 - lr: 0.0010 - 13ms/epoch - 1ms/step\n",
            "Epoch 3/400\n",
            "9/9 - 0s - loss: 5.7866 - val_loss: 5.6319 - lr: 0.0010 - 14ms/epoch - 2ms/step\n",
            "Epoch 4/400\n",
            "9/9 - 0s - loss: 5.5290 - val_loss: 5.3954 - lr: 0.0010 - 12ms/epoch - 1ms/step\n",
            "Epoch 5/400\n",
            "9/9 - 0s - loss: 5.3078 - val_loss: 5.1830 - lr: 0.0010 - 12ms/epoch - 1ms/step\n",
            "Epoch 6/400\n",
            "9/9 - 0s - loss: 5.1063 - val_loss: 4.9957 - lr: 0.0010 - 13ms/epoch - 1ms/step\n",
            "Epoch 7/400\n",
            "9/9 - 0s - loss: 4.9290 - val_loss: 4.8290 - lr: 0.0010 - 13ms/epoch - 1ms/step\n",
            "Epoch 8/400\n",
            "9/9 - 0s - loss: 4.7715 - val_loss: 4.6795 - lr: 0.0010 - 12ms/epoch - 1ms/step\n",
            "Epoch 9/400\n",
            "9/9 - 0s - loss: 4.6289 - val_loss: 4.5461 - lr: 0.0010 - 12ms/epoch - 1ms/step\n",
            "Epoch 10/400\n",
            "9/9 - 0s - loss: 4.5020 - val_loss: 4.4255 - lr: 0.0010 - 12ms/epoch - 1ms/step\n",
            "Epoch 11/400\n",
            "9/9 - 0s - loss: 4.3866 - val_loss: 4.3166 - lr: 0.0010 - 12ms/epoch - 1ms/step\n",
            "Epoch 12/400\n",
            "9/9 - 0s - loss: 4.2818 - val_loss: 4.2179 - lr: 0.0010 - 11ms/epoch - 1ms/step\n",
            "Epoch 13/400\n",
            "9/9 - 0s - loss: 4.1875 - val_loss: 4.1273 - lr: 0.0010 - 12ms/epoch - 1ms/step\n",
            "Epoch 14/400\n",
            "9/9 - 0s - loss: 4.1005 - val_loss: 4.0448 - lr: 0.0010 - 11ms/epoch - 1ms/step\n",
            "Epoch 15/400\n",
            "9/9 - 0s - loss: 4.0209 - val_loss: 3.9691 - lr: 0.0010 - 11ms/epoch - 1ms/step\n",
            "Epoch 16/400\n",
            "9/9 - 0s - loss: 3.9480 - val_loss: 3.8994 - lr: 0.0010 - 11ms/epoch - 1ms/step\n",
            "Epoch 17/400\n",
            "9/9 - 0s - loss: 3.8808 - val_loss: 3.8351 - lr: 0.0010 - 12ms/epoch - 1ms/step\n",
            "Epoch 18/400\n",
            "9/9 - 0s - loss: 3.8185 - val_loss: 3.7756 - lr: 0.0010 - 11ms/epoch - 1ms/step\n",
            "Epoch 19/400\n",
            "9/9 - 0s - loss: 3.7615 - val_loss: 3.7201 - lr: 0.0010 - 11ms/epoch - 1ms/step\n",
            "Epoch 20/400\n",
            "9/9 - 0s - loss: 3.7080 - val_loss: 3.6686 - lr: 0.0010 - 12ms/epoch - 1ms/step\n",
            "Epoch 21/400\n",
            "9/9 - 0s - loss: 3.6587 - val_loss: 3.6205 - lr: 0.0010 - 12ms/epoch - 1ms/step\n",
            "Epoch 22/400\n",
            "9/9 - 0s - loss: 3.6116 - val_loss: 3.5762 - lr: 0.0010 - 11ms/epoch - 1ms/step\n",
            "Epoch 23/400\n",
            "9/9 - 0s - loss: 3.5686 - val_loss: 3.5347 - lr: 0.0010 - 11ms/epoch - 1ms/step\n",
            "Epoch 24/400\n",
            "9/9 - 0s - loss: 3.5284 - val_loss: 3.4957 - lr: 0.0010 - 12ms/epoch - 1ms/step\n",
            "Epoch 25/400\n",
            "9/9 - 0s - loss: 3.4903 - val_loss: 3.4592 - lr: 0.0010 - 11ms/epoch - 1ms/step\n",
            "Epoch 26/400\n",
            "9/9 - 0s - loss: 3.4550 - val_loss: 3.4248 - lr: 0.0010 - 11ms/epoch - 1ms/step\n",
            "Epoch 27/400\n",
            "9/9 - 0s - loss: 3.4216 - val_loss: 3.3925 - lr: 0.0010 - 11ms/epoch - 1ms/step\n",
            "Epoch 28/400\n",
            "9/9 - 0s - loss: 3.3901 - val_loss: 3.3620 - lr: 0.0010 - 12ms/epoch - 1ms/step\n",
            "Epoch 29/400\n",
            "9/9 - 0s - loss: 3.3604 - val_loss: 3.3333 - lr: 0.0010 - 11ms/epoch - 1ms/step\n",
            "Epoch 30/400\n",
            "9/9 - 0s - loss: 3.3324 - val_loss: 3.3062 - lr: 0.0010 - 11ms/epoch - 1ms/step\n",
            "Epoch 31/400\n",
            "9/9 - 0s - loss: 3.3061 - val_loss: 3.2804 - lr: 0.0010 - 12ms/epoch - 1ms/step\n",
            "Epoch 32/400\n",
            "9/9 - 0s - loss: 3.2809 - val_loss: 3.2561 - lr: 0.0010 - 12ms/epoch - 1ms/step\n",
            "Epoch 33/400\n",
            "9/9 - 0s - loss: 3.2573 - val_loss: 3.2329 - lr: 0.0010 - 11ms/epoch - 1ms/step\n",
            "Epoch 34/400\n",
            "9/9 - 0s - loss: 3.2345 - val_loss: 3.2111 - lr: 0.0010 - 12ms/epoch - 1ms/step\n",
            "Epoch 35/400\n",
            "9/9 - 0s - loss: 3.2134 - val_loss: 3.1903 - lr: 0.0010 - 11ms/epoch - 1ms/step\n",
            "Epoch 36/400\n",
            "9/9 - 0s - loss: 3.1932 - val_loss: 3.1703 - lr: 0.0010 - 11ms/epoch - 1ms/step\n",
            "Epoch 37/400\n",
            "9/9 - 0s - loss: 3.1736 - val_loss: 3.1516 - lr: 0.0010 - 11ms/epoch - 1ms/step\n",
            "Epoch 38/400\n",
            "9/9 - 0s - loss: 3.1553 - val_loss: 3.1336 - lr: 0.0010 - 12ms/epoch - 1ms/step\n",
            "Epoch 39/400\n",
            "9/9 - 0s - loss: 3.1376 - val_loss: 3.1165 - lr: 0.0010 - 11ms/epoch - 1ms/step\n",
            "Epoch 40/400\n",
            "9/9 - 0s - loss: 3.1208 - val_loss: 3.1002 - lr: 0.0010 - 11ms/epoch - 1ms/step\n",
            "Epoch 41/400\n",
            "9/9 - 0s - loss: 3.1049 - val_loss: 3.0846 - lr: 0.0010 - 11ms/epoch - 1ms/step\n",
            "Epoch 42/400\n",
            "9/9 - 0s - loss: 3.0895 - val_loss: 3.0696 - lr: 0.0010 - 11ms/epoch - 1ms/step\n",
            "Epoch 43/400\n",
            "9/9 - 0s - loss: 3.0749 - val_loss: 3.0553 - lr: 0.0010 - 11ms/epoch - 1ms/step\n",
            "Epoch 44/400\n",
            "9/9 - 0s - loss: 3.0609 - val_loss: 3.0416 - lr: 0.0010 - 11ms/epoch - 1ms/step\n",
            "Epoch 45/400\n",
            "9/9 - 0s - loss: 3.0475 - val_loss: 3.0284 - lr: 0.0010 - 12ms/epoch - 1ms/step\n",
            "Epoch 46/400\n",
            "9/9 - 0s - loss: 3.0344 - val_loss: 3.0158 - lr: 0.0010 - 11ms/epoch - 1ms/step\n",
            "Epoch 47/400\n",
            "9/9 - 0s - loss: 3.0222 - val_loss: 3.0036 - lr: 0.0010 - 11ms/epoch - 1ms/step\n",
            "Epoch 48/400\n",
            "9/9 - 0s - loss: 3.0102 - val_loss: 2.9919 - lr: 0.0010 - 11ms/epoch - 1ms/step\n",
            "Epoch 49/400\n",
            "9/9 - 0s - loss: 2.9988 - val_loss: 2.9807 - lr: 0.0010 - 11ms/epoch - 1ms/step\n",
            "Epoch 50/400\n",
            "9/9 - 0s - loss: 2.9877 - val_loss: 2.9700 - lr: 0.0010 - 11ms/epoch - 1ms/step\n",
            "Epoch 51/400\n",
            "9/9 - 0s - loss: 2.9772 - val_loss: 2.9596 - lr: 0.0010 - 11ms/epoch - 1ms/step\n",
            "Epoch 52/400\n",
            "9/9 - 0s - loss: 2.9670 - val_loss: 2.9496 - lr: 0.0010 - 12ms/epoch - 1ms/step\n",
            "Epoch 53/400\n",
            "9/9 - 0s - loss: 2.9572 - val_loss: 2.9400 - lr: 0.0010 - 11ms/epoch - 1ms/step\n",
            "Epoch 54/400\n",
            "9/9 - 0s - loss: 2.9476 - val_loss: 2.9307 - lr: 0.0010 - 11ms/epoch - 1ms/step\n",
            "Epoch 55/400\n",
            "9/9 - 0s - loss: 2.9385 - val_loss: 2.9218 - lr: 0.0010 - 11ms/epoch - 1ms/step\n",
            "Epoch 56/400\n",
            "9/9 - 0s - loss: 2.9297 - val_loss: 2.9131 - lr: 0.0010 - 11ms/epoch - 1ms/step\n",
            "Epoch 57/400\n",
            "9/9 - 0s - loss: 2.9212 - val_loss: 2.9047 - lr: 0.0010 - 12ms/epoch - 1ms/step\n",
            "Epoch 58/400\n",
            "9/9 - 0s - loss: 2.9129 - val_loss: 2.8966 - lr: 0.0010 - 13ms/epoch - 1ms/step\n",
            "Epoch 59/400\n",
            "9/9 - 0s - loss: 2.9049 - val_loss: 2.8887 - lr: 0.0010 - 12ms/epoch - 1ms/step\n",
            "Epoch 60/400\n",
            "9/9 - 0s - loss: 2.8972 - val_loss: 2.8811 - lr: 0.0010 - 11ms/epoch - 1ms/step\n",
            "Epoch 61/400\n",
            "9/9 - 0s - loss: 2.8897 - val_loss: 2.8739 - lr: 0.0010 - 11ms/epoch - 1ms/step\n",
            "Epoch 62/400\n",
            "9/9 - 0s - loss: 2.8825 - val_loss: 2.8668 - lr: 0.0010 - 12ms/epoch - 1ms/step\n",
            "Epoch 63/400\n",
            "9/9 - 0s - loss: 2.8755 - val_loss: 2.8599 - lr: 0.0010 - 11ms/epoch - 1ms/step\n",
            "Epoch 64/400\n",
            "9/9 - 0s - loss: 2.8687 - val_loss: 2.8532 - lr: 0.0010 - 11ms/epoch - 1ms/step\n",
            "Epoch 65/400\n",
            "9/9 - 0s - loss: 2.8621 - val_loss: 2.8467 - lr: 0.0010 - 11ms/epoch - 1ms/step\n",
            "Epoch 66/400\n",
            "9/9 - 0s - loss: 2.8558 - val_loss: 2.8404 - lr: 0.0010 - 11ms/epoch - 1ms/step\n",
            "Epoch 67/400\n",
            "9/9 - 0s - loss: 2.8495 - val_loss: 2.8343 - lr: 0.0010 - 12ms/epoch - 1ms/step\n",
            "Epoch 68/400\n",
            "9/9 - 0s - loss: 2.8435 - val_loss: 2.8284 - lr: 0.0010 - 11ms/epoch - 1ms/step\n",
            "Epoch 69/400\n",
            "9/9 - 0s - loss: 2.8376 - val_loss: 2.8226 - lr: 0.0010 - 11ms/epoch - 1ms/step\n",
            "Epoch 70/400\n",
            "9/9 - 0s - loss: 2.8319 - val_loss: 2.8170 - lr: 0.0010 - 11ms/epoch - 1ms/step\n",
            "Epoch 71/400\n",
            "9/9 - 0s - loss: 2.8264 - val_loss: 2.8115 - lr: 0.0010 - 12ms/epoch - 1ms/step\n",
            "Epoch 72/400\n",
            "9/9 - 0s - loss: 2.8210 - val_loss: 2.8062 - lr: 0.0010 - 12ms/epoch - 1ms/step\n",
            "Epoch 73/400\n",
            "9/9 - 0s - loss: 2.8157 - val_loss: 2.8010 - lr: 0.0010 - 12ms/epoch - 1ms/step\n",
            "Epoch 74/400\n",
            "9/9 - 0s - loss: 2.8106 - val_loss: 2.7960 - lr: 0.0010 - 13ms/epoch - 1ms/step\n",
            "Epoch 75/400\n",
            "9/9 - 0s - loss: 2.8056 - val_loss: 2.7911 - lr: 0.0010 - 15ms/epoch - 2ms/step\n",
            "Epoch 76/400\n",
            "9/9 - 0s - loss: 2.8008 - val_loss: 2.7863 - lr: 0.0010 - 34ms/epoch - 4ms/step\n",
            "Epoch 77/400\n",
            "9/9 - 0s - loss: 2.7961 - val_loss: 2.7816 - lr: 0.0010 - 19ms/epoch - 2ms/step\n",
            "Epoch 78/400\n",
            "9/9 - 0s - loss: 2.7914 - val_loss: 2.7771 - lr: 0.0010 - 15ms/epoch - 2ms/step\n",
            "Epoch 79/400\n",
            "9/9 - 0s - loss: 2.7869 - val_loss: 2.7727 - lr: 0.0010 - 13ms/epoch - 1ms/step\n",
            "Epoch 80/400\n",
            "9/9 - 0s - loss: 2.7826 - val_loss: 2.7683 - lr: 0.0010 - 12ms/epoch - 1ms/step\n",
            "Epoch 81/400\n",
            "9/9 - 0s - loss: 2.7783 - val_loss: 2.7641 - lr: 0.0010 - 12ms/epoch - 1ms/step\n",
            "Epoch 82/400\n",
            "9/9 - 0s - loss: 2.7741 - val_loss: 2.7600 - lr: 0.0010 - 11ms/epoch - 1ms/step\n",
            "Epoch 83/400\n",
            "9/9 - 0s - loss: 2.7700 - val_loss: 2.7559 - lr: 0.0010 - 12ms/epoch - 1ms/step\n",
            "Epoch 84/400\n",
            "9/9 - 0s - loss: 2.7660 - val_loss: 2.7520 - lr: 0.0010 - 12ms/epoch - 1ms/step\n",
            "Epoch 85/400\n",
            "9/9 - 0s - loss: 2.7621 - val_loss: 2.7481 - lr: 0.0010 - 11ms/epoch - 1ms/step\n",
            "Epoch 86/400\n",
            "9/9 - 0s - loss: 2.7583 - val_loss: 2.7444 - lr: 0.0010 - 11ms/epoch - 1ms/step\n",
            "Epoch 87/400\n",
            "9/9 - 0s - loss: 2.7545 - val_loss: 2.7407 - lr: 0.0010 - 12ms/epoch - 1ms/step\n",
            "Epoch 88/400\n",
            "9/9 - 0s - loss: 2.7509 - val_loss: 2.7370 - lr: 0.0010 - 11ms/epoch - 1ms/step\n",
            "Epoch 89/400\n",
            "9/9 - 0s - loss: 2.7473 - val_loss: 2.7335 - lr: 0.0010 - 12ms/epoch - 1ms/step\n",
            "Epoch 90/400\n",
            "9/9 - 0s - loss: 2.7438 - val_loss: 2.7300 - lr: 0.0010 - 12ms/epoch - 1ms/step\n",
            "Epoch 91/400\n",
            "9/9 - 0s - loss: 2.7404 - val_loss: 2.7267 - lr: 0.0010 - 12ms/epoch - 1ms/step\n",
            "Epoch 92/400\n",
            "9/9 - 0s - loss: 2.7370 - val_loss: 2.7233 - lr: 0.0010 - 12ms/epoch - 1ms/step\n",
            "Epoch 93/400\n",
            "9/9 - 0s - loss: 2.7337 - val_loss: 2.7201 - lr: 0.0010 - 12ms/epoch - 1ms/step\n",
            "Epoch 94/400\n",
            "9/9 - 0s - loss: 2.7305 - val_loss: 2.7169 - lr: 0.0010 - 11ms/epoch - 1ms/step\n",
            "Epoch 95/400\n",
            "9/9 - 0s - loss: 2.7273 - val_loss: 2.7138 - lr: 0.0010 - 12ms/epoch - 1ms/step\n",
            "Epoch 96/400\n",
            "9/9 - 0s - loss: 2.7242 - val_loss: 2.7107 - lr: 0.0010 - 12ms/epoch - 1ms/step\n",
            "Epoch 97/400\n",
            "9/9 - 0s - loss: 2.7212 - val_loss: 2.7077 - lr: 0.0010 - 11ms/epoch - 1ms/step\n",
            "Epoch 98/400\n",
            "9/9 - 0s - loss: 2.7182 - val_loss: 2.7048 - lr: 0.0010 - 11ms/epoch - 1ms/step\n",
            "Epoch 99/400\n",
            "9/9 - 0s - loss: 2.7153 - val_loss: 2.7019 - lr: 0.0010 - 12ms/epoch - 1ms/step\n",
            "Epoch 100/400\n",
            "9/9 - 0s - loss: 2.7124 - val_loss: 2.6990 - lr: 0.0010 - 11ms/epoch - 1ms/step\n",
            "Epoch 101/400\n",
            "9/9 - 0s - loss: 2.7096 - val_loss: 2.6962 - lr: 0.0010 - 11ms/epoch - 1ms/step\n",
            "Epoch 102/400\n",
            "9/9 - 0s - loss: 2.7068 - val_loss: 2.6935 - lr: 0.0010 - 11ms/epoch - 1ms/step\n",
            "Epoch 103/400\n",
            "9/9 - 0s - loss: 2.7041 - val_loss: 2.6908 - lr: 0.0010 - 12ms/epoch - 1ms/step\n",
            "Epoch 104/400\n",
            "9/9 - 0s - loss: 2.7014 - val_loss: 2.6881 - lr: 0.0010 - 12ms/epoch - 1ms/step\n",
            "Epoch 105/400\n",
            "9/9 - 0s - loss: 2.6988 - val_loss: 2.6855 - lr: 0.0010 - 12ms/epoch - 1ms/step\n",
            "Epoch 106/400\n",
            "9/9 - 0s - loss: 2.6962 - val_loss: 2.6830 - lr: 0.0010 - 12ms/epoch - 1ms/step\n",
            "Epoch 107/400\n",
            "9/9 - 0s - loss: 2.6936 - val_loss: 2.6805 - lr: 0.0010 - 11ms/epoch - 1ms/step\n",
            "Epoch 108/400\n",
            "9/9 - 0s - loss: 2.6912 - val_loss: 2.6780 - lr: 0.0010 - 11ms/epoch - 1ms/step\n",
            "Epoch 109/400\n",
            "9/9 - 0s - loss: 2.6887 - val_loss: 2.6756 - lr: 0.0010 - 11ms/epoch - 1ms/step\n",
            "Epoch 110/400\n",
            "9/9 - 0s - loss: 2.6863 - val_loss: 2.6732 - lr: 0.0010 - 12ms/epoch - 1ms/step\n",
            "Epoch 111/400\n",
            "9/9 - 0s - loss: 2.6839 - val_loss: 2.6708 - lr: 0.0010 - 11ms/epoch - 1ms/step\n",
            "Epoch 112/400\n",
            "9/9 - 0s - loss: 2.6816 - val_loss: 2.6685 - lr: 0.0010 - 11ms/epoch - 1ms/step\n",
            "Epoch 113/400\n",
            "9/9 - 0s - loss: 2.6793 - val_loss: 2.6662 - lr: 0.0010 - 11ms/epoch - 1ms/step\n",
            "Epoch 114/400\n",
            "9/9 - 0s - loss: 2.6770 - val_loss: 2.6640 - lr: 0.0010 - 11ms/epoch - 1ms/step\n",
            "Epoch 115/400\n",
            "9/9 - 0s - loss: 2.6748 - val_loss: 2.6618 - lr: 0.0010 - 11ms/epoch - 1ms/step\n",
            "Epoch 116/400\n",
            "9/9 - 0s - loss: 2.6726 - val_loss: 2.6596 - lr: 0.0010 - 11ms/epoch - 1ms/step\n",
            "Epoch 117/400\n",
            "9/9 - 0s - loss: 2.6705 - val_loss: 2.6575 - lr: 0.0010 - 11ms/epoch - 1ms/step\n",
            "Epoch 118/400\n",
            "9/9 - 0s - loss: 2.6683 - val_loss: 2.6554 - lr: 0.0010 - 11ms/epoch - 1ms/step\n",
            "Epoch 119/400\n",
            "9/9 - 0s - loss: 2.6663 - val_loss: 2.6533 - lr: 0.0010 - 11ms/epoch - 1ms/step\n",
            "Epoch 120/400\n",
            "9/9 - 0s - loss: 2.6642 - val_loss: 2.6512 - lr: 0.0010 - 12ms/epoch - 1ms/step\n",
            "Epoch 121/400\n",
            "9/9 - 0s - loss: 2.6622 - val_loss: 2.6492 - lr: 0.0010 - 11ms/epoch - 1ms/step\n",
            "Epoch 122/400\n",
            "9/9 - 0s - loss: 2.6602 - val_loss: 2.6473 - lr: 0.0010 - 12ms/epoch - 1ms/step\n",
            "Epoch 123/400\n",
            "9/9 - 0s - loss: 2.6582 - val_loss: 2.6453 - lr: 0.0010 - 11ms/epoch - 1ms/step\n",
            "Epoch 124/400\n",
            "9/9 - 0s - loss: 2.6562 - val_loss: 2.6434 - lr: 0.0010 - 12ms/epoch - 1ms/step\n",
            "Epoch 125/400\n",
            "9/9 - 0s - loss: 2.6543 - val_loss: 2.6415 - lr: 0.0010 - 11ms/epoch - 1ms/step\n",
            "Epoch 126/400\n",
            "9/9 - 0s - loss: 2.6525 - val_loss: 2.6396 - lr: 0.0010 - 11ms/epoch - 1ms/step\n",
            "Epoch 127/400\n",
            "9/9 - 0s - loss: 2.6506 - val_loss: 2.6378 - lr: 0.0010 - 11ms/epoch - 1ms/step\n",
            "Epoch 128/400\n",
            "9/9 - 0s - loss: 2.6488 - val_loss: 2.6360 - lr: 0.0010 - 11ms/epoch - 1ms/step\n",
            "Epoch 129/400\n",
            "9/9 - 0s - loss: 2.6470 - val_loss: 2.6342 - lr: 0.0010 - 12ms/epoch - 1ms/step\n",
            "Epoch 130/400\n",
            "9/9 - 0s - loss: 2.6452 - val_loss: 2.6324 - lr: 0.0010 - 12ms/epoch - 1ms/step\n",
            "Epoch 131/400\n",
            "9/9 - 0s - loss: 2.6435 - val_loss: 2.6307 - lr: 0.0010 - 12ms/epoch - 1ms/step\n",
            "Epoch 132/400\n",
            "9/9 - 0s - loss: 2.6417 - val_loss: 2.6290 - lr: 0.0010 - 11ms/epoch - 1ms/step\n",
            "Epoch 133/400\n",
            "9/9 - 0s - loss: 2.6400 - val_loss: 2.6273 - lr: 0.0010 - 11ms/epoch - 1ms/step\n",
            "Epoch 134/400\n",
            "9/9 - 0s - loss: 2.6384 - val_loss: 2.6256 - lr: 0.0010 - 11ms/epoch - 1ms/step\n",
            "Epoch 135/400\n",
            "9/9 - 0s - loss: 2.6367 - val_loss: 2.6240 - lr: 0.0010 - 11ms/epoch - 1ms/step\n",
            "Epoch 136/400\n",
            "9/9 - 0s - loss: 2.6351 - val_loss: 2.6224 - lr: 0.0010 - 11ms/epoch - 1ms/step\n",
            "Epoch 137/400\n",
            "9/9 - 0s - loss: 2.6335 - val_loss: 2.6208 - lr: 0.0010 - 11ms/epoch - 1ms/step\n",
            "Epoch 138/400\n",
            "9/9 - 0s - loss: 2.6319 - val_loss: 2.6192 - lr: 0.0010 - 12ms/epoch - 1ms/step\n",
            "Epoch 139/400\n",
            "9/9 - 0s - loss: 2.6303 - val_loss: 2.6176 - lr: 0.0010 - 11ms/epoch - 1ms/step\n",
            "Epoch 140/400\n",
            "9/9 - 0s - loss: 2.6288 - val_loss: 2.6161 - lr: 0.0010 - 11ms/epoch - 1ms/step\n",
            "Epoch 141/400\n",
            "9/9 - 0s - loss: 2.6273 - val_loss: 2.6146 - lr: 0.0010 - 11ms/epoch - 1ms/step\n",
            "Epoch 142/400\n",
            "9/9 - 0s - loss: 2.6258 - val_loss: 2.6131 - lr: 0.0010 - 11ms/epoch - 1ms/step\n",
            "Epoch 143/400\n",
            "9/9 - 0s - loss: 2.6243 - val_loss: 2.6116 - lr: 0.0010 - 11ms/epoch - 1ms/step\n",
            "Epoch 144/400\n",
            "9/9 - 0s - loss: 2.6228 - val_loss: 2.6102 - lr: 0.0010 - 12ms/epoch - 1ms/step\n",
            "Epoch 145/400\n",
            "9/9 - 0s - loss: 2.6214 - val_loss: 2.6088 - lr: 0.0010 - 11ms/epoch - 1ms/step\n",
            "Epoch 146/400\n",
            "9/9 - 0s - loss: 2.6200 - val_loss: 2.6074 - lr: 0.0010 - 11ms/epoch - 1ms/step\n",
            "Epoch 147/400\n",
            "9/9 - 0s - loss: 2.6186 - val_loss: 2.6060 - lr: 0.0010 - 11ms/epoch - 1ms/step\n",
            "Epoch 148/400\n",
            "9/9 - 0s - loss: 2.6172 - val_loss: 2.6046 - lr: 0.0010 - 12ms/epoch - 1ms/step\n",
            "Epoch 149/400\n",
            "9/9 - 0s - loss: 2.6159 - val_loss: 2.6032 - lr: 0.0010 - 11ms/epoch - 1ms/step\n",
            "Epoch 150/400\n",
            "9/9 - 0s - loss: 2.6145 - val_loss: 2.6019 - lr: 0.0010 - 11ms/epoch - 1ms/step\n",
            "Epoch 151/400\n",
            "9/9 - 0s - loss: 2.6132 - val_loss: 2.6006 - lr: 0.0010 - 12ms/epoch - 1ms/step\n",
            "Epoch 152/400\n",
            "9/9 - 0s - loss: 2.6119 - val_loss: 2.5993 - lr: 0.0010 - 11ms/epoch - 1ms/step\n",
            "Epoch 153/400\n",
            "9/9 - 0s - loss: 2.6106 - val_loss: 2.5980 - lr: 0.0010 - 11ms/epoch - 1ms/step\n",
            "Epoch 154/400\n",
            "9/9 - 0s - loss: 2.6094 - val_loss: 2.5968 - lr: 0.0010 - 11ms/epoch - 1ms/step\n",
            "Epoch 155/400\n",
            "9/9 - 0s - loss: 2.6081 - val_loss: 2.5956 - lr: 0.0010 - 11ms/epoch - 1ms/step\n",
            "Epoch 156/400\n",
            "9/9 - 0s - loss: 2.6069 - val_loss: 2.5943 - lr: 0.0010 - 11ms/epoch - 1ms/step\n",
            "Epoch 157/400\n",
            "9/9 - 0s - loss: 2.6057 - val_loss: 2.5931 - lr: 0.0010 - 11ms/epoch - 1ms/step\n",
            "Epoch 158/400\n",
            "9/9 - 0s - loss: 2.6045 - val_loss: 2.5920 - lr: 0.0010 - 12ms/epoch - 1ms/step\n",
            "Epoch 159/400\n",
            "9/9 - 0s - loss: 2.6033 - val_loss: 2.5908 - lr: 0.0010 - 12ms/epoch - 1ms/step\n",
            "Epoch 160/400\n",
            "9/9 - 0s - loss: 2.6022 - val_loss: 2.5896 - lr: 0.0010 - 11ms/epoch - 1ms/step\n",
            "Epoch 161/400\n",
            "9/9 - 0s - loss: 2.6011 - val_loss: 2.5885 - lr: 0.0010 - 11ms/epoch - 1ms/step\n",
            "Epoch 162/400\n",
            "9/9 - 0s - loss: 2.5999 - val_loss: 2.5874 - lr: 0.0010 - 11ms/epoch - 1ms/step\n",
            "Epoch 163/400\n",
            "9/9 - 0s - loss: 2.5988 - val_loss: 2.5863 - lr: 0.0010 - 11ms/epoch - 1ms/step\n",
            "Epoch 164/400\n",
            "9/9 - 0s - loss: 2.5978 - val_loss: 2.5852 - lr: 0.0010 - 11ms/epoch - 1ms/step\n",
            "Epoch 165/400\n",
            "9/9 - 0s - loss: 2.5967 - val_loss: 2.5842 - lr: 0.0010 - 11ms/epoch - 1ms/step\n",
            "Epoch 166/400\n",
            "9/9 - 0s - loss: 2.5956 - val_loss: 2.5831 - lr: 0.0010 - 11ms/epoch - 1ms/step\n",
            "Epoch 167/400\n",
            "9/9 - 0s - loss: 2.5946 - val_loss: 2.5821 - lr: 0.0010 - 12ms/epoch - 1ms/step\n",
            "Epoch 168/400\n",
            "9/9 - 0s - loss: 2.5936 - val_loss: 2.5811 - lr: 0.0010 - 11ms/epoch - 1ms/step\n",
            "Epoch 169/400\n",
            "9/9 - 0s - loss: 2.5926 - val_loss: 2.5801 - lr: 0.0010 - 11ms/epoch - 1ms/step\n",
            "Epoch 170/400\n",
            "9/9 - 0s - loss: 2.5916 - val_loss: 2.5791 - lr: 0.0010 - 11ms/epoch - 1ms/step\n",
            "Epoch 171/400\n",
            "9/9 - 0s - loss: 2.5906 - val_loss: 2.5781 - lr: 0.0010 - 11ms/epoch - 1ms/step\n",
            "Epoch 172/400\n",
            "9/9 - 0s - loss: 2.5897 - val_loss: 2.5772 - lr: 0.0010 - 11ms/epoch - 1ms/step\n",
            "Epoch 173/400\n",
            "9/9 - 0s - loss: 2.5887 - val_loss: 2.5763 - lr: 0.0010 - 11ms/epoch - 1ms/step\n",
            "Epoch 174/400\n",
            "9/9 - 0s - loss: 2.5878 - val_loss: 2.5753 - lr: 0.0010 - 11ms/epoch - 1ms/step\n",
            "Epoch 175/400\n",
            "9/9 - 0s - loss: 2.5869 - val_loss: 2.5744 - lr: 0.0010 - 11ms/epoch - 1ms/step\n",
            "Epoch 176/400\n",
            "9/9 - 0s - loss: 2.5860 - val_loss: 2.5735 - lr: 0.0010 - 11ms/epoch - 1ms/step\n",
            "Epoch 177/400\n",
            "9/9 - 0s - loss: 2.5851 - val_loss: 2.5726 - lr: 0.0010 - 11ms/epoch - 1ms/step\n",
            "Epoch 178/400\n",
            "9/9 - 0s - loss: 2.5843 - val_loss: 2.5718 - lr: 0.0010 - 12ms/epoch - 1ms/step\n",
            "Epoch 179/400\n",
            "9/9 - 0s - loss: 2.5834 - val_loss: 2.5709 - lr: 0.0010 - 11ms/epoch - 1ms/step\n",
            "Epoch 180/400\n",
            "9/9 - 0s - loss: 2.5826 - val_loss: 2.5701 - lr: 0.0010 - 11ms/epoch - 1ms/step\n",
            "Epoch 181/400\n",
            "9/9 - 0s - loss: 2.5818 - val_loss: 2.5693 - lr: 0.0010 - 11ms/epoch - 1ms/step\n",
            "Epoch 182/400\n",
            "9/9 - 0s - loss: 2.5810 - val_loss: 2.5685 - lr: 0.0010 - 11ms/epoch - 1ms/step\n",
            "Epoch 183/400\n",
            "9/9 - 0s - loss: 2.5801 - val_loss: 2.5677 - lr: 0.0010 - 11ms/epoch - 1ms/step\n",
            "Epoch 184/400\n",
            "9/9 - 0s - loss: 2.5794 - val_loss: 2.5669 - lr: 0.0010 - 12ms/epoch - 1ms/step\n",
            "Epoch 185/400\n",
            "9/9 - 0s - loss: 2.5786 - val_loss: 2.5662 - lr: 0.0010 - 11ms/epoch - 1ms/step\n",
            "Epoch 186/400\n",
            "9/9 - 0s - loss: 2.5778 - val_loss: 2.5654 - lr: 0.0010 - 22ms/epoch - 2ms/step\n",
            "Epoch 187/400\n",
            "9/9 - 0s - loss: 2.5771 - val_loss: 2.5647 - lr: 0.0010 - 17ms/epoch - 2ms/step\n",
            "Epoch 188/400\n",
            "9/9 - 0s - loss: 2.5764 - val_loss: 2.5640 - lr: 0.0010 - 12ms/epoch - 1ms/step\n",
            "Epoch 189/400\n",
            "9/9 - 0s - loss: 2.5757 - val_loss: 2.5632 - lr: 0.0010 - 12ms/epoch - 1ms/step\n",
            "Epoch 190/400\n",
            "9/9 - 0s - loss: 2.5750 - val_loss: 2.5625 - lr: 0.0010 - 11ms/epoch - 1ms/step\n",
            "Epoch 191/400\n",
            "9/9 - 0s - loss: 2.5743 - val_loss: 2.5619 - lr: 0.0010 - 11ms/epoch - 1ms/step\n",
            "Epoch 192/400\n",
            "9/9 - 0s - loss: 2.5736 - val_loss: 2.5612 - lr: 0.0010 - 11ms/epoch - 1ms/step\n",
            "Epoch 193/400\n",
            "9/9 - 0s - loss: 2.5729 - val_loss: 2.5605 - lr: 0.0010 - 11ms/epoch - 1ms/step\n",
            "Epoch 194/400\n",
            "9/9 - 0s - loss: 2.5723 - val_loss: 2.5599 - lr: 0.0010 - 11ms/epoch - 1ms/step\n",
            "Epoch 195/400\n",
            "9/9 - 0s - loss: 2.5716 - val_loss: 2.5592 - lr: 0.0010 - 11ms/epoch - 1ms/step\n",
            "Epoch 196/400\n",
            "9/9 - 0s - loss: 2.5710 - val_loss: 2.5586 - lr: 0.0010 - 12ms/epoch - 1ms/step\n",
            "Epoch 197/400\n",
            "9/9 - 0s - loss: 2.5704 - val_loss: 2.5580 - lr: 0.0010 - 11ms/epoch - 1ms/step\n",
            "Epoch 198/400\n",
            "9/9 - 0s - loss: 2.5697 - val_loss: 2.5574 - lr: 0.0010 - 11ms/epoch - 1ms/step\n",
            "Epoch 199/400\n",
            "9/9 - 0s - loss: 2.5691 - val_loss: 2.5568 - lr: 0.0010 - 12ms/epoch - 1ms/step\n",
            "Epoch 200/400\n",
            "9/9 - 0s - loss: 2.5686 - val_loss: 2.5562 - lr: 0.0010 - 11ms/epoch - 1ms/step\n",
            "Epoch 201/400\n",
            "9/9 - 0s - loss: 2.5680 - val_loss: 2.5556 - lr: 0.0010 - 11ms/epoch - 1ms/step\n",
            "Epoch 202/400\n",
            "9/9 - 0s - loss: 2.5674 - val_loss: 2.5551 - lr: 0.0010 - 11ms/epoch - 1ms/step\n",
            "Epoch 203/400\n",
            "9/9 - 0s - loss: 2.5668 - val_loss: 2.5545 - lr: 0.0010 - 11ms/epoch - 1ms/step\n",
            "Epoch 204/400\n",
            "9/9 - 0s - loss: 2.5663 - val_loss: 2.5540 - lr: 0.0010 - 11ms/epoch - 1ms/step\n",
            "Epoch 205/400\n",
            "9/9 - 0s - loss: 2.5658 - val_loss: 2.5535 - lr: 0.0010 - 11ms/epoch - 1ms/step\n",
            "Epoch 206/400\n",
            "9/9 - 0s - loss: 2.5652 - val_loss: 2.5529 - lr: 0.0010 - 11ms/epoch - 1ms/step\n",
            "Epoch 207/400\n",
            "9/9 - 0s - loss: 2.5647 - val_loss: 2.5524 - lr: 0.0010 - 11ms/epoch - 1ms/step\n",
            "Epoch 208/400\n",
            "9/9 - 0s - loss: 2.5642 - val_loss: 2.5519 - lr: 0.0010 - 11ms/epoch - 1ms/step\n",
            "Epoch 209/400\n",
            "9/9 - 0s - loss: 2.5637 - val_loss: 2.5514 - lr: 0.0010 - 11ms/epoch - 1ms/step\n",
            "Epoch 210/400\n",
            "9/9 - 0s - loss: 2.5632 - val_loss: 2.5509 - lr: 0.0010 - 11ms/epoch - 1ms/step\n",
            "Epoch 211/400\n",
            "9/9 - 0s - loss: 2.5627 - val_loss: 2.5505 - lr: 0.0010 - 11ms/epoch - 1ms/step\n",
            "Epoch 212/400\n",
            "9/9 - 0s - loss: 2.5622 - val_loss: 2.5500 - lr: 0.0010 - 11ms/epoch - 1ms/step\n",
            "Epoch 213/400\n",
            "9/9 - 0s - loss: 2.5618 - val_loss: 2.5495 - lr: 0.0010 - 11ms/epoch - 1ms/step\n",
            "Epoch 214/400\n",
            "9/9 - 0s - loss: 2.5613 - val_loss: 2.5491 - lr: 0.0010 - 12ms/epoch - 1ms/step\n",
            "Epoch 215/400\n",
            "9/9 - 0s - loss: 2.5609 - val_loss: 2.5486 - lr: 0.0010 - 11ms/epoch - 1ms/step\n",
            "Epoch 216/400\n",
            "9/9 - 0s - loss: 2.5604 - val_loss: 2.5482 - lr: 0.0010 - 11ms/epoch - 1ms/step\n",
            "Epoch 217/400\n",
            "9/9 - 0s - loss: 2.5600 - val_loss: 2.5478 - lr: 0.0010 - 12ms/epoch - 1ms/step\n",
            "Epoch 218/400\n",
            "9/9 - 0s - loss: 2.5596 - val_loss: 2.5474 - lr: 0.0010 - 11ms/epoch - 1ms/step\n",
            "Epoch 219/400\n",
            "9/9 - 0s - loss: 2.5591 - val_loss: 2.5470 - lr: 0.0010 - 13ms/epoch - 1ms/step\n",
            "Epoch 220/400\n",
            "9/9 - 0s - loss: 2.5587 - val_loss: 2.5466 - lr: 0.0010 - 12ms/epoch - 1ms/step\n",
            "Epoch 221/400\n",
            "9/9 - 0s - loss: 2.5583 - val_loss: 2.5462 - lr: 0.0010 - 12ms/epoch - 1ms/step\n",
            "Epoch 222/400\n",
            "9/9 - 0s - loss: 2.5579 - val_loss: 2.5458 - lr: 0.0010 - 11ms/epoch - 1ms/step\n",
            "Epoch 223/400\n",
            "9/9 - 0s - loss: 2.5575 - val_loss: 2.5454 - lr: 0.0010 - 11ms/epoch - 1ms/step\n",
            "Epoch 224/400\n",
            "9/9 - 0s - loss: 2.5571 - val_loss: 2.5450 - lr: 0.0010 - 12ms/epoch - 1ms/step\n",
            "Epoch 225/400\n",
            "9/9 - 0s - loss: 2.5568 - val_loss: 2.5447 - lr: 0.0010 - 12ms/epoch - 1ms/step\n",
            "Epoch 226/400\n",
            "9/9 - 0s - loss: 2.5564 - val_loss: 2.5443 - lr: 0.0010 - 11ms/epoch - 1ms/step\n",
            "Epoch 227/400\n",
            "9/9 - 0s - loss: 2.5560 - val_loss: 2.5440 - lr: 0.0010 - 12ms/epoch - 1ms/step\n",
            "Epoch 228/400\n",
            "9/9 - 0s - loss: 2.5557 - val_loss: 2.5436 - lr: 0.0010 - 12ms/epoch - 1ms/step\n",
            "Epoch 229/400\n",
            "9/9 - 0s - loss: 2.5553 - val_loss: 2.5433 - lr: 0.0010 - 11ms/epoch - 1ms/step\n",
            "Epoch 230/400\n",
            "9/9 - 0s - loss: 2.5550 - val_loss: 2.5429 - lr: 0.0010 - 11ms/epoch - 1ms/step\n",
            "Epoch 231/400\n",
            "9/9 - 0s - loss: 2.5546 - val_loss: 2.5426 - lr: 0.0010 - 12ms/epoch - 1ms/step\n",
            "Epoch 232/400\n",
            "9/9 - 0s - loss: 2.5543 - val_loss: 2.5423 - lr: 0.0010 - 11ms/epoch - 1ms/step\n",
            "Epoch 233/400\n",
            "9/9 - 0s - loss: 2.5540 - val_loss: 2.5420 - lr: 0.0010 - 11ms/epoch - 1ms/step\n",
            "Epoch 234/400\n",
            "9/9 - 0s - loss: 2.5536 - val_loss: 2.5417 - lr: 0.0010 - 11ms/epoch - 1ms/step\n",
            "Epoch 235/400\n",
            "9/9 - 0s - loss: 2.5533 - val_loss: 2.5414 - lr: 0.0010 - 11ms/epoch - 1ms/step\n",
            "Epoch 236/400\n",
            "9/9 - 0s - loss: 2.5530 - val_loss: 2.5411 - lr: 0.0010 - 11ms/epoch - 1ms/step\n",
            "Epoch 237/400\n",
            "9/9 - 0s - loss: 2.5527 - val_loss: 2.5408 - lr: 0.0010 - 11ms/epoch - 1ms/step\n",
            "Epoch 238/400\n",
            "9/9 - 0s - loss: 2.5524 - val_loss: 2.5405 - lr: 0.0010 - 11ms/epoch - 1ms/step\n",
            "Epoch 239/400\n",
            "9/9 - 0s - loss: 2.5521 - val_loss: 2.5402 - lr: 0.0010 - 11ms/epoch - 1ms/step\n",
            "Epoch 240/400\n",
            "9/9 - 0s - loss: 2.5518 - val_loss: 2.5400 - lr: 0.0010 - 11ms/epoch - 1ms/step\n",
            "Epoch 241/400\n",
            "9/9 - 0s - loss: 2.5515 - val_loss: 2.5397 - lr: 0.0010 - 11ms/epoch - 1ms/step\n",
            "Epoch 242/400\n",
            "9/9 - 0s - loss: 2.5513 - val_loss: 2.5394 - lr: 0.0010 - 12ms/epoch - 1ms/step\n",
            "Epoch 243/400\n",
            "9/9 - 0s - loss: 2.5510 - val_loss: 2.5392 - lr: 0.0010 - 11ms/epoch - 1ms/step\n",
            "Epoch 244/400\n",
            "9/9 - 0s - loss: 2.5507 - val_loss: 2.5390 - lr: 0.0010 - 12ms/epoch - 1ms/step\n",
            "Epoch 245/400\n",
            "9/9 - 0s - loss: 2.5504 - val_loss: 2.5387 - lr: 0.0010 - 12ms/epoch - 1ms/step\n",
            "Epoch 246/400\n",
            "9/9 - 0s - loss: 2.5502 - val_loss: 2.5385 - lr: 0.0010 - 11ms/epoch - 1ms/step\n",
            "Epoch 247/400\n",
            "9/9 - 0s - loss: 2.5499 - val_loss: 2.5382 - lr: 0.0010 - 11ms/epoch - 1ms/step\n",
            "Epoch 248/400\n",
            "9/9 - 0s - loss: 2.5497 - val_loss: 2.5379 - lr: 0.0010 - 11ms/epoch - 1ms/step\n",
            "Epoch 249/400\n",
            "9/9 - 0s - loss: 2.5494 - val_loss: 2.5377 - lr: 0.0010 - 11ms/epoch - 1ms/step\n",
            "Epoch 250/400\n",
            "9/9 - 0s - loss: 2.5492 - val_loss: 2.5375 - lr: 0.0010 - 11ms/epoch - 1ms/step\n",
            "Epoch 251/400\n",
            "9/9 - 0s - loss: 2.5490 - val_loss: 2.5373 - lr: 0.0010 - 11ms/epoch - 1ms/step\n",
            "Epoch 252/400\n",
            "9/9 - 0s - loss: 2.5487 - val_loss: 2.5371 - lr: 0.0010 - 12ms/epoch - 1ms/step\n",
            "Epoch 253/400\n",
            "9/9 - 0s - loss: 2.5485 - val_loss: 2.5369 - lr: 0.0010 - 11ms/epoch - 1ms/step\n",
            "Epoch 254/400\n",
            "9/9 - 0s - loss: 2.5483 - val_loss: 2.5366 - lr: 0.0010 - 11ms/epoch - 1ms/step\n",
            "Epoch 255/400\n",
            "9/9 - 0s - loss: 2.5480 - val_loss: 2.5364 - lr: 0.0010 - 11ms/epoch - 1ms/step\n",
            "Epoch 256/400\n",
            "9/9 - 0s - loss: 2.5478 - val_loss: 2.5363 - lr: 0.0010 - 12ms/epoch - 1ms/step\n",
            "Epoch 257/400\n",
            "9/9 - 0s - loss: 2.5476 - val_loss: 2.5361 - lr: 0.0010 - 11ms/epoch - 1ms/step\n",
            "Epoch 258/400\n",
            "9/9 - 0s - loss: 2.5474 - val_loss: 2.5359 - lr: 0.0010 - 11ms/epoch - 1ms/step\n",
            "Epoch 259/400\n",
            "9/9 - 0s - loss: 2.5472 - val_loss: 2.5357 - lr: 0.0010 - 12ms/epoch - 1ms/step\n",
            "Epoch 260/400\n",
            "9/9 - 0s - loss: 2.5470 - val_loss: 2.5355 - lr: 0.0010 - 11ms/epoch - 1ms/step\n",
            "Epoch 261/400\n",
            "9/9 - 0s - loss: 2.5468 - val_loss: 2.5353 - lr: 0.0010 - 11ms/epoch - 1ms/step\n",
            "Epoch 262/400\n",
            "9/9 - 0s - loss: 2.5466 - val_loss: 2.5351 - lr: 0.0010 - 11ms/epoch - 1ms/step\n",
            "Epoch 263/400\n",
            "9/9 - 0s - loss: 2.5464 - val_loss: 2.5350 - lr: 0.0010 - 12ms/epoch - 1ms/step\n",
            "Epoch 264/400\n",
            "9/9 - 0s - loss: 2.5462 - val_loss: 2.5348 - lr: 0.0010 - 11ms/epoch - 1ms/step\n",
            "Epoch 265/400\n",
            "9/9 - 0s - loss: 2.5460 - val_loss: 2.5346 - lr: 0.0010 - 11ms/epoch - 1ms/step\n",
            "Epoch 266/400\n",
            "9/9 - 0s - loss: 2.5458 - val_loss: 2.5345 - lr: 0.0010 - 11ms/epoch - 1ms/step\n",
            "Epoch 267/400\n",
            "9/9 - 0s - loss: 2.5456 - val_loss: 2.5343 - lr: 0.0010 - 11ms/epoch - 1ms/step\n",
            "Epoch 268/400\n",
            "9/9 - 0s - loss: 2.5455 - val_loss: 2.5341 - lr: 0.0010 - 12ms/epoch - 1ms/step\n",
            "Epoch 269/400\n",
            "9/9 - 0s - loss: 2.5453 - val_loss: 2.5340 - lr: 0.0010 - 11ms/epoch - 1ms/step\n",
            "Epoch 270/400\n",
            "9/9 - 0s - loss: 2.5451 - val_loss: 2.5338 - lr: 0.0010 - 11ms/epoch - 1ms/step\n",
            "Epoch 271/400\n",
            "9/9 - 0s - loss: 2.5449 - val_loss: 2.5337 - lr: 0.0010 - 11ms/epoch - 1ms/step\n",
            "Epoch 272/400\n",
            "9/9 - 0s - loss: 2.5448 - val_loss: 2.5335 - lr: 0.0010 - 11ms/epoch - 1ms/step\n",
            "Epoch 273/400\n",
            "9/9 - 0s - loss: 2.5446 - val_loss: 2.5334 - lr: 0.0010 - 12ms/epoch - 1ms/step\n",
            "Epoch 274/400\n",
            "9/9 - 0s - loss: 2.5445 - val_loss: 2.5332 - lr: 0.0010 - 11ms/epoch - 1ms/step\n",
            "Epoch 275/400\n",
            "9/9 - 0s - loss: 2.5443 - val_loss: 2.5331 - lr: 0.0010 - 11ms/epoch - 1ms/step\n",
            "Epoch 276/400\n",
            "9/9 - 0s - loss: 2.5441 - val_loss: 2.5330 - lr: 0.0010 - 11ms/epoch - 1ms/step\n",
            "Epoch 277/400\n",
            "9/9 - 0s - loss: 2.5440 - val_loss: 2.5328 - lr: 0.0010 - 12ms/epoch - 1ms/step\n",
            "Epoch 278/400\n",
            "9/9 - 0s - loss: 2.5438 - val_loss: 2.5327 - lr: 0.0010 - 11ms/epoch - 1ms/step\n",
            "Epoch 279/400\n",
            "9/9 - 0s - loss: 2.5437 - val_loss: 2.5326 - lr: 0.0010 - 11ms/epoch - 1ms/step\n",
            "Epoch 280/400\n",
            "9/9 - 0s - loss: 2.5435 - val_loss: 2.5325 - lr: 0.0010 - 12ms/epoch - 1ms/step\n",
            "Epoch 281/400\n",
            "9/9 - 0s - loss: 2.5434 - val_loss: 2.5323 - lr: 0.0010 - 11ms/epoch - 1ms/step\n",
            "Epoch 282/400\n",
            "9/9 - 0s - loss: 2.5433 - val_loss: 2.5322 - lr: 0.0010 - 11ms/epoch - 1ms/step\n",
            "Epoch 283/400\n",
            "9/9 - 0s - loss: 2.5431 - val_loss: 2.5321 - lr: 0.0010 - 12ms/epoch - 1ms/step\n",
            "Epoch 284/400\n",
            "9/9 - 0s - loss: 2.5430 - val_loss: 2.5319 - lr: 0.0010 - 11ms/epoch - 1ms/step\n",
            "Epoch 285/400\n",
            "9/9 - 0s - loss: 2.5428 - val_loss: 2.5318 - lr: 0.0010 - 11ms/epoch - 1ms/step\n",
            "Epoch 286/400\n",
            "9/9 - 0s - loss: 2.5427 - val_loss: 2.5317 - lr: 0.0010 - 11ms/epoch - 1ms/step\n",
            "Epoch 287/400\n",
            "9/9 - 0s - loss: 2.5426 - val_loss: 2.5316 - lr: 0.0010 - 12ms/epoch - 1ms/step\n",
            "Epoch 288/400\n",
            "9/9 - 0s - loss: 2.5424 - val_loss: 2.5315 - lr: 0.0010 - 11ms/epoch - 1ms/step\n",
            "Epoch 289/400\n",
            "9/9 - 0s - loss: 2.5423 - val_loss: 2.5314 - lr: 0.0010 - 11ms/epoch - 1ms/step\n",
            "Epoch 290/400\n",
            "9/9 - 0s - loss: 2.5422 - val_loss: 2.5313 - lr: 0.0010 - 11ms/epoch - 1ms/step\n",
            "Epoch 291/400\n",
            "9/9 - 0s - loss: 2.5421 - val_loss: 2.5312 - lr: 0.0010 - 12ms/epoch - 1ms/step\n",
            "Epoch 292/400\n",
            "9/9 - 0s - loss: 2.5420 - val_loss: 2.5311 - lr: 0.0010 - 11ms/epoch - 1ms/step\n",
            "Epoch 293/400\n",
            "9/9 - 0s - loss: 2.5418 - val_loss: 2.5310 - lr: 0.0010 - 11ms/epoch - 1ms/step\n",
            "Epoch 294/400\n",
            "9/9 - 0s - loss: 2.5417 - val_loss: 2.5309 - lr: 0.0010 - 11ms/epoch - 1ms/step\n",
            "Epoch 295/400\n",
            "9/9 - 0s - loss: 2.5416 - val_loss: 2.5308 - lr: 0.0010 - 11ms/epoch - 1ms/step\n",
            "Epoch 296/400\n",
            "9/9 - 0s - loss: 2.5415 - val_loss: 2.5307 - lr: 0.0010 - 11ms/epoch - 1ms/step\n",
            "Epoch 297/400\n",
            "9/9 - 0s - loss: 2.5413 - val_loss: 2.5306 - lr: 0.0010 - 11ms/epoch - 1ms/step\n",
            "Epoch 298/400\n",
            "9/9 - 0s - loss: 2.5412 - val_loss: 2.5305 - lr: 0.0010 - 12ms/epoch - 1ms/step\n",
            "Epoch 299/400\n",
            "9/9 - 0s - loss: 2.5411 - val_loss: 2.5304 - lr: 0.0010 - 11ms/epoch - 1ms/step\n",
            "Epoch 300/400\n",
            "9/9 - 0s - loss: 2.5410 - val_loss: 2.5303 - lr: 0.0010 - 11ms/epoch - 1ms/step\n",
            "Epoch 301/400\n",
            "9/9 - 0s - loss: 2.5409 - val_loss: 2.5302 - lr: 0.0010 - 11ms/epoch - 1ms/step\n",
            "Epoch 302/400\n",
            "9/9 - 0s - loss: 2.5408 - val_loss: 2.5301 - lr: 0.0010 - 11ms/epoch - 1ms/step\n",
            "Epoch 303/400\n",
            "9/9 - 0s - loss: 2.5407 - val_loss: 2.5300 - lr: 0.0010 - 11ms/epoch - 1ms/step\n",
            "Epoch 304/400\n",
            "9/9 - 0s - loss: 2.5406 - val_loss: 2.5299 - lr: 0.0010 - 11ms/epoch - 1ms/step\n",
            "Epoch 305/400\n",
            "9/9 - 0s - loss: 2.5405 - val_loss: 2.5298 - lr: 0.0010 - 11ms/epoch - 1ms/step\n",
            "Epoch 306/400\n",
            "9/9 - 0s - loss: 2.5404 - val_loss: 2.5297 - lr: 0.0010 - 12ms/epoch - 1ms/step\n",
            "Epoch 307/400\n",
            "9/9 - 0s - loss: 2.5403 - val_loss: 2.5297 - lr: 0.0010 - 12ms/epoch - 1ms/step\n",
            "Epoch 308/400\n",
            "9/9 - 0s - loss: 2.5402 - val_loss: 2.5296 - lr: 0.0010 - 12ms/epoch - 1ms/step\n",
            "Epoch 309/400\n",
            "9/9 - 0s - loss: 2.5401 - val_loss: 2.5295 - lr: 0.0010 - 11ms/epoch - 1ms/step\n",
            "Epoch 310/400\n",
            "9/9 - 0s - loss: 2.5400 - val_loss: 2.5294 - lr: 0.0010 - 11ms/epoch - 1ms/step\n",
            "Epoch 311/400\n",
            "9/9 - 0s - loss: 2.5399 - val_loss: 2.5294 - lr: 0.0010 - 12ms/epoch - 1ms/step\n",
            "Epoch 312/400\n",
            "9/9 - 0s - loss: 2.5398 - val_loss: 2.5293 - lr: 0.0010 - 11ms/epoch - 1ms/step\n",
            "Epoch 313/400\n",
            "9/9 - 0s - loss: 2.5397 - val_loss: 2.5292 - lr: 0.0010 - 12ms/epoch - 1ms/step\n",
            "Epoch 314/400\n",
            "9/9 - 0s - loss: 2.5396 - val_loss: 2.5291 - lr: 0.0010 - 11ms/epoch - 1ms/step\n",
            "Epoch 315/400\n",
            "9/9 - 0s - loss: 2.5396 - val_loss: 2.5290 - lr: 0.0010 - 30ms/epoch - 3ms/step\n",
            "Epoch 316/400\n",
            "9/9 - 0s - loss: 2.5395 - val_loss: 2.5290 - lr: 0.0010 - 12ms/epoch - 1ms/step\n",
            "Epoch 317/400\n",
            "9/9 - 0s - loss: 2.5394 - val_loss: 2.5289 - lr: 0.0010 - 12ms/epoch - 1ms/step\n",
            "Epoch 318/400\n",
            "9/9 - 0s - loss: 2.5393 - val_loss: 2.5288 - lr: 0.0010 - 11ms/epoch - 1ms/step\n",
            "Epoch 319/400\n",
            "9/9 - 0s - loss: 2.5392 - val_loss: 2.5288 - lr: 0.0010 - 11ms/epoch - 1ms/step\n",
            "Epoch 320/400\n",
            "9/9 - 0s - loss: 2.5391 - val_loss: 2.5287 - lr: 0.0010 - 11ms/epoch - 1ms/step\n",
            "Epoch 321/400\n",
            "9/9 - 0s - loss: 2.5390 - val_loss: 2.5286 - lr: 0.0010 - 11ms/epoch - 1ms/step\n",
            "Epoch 322/400\n",
            "9/9 - 0s - loss: 2.5390 - val_loss: 2.5286 - lr: 0.0010 - 12ms/epoch - 1ms/step\n",
            "Epoch 323/400\n",
            "9/9 - 0s - loss: 2.5389 - val_loss: 2.5285 - lr: 0.0010 - 11ms/epoch - 1ms/step\n",
            "Epoch 324/400\n",
            "9/9 - 0s - loss: 2.5388 - val_loss: 2.5284 - lr: 0.0010 - 12ms/epoch - 1ms/step\n",
            "Epoch 325/400\n",
            "9/9 - 0s - loss: 2.5387 - val_loss: 2.5284 - lr: 0.0010 - 11ms/epoch - 1ms/step\n",
            "Epoch 326/400\n",
            "9/9 - 0s - loss: 2.5386 - val_loss: 2.5283 - lr: 0.0010 - 11ms/epoch - 1ms/step\n",
            "Epoch 327/400\n",
            "9/9 - 0s - loss: 2.5386 - val_loss: 2.5282 - lr: 0.0010 - 13ms/epoch - 1ms/step\n",
            "Epoch 328/400\n",
            "9/9 - 0s - loss: 2.5385 - val_loss: 2.5282 - lr: 0.0010 - 14ms/epoch - 2ms/step\n",
            "Epoch 329/400\n",
            "9/9 - 0s - loss: 2.5384 - val_loss: 2.5281 - lr: 0.0010 - 14ms/epoch - 2ms/step\n",
            "Epoch 330/400\n",
            "9/9 - 0s - loss: 2.5383 - val_loss: 2.5281 - lr: 0.0010 - 15ms/epoch - 2ms/step\n",
            "Epoch 331/400\n",
            "9/9 - 0s - loss: 2.5383 - val_loss: 2.5280 - lr: 0.0010 - 14ms/epoch - 2ms/step\n",
            "Epoch 332/400\n",
            "9/9 - 0s - loss: 2.5382 - val_loss: 2.5280 - lr: 0.0010 - 13ms/epoch - 1ms/step\n",
            "Epoch 333/400\n",
            "9/9 - 0s - loss: 2.5381 - val_loss: 2.5279 - lr: 0.0010 - 14ms/epoch - 2ms/step\n",
            "Epoch 334/400\n",
            "9/9 - 0s - loss: 2.5380 - val_loss: 2.5278 - lr: 0.0010 - 14ms/epoch - 2ms/step\n",
            "Epoch 335/400\n",
            "9/9 - 0s - loss: 2.5380 - val_loss: 2.5278 - lr: 0.0010 - 15ms/epoch - 2ms/step\n",
            "Epoch 336/400\n",
            "9/9 - 0s - loss: 2.5379 - val_loss: 2.5277 - lr: 0.0010 - 15ms/epoch - 2ms/step\n",
            "Epoch 337/400\n",
            "9/9 - 0s - loss: 2.5378 - val_loss: 2.5277 - lr: 0.0010 - 17ms/epoch - 2ms/step\n",
            "Epoch 338/400\n",
            "9/9 - 0s - loss: 2.5378 - val_loss: 2.5276 - lr: 0.0010 - 17ms/epoch - 2ms/step\n",
            "Epoch 339/400\n",
            "9/9 - 0s - loss: 2.5377 - val_loss: 2.5276 - lr: 0.0010 - 16ms/epoch - 2ms/step\n",
            "Epoch 340/400\n",
            "9/9 - 0s - loss: 2.5377 - val_loss: 2.5275 - lr: 0.0010 - 17ms/epoch - 2ms/step\n",
            "Epoch 341/400\n",
            "9/9 - 0s - loss: 2.5376 - val_loss: 2.5275 - lr: 0.0010 - 17ms/epoch - 2ms/step\n",
            "Epoch 342/400\n",
            "9/9 - 0s - loss: 2.5375 - val_loss: 2.5274 - lr: 0.0010 - 18ms/epoch - 2ms/step\n",
            "Epoch 343/400\n",
            "9/9 - 0s - loss: 2.5374 - val_loss: 2.5274 - lr: 0.0010 - 16ms/epoch - 2ms/step\n",
            "Epoch 344/400\n",
            "9/9 - 0s - loss: 2.5374 - val_loss: 2.5273 - lr: 0.0010 - 13ms/epoch - 1ms/step\n",
            "Epoch 345/400\n",
            "9/9 - 0s - loss: 2.5373 - val_loss: 2.5273 - lr: 0.0010 - 14ms/epoch - 2ms/step\n",
            "Epoch 346/400\n",
            "9/9 - 0s - loss: 2.5373 - val_loss: 2.5273 - lr: 0.0010 - 14ms/epoch - 2ms/step\n",
            "Epoch 347/400\n",
            "9/9 - 0s - loss: 2.5372 - val_loss: 2.5272 - lr: 0.0010 - 16ms/epoch - 2ms/step\n",
            "Epoch 348/400\n",
            "9/9 - 0s - loss: 2.5371 - val_loss: 2.5272 - lr: 0.0010 - 16ms/epoch - 2ms/step\n",
            "Epoch 349/400\n",
            "9/9 - 0s - loss: 2.5371 - val_loss: 2.5271 - lr: 0.0010 - 15ms/epoch - 2ms/step\n",
            "Epoch 350/400\n",
            "9/9 - 0s - loss: 2.5370 - val_loss: 2.5271 - lr: 0.0010 - 15ms/epoch - 2ms/step\n",
            "Epoch 351/400\n",
            "9/9 - 0s - loss: 2.5370 - val_loss: 2.5270 - lr: 0.0010 - 14ms/epoch - 2ms/step\n",
            "Epoch 352/400\n",
            "9/9 - 0s - loss: 2.5369 - val_loss: 2.5270 - lr: 0.0010 - 15ms/epoch - 2ms/step\n",
            "Epoch 353/400\n",
            "9/9 - 0s - loss: 2.5369 - val_loss: 2.5270 - lr: 0.0010 - 15ms/epoch - 2ms/step\n",
            "Epoch 354/400\n",
            "9/9 - 0s - loss: 2.5368 - val_loss: 2.5269 - lr: 0.0010 - 15ms/epoch - 2ms/step\n",
            "Epoch 355/400\n",
            "9/9 - 0s - loss: 2.5368 - val_loss: 2.5269 - lr: 0.0010 - 15ms/epoch - 2ms/step\n",
            "Epoch 356/400\n",
            "9/9 - 0s - loss: 2.5367 - val_loss: 2.5268 - lr: 0.0010 - 14ms/epoch - 2ms/step\n",
            "Epoch 357/400\n",
            "9/9 - 0s - loss: 2.5366 - val_loss: 2.5268 - lr: 0.0010 - 14ms/epoch - 2ms/step\n",
            "Epoch 358/400\n",
            "9/9 - 0s - loss: 2.5366 - val_loss: 2.5268 - lr: 0.0010 - 15ms/epoch - 2ms/step\n",
            "Epoch 359/400\n",
            "9/9 - 0s - loss: 2.5365 - val_loss: 2.5268 - lr: 0.0010 - 16ms/epoch - 2ms/step\n",
            "Epoch 360/400\n",
            "9/9 - 0s - loss: 2.5365 - val_loss: 2.5267 - lr: 0.0010 - 14ms/epoch - 2ms/step\n",
            "Epoch 361/400\n",
            "9/9 - 0s - loss: 2.5364 - val_loss: 2.5267 - lr: 0.0010 - 14ms/epoch - 2ms/step\n",
            "Epoch 362/400\n",
            "9/9 - 0s - loss: 2.5364 - val_loss: 2.5266 - lr: 0.0010 - 15ms/epoch - 2ms/step\n",
            "Epoch 363/400\n",
            "9/9 - 0s - loss: 2.5363 - val_loss: 2.5266 - lr: 0.0010 - 14ms/epoch - 2ms/step\n",
            "Epoch 364/400\n",
            "9/9 - 0s - loss: 2.5363 - val_loss: 2.5266 - lr: 0.0010 - 15ms/epoch - 2ms/step\n",
            "Epoch 365/400\n",
            "9/9 - 0s - loss: 2.5362 - val_loss: 2.5266 - lr: 0.0010 - 15ms/epoch - 2ms/step\n",
            "Epoch 366/400\n",
            "9/9 - 0s - loss: 2.5362 - val_loss: 2.5266 - lr: 0.0010 - 15ms/epoch - 2ms/step\n",
            "Epoch 367/400\n",
            "9/9 - 0s - loss: 2.5361 - val_loss: 2.5265 - lr: 0.0010 - 14ms/epoch - 2ms/step\n",
            "Epoch 368/400\n",
            "9/9 - 0s - loss: 2.5361 - val_loss: 2.5265 - lr: 0.0010 - 14ms/epoch - 2ms/step\n",
            "Epoch 369/400\n",
            "9/9 - 0s - loss: 2.5361 - val_loss: 2.5264 - lr: 0.0010 - 13ms/epoch - 1ms/step\n",
            "Epoch 370/400\n",
            "9/9 - 0s - loss: 2.5360 - val_loss: 2.5264 - lr: 0.0010 - 13ms/epoch - 1ms/step\n",
            "Epoch 371/400\n",
            "9/9 - 0s - loss: 2.5360 - val_loss: 2.5264 - lr: 0.0010 - 13ms/epoch - 1ms/step\n",
            "Epoch 372/400\n",
            "9/9 - 0s - loss: 2.5359 - val_loss: 2.5264 - lr: 0.0010 - 13ms/epoch - 1ms/step\n",
            "Epoch 373/400\n",
            "9/9 - 0s - loss: 2.5359 - val_loss: 2.5264 - lr: 0.0010 - 13ms/epoch - 1ms/step\n",
            "Epoch 374/400\n",
            "9/9 - 0s - loss: 2.5359 - val_loss: 2.5263 - lr: 0.0010 - 13ms/epoch - 1ms/step\n",
            "Epoch 375/400\n",
            "9/9 - 0s - loss: 2.5358 - val_loss: 2.5263 - lr: 0.0010 - 15ms/epoch - 2ms/step\n",
            "Epoch 376/400\n",
            "9/9 - 0s - loss: 2.5358 - val_loss: 2.5263 - lr: 0.0010 - 15ms/epoch - 2ms/step\n",
            "Epoch 377/400\n",
            "9/9 - 0s - loss: 2.5357 - val_loss: 2.5263 - lr: 0.0010 - 14ms/epoch - 2ms/step\n",
            "Epoch 378/400\n",
            "9/9 - 0s - loss: 2.5357 - val_loss: 2.5263 - lr: 0.0010 - 14ms/epoch - 2ms/step\n",
            "Epoch 379/400\n",
            "9/9 - 0s - loss: 2.5356 - val_loss: 2.5262 - lr: 0.0010 - 15ms/epoch - 2ms/step\n",
            "Epoch 380/400\n",
            "9/9 - 0s - loss: 2.5356 - val_loss: 2.5262 - lr: 0.0010 - 14ms/epoch - 2ms/step\n",
            "Epoch 381/400\n",
            "9/9 - 0s - loss: 2.5355 - val_loss: 2.5262 - lr: 0.0010 - 16ms/epoch - 2ms/step\n",
            "Epoch 382/400\n",
            "9/9 - 0s - loss: 2.5355 - val_loss: 2.5262 - lr: 0.0010 - 28ms/epoch - 3ms/step\n",
            "Epoch 383/400\n",
            "9/9 - 0s - loss: 2.5355 - val_loss: 2.5262 - lr: 0.0010 - 23ms/epoch - 3ms/step\n",
            "Epoch 384/400\n",
            "9/9 - 0s - loss: 2.5354 - val_loss: 2.5262 - lr: 0.0010 - 16ms/epoch - 2ms/step\n",
            "Epoch 385/400\n",
            "9/9 - 0s - loss: 2.5354 - val_loss: 2.5261 - lr: 0.0010 - 16ms/epoch - 2ms/step\n",
            "Epoch 386/400\n",
            "9/9 - 0s - loss: 2.5354 - val_loss: 2.5261 - lr: 0.0010 - 15ms/epoch - 2ms/step\n",
            "Epoch 387/400\n",
            "9/9 - 0s - loss: 2.5353 - val_loss: 2.5261 - lr: 0.0010 - 15ms/epoch - 2ms/step\n",
            "Epoch 388/400\n",
            "9/9 - 0s - loss: 2.5353 - val_loss: 2.5261 - lr: 0.0010 - 15ms/epoch - 2ms/step\n",
            "Epoch 389/400\n",
            "9/9 - 0s - loss: 2.5352 - val_loss: 2.5261 - lr: 0.0010 - 15ms/epoch - 2ms/step\n",
            "Epoch 390/400\n",
            "9/9 - 0s - loss: 2.5352 - val_loss: 2.5261 - lr: 0.0010 - 15ms/epoch - 2ms/step\n",
            "Epoch 391/400\n",
            "9/9 - 0s - loss: 2.5352 - val_loss: 2.5261 - lr: 0.0010 - 15ms/epoch - 2ms/step\n",
            "Epoch 392/400\n",
            "9/9 - 0s - loss: 2.5351 - val_loss: 2.5261 - lr: 0.0010 - 15ms/epoch - 2ms/step\n",
            "Epoch 393/400\n",
            "9/9 - 0s - loss: 2.5351 - val_loss: 2.5261 - lr: 0.0010 - 16ms/epoch - 2ms/step\n",
            "Epoch 394/400\n",
            "9/9 - 0s - loss: 2.5351 - val_loss: 2.5261 - lr: 0.0010 - 19ms/epoch - 2ms/step\n",
            "Epoch 395/400\n",
            "9/9 - 0s - loss: 2.5350 - val_loss: 2.5260 - lr: 0.0010 - 17ms/epoch - 2ms/step\n",
            "Epoch 396/400\n",
            "9/9 - 0s - loss: 2.5350 - val_loss: 2.5260 - lr: 0.0010 - 19ms/epoch - 2ms/step\n",
            "Epoch 397/400\n",
            "9/9 - 0s - loss: 2.5350 - val_loss: 2.5260 - lr: 0.0010 - 22ms/epoch - 2ms/step\n",
            "Epoch 398/400\n",
            "9/9 - 0s - loss: 2.5349 - val_loss: 2.5260 - lr: 0.0010 - 21ms/epoch - 2ms/step\n",
            "Epoch 399/400\n",
            "9/9 - 0s - loss: 2.5349 - val_loss: 2.5260 - lr: 0.0010 - 16ms/epoch - 2ms/step\n",
            "Epoch 400/400\n",
            "9/9 - 0s - loss: 2.5349 - val_loss: 2.5260 - lr: 0.0010 - 13ms/epoch - 1ms/step\n"
          ]
        }
      ],
      "source": [
        "history = model.fit(\n",
        "    x=x_train,\n",
        "    y=y_train,\n",
        "    batch_size=1024,\n",
        "    epochs=EPOCHS,\n",
        "    verbose=2,\n",
        "    callbacks=callbacks,\n",
        "    validation_data=(x_eval, y_eval)).history"
      ]
    },
    {
      "cell_type": "code",
      "execution_count": 138,
      "metadata": {
        "id": "mAJGs5SebDeN"
      },
      "outputs": [
        {
          "data": {
            "text/plain": [
              "<Axes: >"
            ]
          },
          "execution_count": 138,
          "metadata": {},
          "output_type": "execute_result"
        },
        {
          "data": {
            "image/png": "[encoded data removed]",
            "text/plain": [
              "<Figure size 640x480 with 1 Axes>"
            ]
          },
          "metadata": {},
          "output_type": "display_data"
        }
      ],
      "source": [
        "pd.DataFrame(history)[['loss', 'val_loss']][2:].plot()"
      ]
    },
    {
      "cell_type": "markdown",
      "metadata": {
        "id": "bHaiutmy2aYm"
      },
      "source": [
        "### Eval"
      ]
    },
    {
      "cell_type": "code",
      "execution_count": 139,
      "metadata": {
        "id": "l6E_5gYAYQMw"
      },
      "outputs": [
        {
          "name": "stdout",
          "output_type": "stream",
          "text": [
            "3/3 [==============================] - 0s 677us/step\n"
          ]
        }
      ],
      "source": [
        "logits = model.predict(x=x_eval, batch_size=1024)\n",
        "y_pred = K.sigmoid(logits[..., :1]).numpy().flatten()"
      ]
    },
    {
      "cell_type": "code",
      "execution_count": 140,
      "metadata": {
        "id": "ICTDpg4rxdlj"
      },
      "outputs": [],
      "source": [
        "y_true = (y_eval > 0).astype('float32')"
      ]
    },
    {
      "cell_type": "code",
      "execution_count": 141,
      "metadata": {
        "id": "POeY1gdKTwfx"
      },
      "outputs": [],
      "source": [
        "def classification_report(y_true: Sequence[int],\n",
        "                          y_pred: Sequence[float]) -> pd.DataFrame:\n",
        "  \"\"\"Report individual level classification metrics.\n",
        "\n",
        "  Arguments:\n",
        "    y_true: true binary labels.\n",
        "    y_pred: predicted binary labels.\n",
        "\n",
        "  Returns:\n",
        "    out: dataframe with classification metrics as columns.\n",
        "  \"\"\"\n",
        "  out = pd.DataFrame(index=[0])\n",
        "\n",
        "  out['AUC'] = metrics.roc_auc_score(y_true, y_pred)\n",
        "  out['PR_AUC'] = metrics.average_precision_score(y_true, y_pred)\n",
        "  out['precision'] = metrics.precision_score(y_true, 1 * (y_pred > .5))\n",
        "  out['recall'] = metrics.recall_score(y_true, 1 * (y_pred > .5))\n",
        "  out['f1'] = metrics.f1_score(y_true, 1 * (y_pred > .5))\n",
        "  return out"
      ]
    },
    {
      "cell_type": "code",
      "execution_count": 142,
      "metadata": {
        "id": "vGcWU2vFaeT1"
      },
      "outputs": [
        {
          "data": {
            "text/html": [
              "<div>\n",
              "<style scoped>\n",
              "    .dataframe tbody tr th:only-of-type {\n",
              "        vertical-align: middle;\n",
              "    }\n",
              "\n",
              "    .dataframe tbody tr th {\n",
              "        vertical-align: top;\n",
              "    }\n",
              "\n",
              "    .dataframe thead th {\n",
              "        text-align: right;\n",
              "    }\n",
              "</style>\n",
              "<table border=\"1\" class=\"dataframe\">\n",
              "  <thead>\n",
              "    <tr style=\"text-align: right;\">\n",
              "      <th></th>\n",
              "      <th>AUC</th>\n",
              "      <th>PR_AUC</th>\n",
              "      <th>precision</th>\n",
              "      <th>recall</th>\n",
              "      <th>f1</th>\n",
              "    </tr>\n",
              "  </thead>\n",
              "  <tbody>\n",
              "    <tr>\n",
              "      <th>0</th>\n",
              "      <td>0.612711</td>\n",
              "      <td>0.532062</td>\n",
              "      <td>0.555046</td>\n",
              "      <td>0.364458</td>\n",
              "      <td>0.44</td>\n",
              "    </tr>\n",
              "  </tbody>\n",
              "</table>\n",
              "</div>"
            ],
            "text/plain": [
              "        AUC    PR_AUC  precision    recall    f1\n",
              "0  0.612711  0.532062   0.555046  0.364458  0.44"
            ]
          },
          "execution_count": 142,
          "metadata": {},
          "output_type": "execute_result"
        }
      ],
      "source": [
        "classification = classification_report(y_true, y_pred)\n",
        "classification"
      ]
    },
    {
      "cell_type": "markdown",
      "metadata": {
        "id": "-i_AbqhXcurk"
      },
      "source": [
        "### All metrics together"
      ]
    },
    {
      "cell_type": "code",
      "execution_count": 143,
      "metadata": {
        "id": "Umqg1-0Bc1HS"
      },
      "outputs": [],
      "source": [
        "df_metrics = pd.DataFrame(\n",
        "    {\n",
        "        'company': COMPANY,\n",
        "        'model': MODEL,\n",
        "        'loss': LOSS,\n",
        "        'label_mean': y_true.mean(),\n",
        "        'pred_mean': y_pred.mean(),\n",
        "        'AUC': classification.loc[0, 'AUC'],\n",
        "        'PR_AUC': classification.loc[0, 'PR_AUC'],\n",
        "        'precision': classification.loc[0, 'precision'],\n",
        "        'recall': classification.loc[0, 'recall'],\n",
        "        'f1': classification.loc[0, 'f1']\n",
        "    },\n",
        "    index=[0])"
      ]
    },
    {
      "cell_type": "code",
      "execution_count": 144,
      "metadata": {
        "id": "1LV1Hs3xcxnd"
      },
      "outputs": [
        {
          "data": {
            "text/html": [
              "<div>\n",
              "<style scoped>\n",
              "    .dataframe tbody tr th:only-of-type {\n",
              "        vertical-align: middle;\n",
              "    }\n",
              "\n",
              "    .dataframe tbody tr th {\n",
              "        vertical-align: top;\n",
              "    }\n",
              "\n",
              "    .dataframe thead th {\n",
              "        text-align: right;\n",
              "    }\n",
              "</style>\n",
              "<table border=\"1\" class=\"dataframe\">\n",
              "  <thead>\n",
              "    <tr style=\"text-align: right;\">\n",
              "      <th></th>\n",
              "      <th>company</th>\n",
              "      <th>model</th>\n",
              "      <th>loss</th>\n",
              "      <th>label_mean</th>\n",
              "      <th>pred_mean</th>\n",
              "      <th>AUC</th>\n",
              "      <th>PR_AUC</th>\n",
              "      <th>precision</th>\n",
              "      <th>recall</th>\n",
              "      <th>f1</th>\n",
              "    </tr>\n",
              "  </thead>\n",
              "  <tbody>\n",
              "    <tr>\n",
              "      <th>0</th>\n",
              "      <td>1078778070</td>\n",
              "      <td>linear</td>\n",
              "      <td>ziln</td>\n",
              "      <td>0.434365</td>\n",
              "      <td>0.442321</td>\n",
              "      <td>0.612711</td>\n",
              "      <td>0.532062</td>\n",
              "      <td>0.555046</td>\n",
              "      <td>0.364458</td>\n",
              "      <td>0.44</td>\n",
              "    </tr>\n",
              "  </tbody>\n",
              "</table>\n",
              "</div>"
            ],
            "text/plain": [
              "      company   model  loss  label_mean  pred_mean       AUC    PR_AUC  \\\n",
              "0  1078778070  linear  ziln    0.434365   0.442321  0.612711  0.532062   \n",
              "\n",
              "   precision    recall    f1  \n",
              "0   0.555046  0.364458  0.44  "
            ]
          },
          "execution_count": 144,
          "metadata": {},
          "output_type": "execute_result"
        }
      ],
      "source": [
        "df_metrics[[\n",
        "    'company',\n",
        "    'model',\n",
        "    'loss',\n",
        "    'label_mean',\n",
        "    'pred_mean',\n",
        "    'AUC',\n",
        "    'PR_AUC',\n",
        "    'precision',\n",
        "    'recall',\n",
        "    'f1',\n",
        "]]"
      ]
    },
    {
      "cell_type": "markdown",
      "metadata": {
        "id": "UVy6lYn4mSrj"
      },
      "source": [
        "## Save"
      ]
    },
    {
      "cell_type": "code",
      "execution_count": 145,
      "metadata": {
        "id": "mtkQ4mqUEFsb"
      },
      "outputs": [],
      "source": [
        "output_path = os.path.join(OUTPUT_CSV_FOLDER, COMPANY)"
      ]
    },
    {
      "cell_type": "code",
      "execution_count": 146,
      "metadata": {
        "id": "3qmLzJqOEFsm"
      },
      "outputs": [],
      "source": [
        "if not os.path.isdir(output_path):\n",
        "  os.makedirs(output_path)"
      ]
    },
    {
      "cell_type": "code",
      "execution_count": 147,
      "metadata": {
        "id": "61B5Zc_UEFsr"
      },
      "outputs": [],
      "source": [
        "output_file = os.path.join(output_path,\n",
        "                           '{}_classification_{}.csv'.format(MODEL, LOSS))"
      ]
    },
    {
      "cell_type": "code",
      "execution_count": 148,
      "metadata": {
        "id": "gqglbXfwEFsv"
      },
      "outputs": [],
      "source": [
        "df_metrics.to_csv(output_file, index=False)"
      ]
    }
  ],
  "metadata": {
    "colab": {
      "collapsed_sections": [],
      "last_runtime": {
        "build_target": "",
        "kind": "local"
      },
      "name": "classification.ipynb",
      "provenance": [],
      "toc_visible": true
    },
    "kernelspec": {
      "display_name": ".venv",
      "language": "python",
      "name": "python3"
    },
    "language_info": {
      "codemirror_mode": {
        "name": "ipython",
        "version": 3
      },
      "file_extension": ".py",
      "mimetype": "text/x-python",
      "name": "python",
      "nbconvert_exporter": "python",
      "pygments_lexer": "ipython3",
      "version": "3.8.12"
    }
  },
  "nbformat": 4,
  "nbformat_minor": 0
}
