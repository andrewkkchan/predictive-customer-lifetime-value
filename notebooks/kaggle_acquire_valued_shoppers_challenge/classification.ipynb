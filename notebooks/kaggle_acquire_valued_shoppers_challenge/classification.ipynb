{
  "cells": [
    {
      "cell_type": "code",
      "execution_count": 1,
      "metadata": {
        "id": "znEK1MNRXqWY"
      },
      "outputs": [],
      "source": [
        "#@title Copyright 2019 The Lifetime Value Authors.\n",
        "# Licensed under the Apache License, Version 2.0 (the \"License\");\n",
        "# you may not use this file except in compliance with the License.\n",
        "# You may obtain a copy of the License at\n",
        "#\n",
        "#     https://www.apache.org/licenses/LICENSE-2.0\n",
        "#\n",
        "# Unless required by applicable law or agreed to in writing, software\n",
        "# distributed under the License is distributed on an \"AS IS\" BASIS,\n",
        "# WITHOUT WARRANTIES OR CONDITIONS OF ANY KIND, either express or implied.\n",
        "# See the License for the specific language governing permissions and\n",
        "# limitations under the License.\n",
        "# ============================================================================"
      ]
    },
    {
      "cell_type": "markdown",
      "metadata": {
        "id": "3oNqWmn530N-"
      },
      "source": [
        "# Churn Prediction for Kaggle Acquire Valued Customer Challenge"
      ]
    },
    {
      "cell_type": "markdown",
      "metadata": {
        "id": "XKydJ9qF4KVm"
      },
      "source": [
        "<table align=\"left\">\n",
        "  <td>\n",
        "    <a target=\"_blank\" href=\"https://colab.research.google.com/github/google/lifetime_value/blob/master/notebooks/kaggle_acquire_valued_shoppers_challenge/classification.ipynb\"><img src=\"https://www.tensorflow.org/images/colab_logo_32px.png\" />Run in Google Colab</a>\n",
        "  </td>\n",
        "  <td>\n",
        "    <a target=\"_blank\" href=\"https://github.com/google/lifetime_value/blob/master/notebooks/kaggle_acquire_valued_shoppers_challenge/classification.ipynb\"><img src=\"https://www.tensorflow.org/images/GitHub-Mark-32px.png\" />View source on GitHub</a>\n",
        "  </td>\n",
        "</table>"
      ]
    },
    {
      "cell_type": "code",
      "execution_count": 2,
      "metadata": {},
      "outputs": [
        {
          "name": "stdout",
          "output_type": "stream",
          "text": [
            "Requirement already satisfied: scikit-learn in /Users/andrew.chan/lifetime_value/.venv/lib/python3.8/site-packages (1.3.2)\n",
            "Requirement already satisfied: matplotlib in /Users/andrew.chan/lifetime_value/.venv/lib/python3.8/site-packages (3.7.5)\n",
            "Requirement already satisfied: numpy<2.0,>=1.17.3 in /Users/andrew.chan/lifetime_value/.venv/lib/python3.8/site-packages (from scikit-learn) (1.24.3)\n",
            "Requirement already satisfied: scipy>=1.5.0 in /Users/andrew.chan/lifetime_value/.venv/lib/python3.8/site-packages (from scikit-learn) (1.10.1)\n",
            "Requirement already satisfied: joblib>=1.1.1 in /Users/andrew.chan/lifetime_value/.venv/lib/python3.8/site-packages (from scikit-learn) (1.4.2)\n",
            "Requirement already satisfied: threadpoolctl>=2.0.0 in /Users/andrew.chan/lifetime_value/.venv/lib/python3.8/site-packages (from scikit-learn) (3.5.0)\n",
            "Requirement already satisfied: contourpy>=1.0.1 in /Users/andrew.chan/lifetime_value/.venv/lib/python3.8/site-packages (from matplotlib) (1.1.1)\n",
            "Requirement already satisfied: cycler>=0.10 in /Users/andrew.chan/lifetime_value/.venv/lib/python3.8/site-packages (from matplotlib) (0.12.1)\n",
            "Requirement already satisfied: fonttools>=4.22.0 in /Users/andrew.chan/lifetime_value/.venv/lib/python3.8/site-packages (from matplotlib) (4.56.0)\n",
            "Requirement already satisfied: kiwisolver>=1.0.1 in /Users/andrew.chan/lifetime_value/.venv/lib/python3.8/site-packages (from matplotlib) (1.4.7)\n",
            "Requirement already satisfied: packaging>=20.0 in /Users/andrew.chan/lifetime_value/.venv/lib/python3.8/site-packages (from matplotlib) (24.2)\n",
            "Requirement already satisfied: pillow>=6.2.0 in /Users/andrew.chan/lifetime_value/.venv/lib/python3.8/site-packages (from matplotlib) (10.4.0)\n",
            "Requirement already satisfied: pyparsing>=2.3.1 in /Users/andrew.chan/lifetime_value/.venv/lib/python3.8/site-packages (from matplotlib) (3.1.4)\n",
            "Requirement already satisfied: python-dateutil>=2.7 in /Users/andrew.chan/lifetime_value/.venv/lib/python3.8/site-packages (from matplotlib) (2.9.0.post0)\n",
            "Requirement already satisfied: importlib-resources>=3.2.0 in /Users/andrew.chan/lifetime_value/.venv/lib/python3.8/site-packages (from matplotlib) (6.4.5)\n",
            "Requirement already satisfied: zipp>=3.1.0 in /Users/andrew.chan/lifetime_value/.venv/lib/python3.8/site-packages (from importlib-resources>=3.2.0->matplotlib) (3.20.2)\n",
            "Requirement already satisfied: six>=1.5 in /Users/andrew.chan/lifetime_value/.venv/lib/python3.8/site-packages (from python-dateutil>=2.7->matplotlib) (1.17.0)\n",
            "Note: you may need to restart the kernel to use updated packages.\n"
          ]
        }
      ],
      "source": [
        "%pip install scikit-learn matplotlib"
      ]
    },
    {
      "cell_type": "code",
      "execution_count": 3,
      "metadata": {},
      "outputs": [
        {
          "name": "stdout",
          "output_type": "stream",
          "text": [
            "Processing /Users/andrew.chan/lifetime_value\n",
            "  Preparing metadata (setup.py) ... \u001b[?25ldone\n",
            "\u001b[?25hRequirement already satisfied: numpy>=1.11.1 in /Users/andrew.chan/lifetime_value/.venv/lib/python3.8/site-packages (from lifetime-value==0.1) (1.24.3)\n",
            "Requirement already satisfied: pandas in /Users/andrew.chan/lifetime_value/.venv/lib/python3.8/site-packages (from lifetime-value==0.1) (2.0.3)\n",
            "Requirement already satisfied: sklearn in /Users/andrew.chan/lifetime_value/.venv/lib/python3.8/site-packages (from lifetime-value==0.1) (0.0.post12)\n",
            "Requirement already satisfied: tensorflow in /Users/andrew.chan/lifetime_value/.venv/lib/python3.8/site-packages (from lifetime-value==0.1) (2.13.0)\n",
            "Requirement already satisfied: tensorflow-probability in /Users/andrew.chan/lifetime_value/.venv/lib/python3.8/site-packages (from lifetime-value==0.1) (0.21.0)\n",
            "Requirement already satisfied: tqdm in /Users/andrew.chan/lifetime_value/.venv/lib/python3.8/site-packages (from lifetime-value==0.1) (4.67.1)\n",
            "Requirement already satisfied: python-dateutil>=2.8.2 in /Users/andrew.chan/lifetime_value/.venv/lib/python3.8/site-packages (from pandas->lifetime-value==0.1) (2.9.0.post0)\n",
            "Requirement already satisfied: pytz>=2020.1 in /Users/andrew.chan/lifetime_value/.venv/lib/python3.8/site-packages (from pandas->lifetime-value==0.1) (2025.1)\n",
            "Requirement already satisfied: tzdata>=2022.1 in /Users/andrew.chan/lifetime_value/.venv/lib/python3.8/site-packages (from pandas->lifetime-value==0.1) (2025.1)\n",
            "Requirement already satisfied: tensorflow-macos==2.13.0 in /Users/andrew.chan/lifetime_value/.venv/lib/python3.8/site-packages (from tensorflow->lifetime-value==0.1) (2.13.0)\n",
            "Requirement already satisfied: absl-py>=1.0.0 in /Users/andrew.chan/lifetime_value/.venv/lib/python3.8/site-packages (from tensorflow-macos==2.13.0->tensorflow->lifetime-value==0.1) (2.1.0)\n",
            "Requirement already satisfied: astunparse>=1.6.0 in /Users/andrew.chan/lifetime_value/.venv/lib/python3.8/site-packages (from tensorflow-macos==2.13.0->tensorflow->lifetime-value==0.1) (1.6.3)\n",
            "Requirement already satisfied: flatbuffers>=23.1.21 in /Users/andrew.chan/lifetime_value/.venv/lib/python3.8/site-packages (from tensorflow-macos==2.13.0->tensorflow->lifetime-value==0.1) (25.2.10)\n",
            "Requirement already satisfied: gast<=0.4.0,>=0.2.1 in /Users/andrew.chan/lifetime_value/.venv/lib/python3.8/site-packages (from tensorflow-macos==2.13.0->tensorflow->lifetime-value==0.1) (0.4.0)\n",
            "Requirement already satisfied: google-pasta>=0.1.1 in /Users/andrew.chan/lifetime_value/.venv/lib/python3.8/site-packages (from tensorflow-macos==2.13.0->tensorflow->lifetime-value==0.1) (0.2.0)\n",
            "Requirement already satisfied: h5py>=2.9.0 in /Users/andrew.chan/lifetime_value/.venv/lib/python3.8/site-packages (from tensorflow-macos==2.13.0->tensorflow->lifetime-value==0.1) (3.11.0)\n",
            "Requirement already satisfied: libclang>=13.0.0 in /Users/andrew.chan/lifetime_value/.venv/lib/python3.8/site-packages (from tensorflow-macos==2.13.0->tensorflow->lifetime-value==0.1) (18.1.1)\n",
            "Requirement already satisfied: opt-einsum>=2.3.2 in /Users/andrew.chan/lifetime_value/.venv/lib/python3.8/site-packages (from tensorflow-macos==2.13.0->tensorflow->lifetime-value==0.1) (3.4.0)\n",
            "Requirement already satisfied: packaging in /Users/andrew.chan/lifetime_value/.venv/lib/python3.8/site-packages (from tensorflow-macos==2.13.0->tensorflow->lifetime-value==0.1) (24.2)\n",
            "Requirement already satisfied: protobuf!=4.21.0,!=4.21.1,!=4.21.2,!=4.21.3,!=4.21.4,!=4.21.5,<5.0.0dev,>=3.20.3 in /Users/andrew.chan/lifetime_value/.venv/lib/python3.8/site-packages (from tensorflow-macos==2.13.0->tensorflow->lifetime-value==0.1) (4.25.6)\n",
            "Requirement already satisfied: setuptools in /Users/andrew.chan/lifetime_value/.venv/lib/python3.8/site-packages (from tensorflow-macos==2.13.0->tensorflow->lifetime-value==0.1) (56.0.0)\n",
            "Requirement already satisfied: six>=1.12.0 in /Users/andrew.chan/lifetime_value/.venv/lib/python3.8/site-packages (from tensorflow-macos==2.13.0->tensorflow->lifetime-value==0.1) (1.17.0)\n",
            "Requirement already satisfied: termcolor>=1.1.0 in /Users/andrew.chan/lifetime_value/.venv/lib/python3.8/site-packages (from tensorflow-macos==2.13.0->tensorflow->lifetime-value==0.1) (2.4.0)\n",
            "Requirement already satisfied: typing-extensions<4.6.0,>=3.6.6 in /Users/andrew.chan/lifetime_value/.venv/lib/python3.8/site-packages (from tensorflow-macos==2.13.0->tensorflow->lifetime-value==0.1) (4.5.0)\n",
            "Requirement already satisfied: wrapt>=1.11.0 in /Users/andrew.chan/lifetime_value/.venv/lib/python3.8/site-packages (from tensorflow-macos==2.13.0->tensorflow->lifetime-value==0.1) (1.17.2)\n",
            "Requirement already satisfied: grpcio<2.0,>=1.24.3 in /Users/andrew.chan/lifetime_value/.venv/lib/python3.8/site-packages (from tensorflow-macos==2.13.0->tensorflow->lifetime-value==0.1) (1.70.0)\n",
            "Requirement already satisfied: tensorboard<2.14,>=2.13 in /Users/andrew.chan/lifetime_value/.venv/lib/python3.8/site-packages (from tensorflow-macos==2.13.0->tensorflow->lifetime-value==0.1) (2.13.0)\n",
            "Requirement already satisfied: tensorflow-estimator<2.14,>=2.13.0 in /Users/andrew.chan/lifetime_value/.venv/lib/python3.8/site-packages (from tensorflow-macos==2.13.0->tensorflow->lifetime-value==0.1) (2.13.0)\n",
            "Requirement already satisfied: keras<2.14,>=2.13.1 in /Users/andrew.chan/lifetime_value/.venv/lib/python3.8/site-packages (from tensorflow-macos==2.13.0->tensorflow->lifetime-value==0.1) (2.13.1)\n",
            "Requirement already satisfied: decorator in /Users/andrew.chan/lifetime_value/.venv/lib/python3.8/site-packages (from tensorflow-probability->lifetime-value==0.1) (5.1.1)\n",
            "Requirement already satisfied: cloudpickle>=1.3 in /Users/andrew.chan/lifetime_value/.venv/lib/python3.8/site-packages (from tensorflow-probability->lifetime-value==0.1) (3.1.1)\n",
            "Requirement already satisfied: dm-tree in /Users/andrew.chan/lifetime_value/.venv/lib/python3.8/site-packages (from tensorflow-probability->lifetime-value==0.1) (0.1.8)\n",
            "Requirement already satisfied: wheel<1.0,>=0.23.0 in /Users/andrew.chan/lifetime_value/.venv/lib/python3.8/site-packages (from astunparse>=1.6.0->tensorflow-macos==2.13.0->tensorflow->lifetime-value==0.1) (0.45.1)\n",
            "Requirement already satisfied: google-auth<3,>=1.6.3 in /Users/andrew.chan/lifetime_value/.venv/lib/python3.8/site-packages (from tensorboard<2.14,>=2.13->tensorflow-macos==2.13.0->tensorflow->lifetime-value==0.1) (2.38.0)\n",
            "Requirement already satisfied: google-auth-oauthlib<1.1,>=0.5 in /Users/andrew.chan/lifetime_value/.venv/lib/python3.8/site-packages (from tensorboard<2.14,>=2.13->tensorflow-macos==2.13.0->tensorflow->lifetime-value==0.1) (1.0.0)\n",
            "Requirement already satisfied: markdown>=2.6.8 in /Users/andrew.chan/lifetime_value/.venv/lib/python3.8/site-packages (from tensorboard<2.14,>=2.13->tensorflow-macos==2.13.0->tensorflow->lifetime-value==0.1) (3.7)\n",
            "Requirement already satisfied: requests<3,>=2.21.0 in /Users/andrew.chan/lifetime_value/.venv/lib/python3.8/site-packages (from tensorboard<2.14,>=2.13->tensorflow-macos==2.13.0->tensorflow->lifetime-value==0.1) (2.32.3)\n",
            "Requirement already satisfied: tensorboard-data-server<0.8.0,>=0.7.0 in /Users/andrew.chan/lifetime_value/.venv/lib/python3.8/site-packages (from tensorboard<2.14,>=2.13->tensorflow-macos==2.13.0->tensorflow->lifetime-value==0.1) (0.7.2)\n",
            "Requirement already satisfied: werkzeug>=1.0.1 in /Users/andrew.chan/lifetime_value/.venv/lib/python3.8/site-packages (from tensorboard<2.14,>=2.13->tensorflow-macos==2.13.0->tensorflow->lifetime-value==0.1) (3.0.6)\n",
            "Requirement already satisfied: cachetools<6.0,>=2.0.0 in /Users/andrew.chan/lifetime_value/.venv/lib/python3.8/site-packages (from google-auth<3,>=1.6.3->tensorboard<2.14,>=2.13->tensorflow-macos==2.13.0->tensorflow->lifetime-value==0.1) (5.5.1)\n",
            "Requirement already satisfied: pyasn1-modules>=0.2.1 in /Users/andrew.chan/lifetime_value/.venv/lib/python3.8/site-packages (from google-auth<3,>=1.6.3->tensorboard<2.14,>=2.13->tensorflow-macos==2.13.0->tensorflow->lifetime-value==0.1) (0.4.1)\n",
            "Requirement already satisfied: rsa<5,>=3.1.4 in /Users/andrew.chan/lifetime_value/.venv/lib/python3.8/site-packages (from google-auth<3,>=1.6.3->tensorboard<2.14,>=2.13->tensorflow-macos==2.13.0->tensorflow->lifetime-value==0.1) (4.9)\n",
            "Requirement already satisfied: requests-oauthlib>=0.7.0 in /Users/andrew.chan/lifetime_value/.venv/lib/python3.8/site-packages (from google-auth-oauthlib<1.1,>=0.5->tensorboard<2.14,>=2.13->tensorflow-macos==2.13.0->tensorflow->lifetime-value==0.1) (2.0.0)\n",
            "Requirement already satisfied: importlib-metadata>=4.4 in /Users/andrew.chan/lifetime_value/.venv/lib/python3.8/site-packages (from markdown>=2.6.8->tensorboard<2.14,>=2.13->tensorflow-macos==2.13.0->tensorflow->lifetime-value==0.1) (8.5.0)\n",
            "Requirement already satisfied: charset-normalizer<4,>=2 in /Users/andrew.chan/lifetime_value/.venv/lib/python3.8/site-packages (from requests<3,>=2.21.0->tensorboard<2.14,>=2.13->tensorflow-macos==2.13.0->tensorflow->lifetime-value==0.1) (3.4.1)\n",
            "Requirement already satisfied: idna<4,>=2.5 in /Users/andrew.chan/lifetime_value/.venv/lib/python3.8/site-packages (from requests<3,>=2.21.0->tensorboard<2.14,>=2.13->tensorflow-macos==2.13.0->tensorflow->lifetime-value==0.1) (3.10)\n",
            "Requirement already satisfied: urllib3<3,>=1.21.1 in /Users/andrew.chan/lifetime_value/.venv/lib/python3.8/site-packages (from requests<3,>=2.21.0->tensorboard<2.14,>=2.13->tensorflow-macos==2.13.0->tensorflow->lifetime-value==0.1) (2.2.3)\n",
            "Requirement already satisfied: certifi>=2017.4.17 in /Users/andrew.chan/lifetime_value/.venv/lib/python3.8/site-packages (from requests<3,>=2.21.0->tensorboard<2.14,>=2.13->tensorflow-macos==2.13.0->tensorflow->lifetime-value==0.1) (2025.1.31)\n",
            "Requirement already satisfied: MarkupSafe>=2.1.1 in /Users/andrew.chan/lifetime_value/.venv/lib/python3.8/site-packages (from werkzeug>=1.0.1->tensorboard<2.14,>=2.13->tensorflow-macos==2.13.0->tensorflow->lifetime-value==0.1) (2.1.5)\n",
            "Requirement already satisfied: zipp>=3.20 in /Users/andrew.chan/lifetime_value/.venv/lib/python3.8/site-packages (from importlib-metadata>=4.4->markdown>=2.6.8->tensorboard<2.14,>=2.13->tensorflow-macos==2.13.0->tensorflow->lifetime-value==0.1) (3.20.2)\n",
            "Requirement already satisfied: pyasn1<0.7.0,>=0.4.6 in /Users/andrew.chan/lifetime_value/.venv/lib/python3.8/site-packages (from pyasn1-modules>=0.2.1->google-auth<3,>=1.6.3->tensorboard<2.14,>=2.13->tensorflow-macos==2.13.0->tensorflow->lifetime-value==0.1) (0.6.1)\n",
            "Requirement already satisfied: oauthlib>=3.0.0 in /Users/andrew.chan/lifetime_value/.venv/lib/python3.8/site-packages (from requests-oauthlib>=0.7.0->google-auth-oauthlib<1.1,>=0.5->tensorboard<2.14,>=2.13->tensorflow-macos==2.13.0->tensorflow->lifetime-value==0.1) (3.2.2)\n",
            "Building wheels for collected packages: lifetime-value\n",
            "  Building wheel for lifetime-value (setup.py) ... \u001b[?25ldone\n",
            "\u001b[?25h  Created wheel for lifetime-value: filename=lifetime_value-0.1-py3-none-any.whl size=11220 sha256=fb1bd8181d218fe5aeba2a814c9d899a393e1a41b612be0be6c4a6f3f283b522\n",
            "  Stored in directory: /private/var/folders/_x/lk156_010zvdrbc289hkw0180000gp/T/pip-ephem-wheel-cache-l48p4ji_/wheels/f0/57/13/3cbd2c64aad6b4e360557b0e10580dc2fe41b0c49ab9a9c64f\n",
            "Successfully built lifetime-value\n",
            "Installing collected packages: lifetime-value\n",
            "  Attempting uninstall: lifetime-value\n",
            "    Found existing installation: lifetime-value 0.1\n",
            "    Uninstalling lifetime-value-0.1:\n",
            "      Successfully uninstalled lifetime-value-0.1\n",
            "Successfully installed lifetime-value-0.1\n"
          ]
        }
      ],
      "source": [
        "!SKLEARN_ALLOW_DEPRECATED_SKLEARN_PACKAGE_INSTALL=True pip install ../.."
      ]
    },
    {
      "cell_type": "code",
      "execution_count": 4,
      "metadata": {
        "id": "KObdQwyXH2mC"
      },
      "outputs": [],
      "source": [
        "import os\n",
        "\n",
        "import numpy as np\n",
        "import pandas as pd\n",
        "import tqdm\n",
        "from sklearn import metrics\n",
        "from sklearn import model_selection\n",
        "from sklearn import preprocessing\n",
        "import tensorflow as tf\n",
        "from tensorflow import keras\n",
        "from tensorflow.keras import backend as K\n",
        "import tensorflow_probability as tfp\n",
        "from typing import Sequence\n",
        "\n",
        "# install and import ltv\n",
        "import lifetime_value as ltv"
      ]
    },
    {
      "cell_type": "code",
      "execution_count": 5,
      "metadata": {
        "id": "K41RmAfNXtu_"
      },
      "outputs": [],
      "source": [
        "tfd = tfp.distributions\n",
        "pd.options.mode.chained_assignment = None  # default='warn'"
      ]
    },
    {
      "cell_type": "markdown",
      "metadata": {
        "id": "RzTaK6fFXMWT"
      },
      "source": [
        "## Global variables"
      ]
    },
    {
      "cell_type": "code",
      "execution_count": 6,
      "metadata": {
        "id": "VQVhF3fhNEr2"
      },
      "outputs": [],
      "source": [
        "COMPANY = '104900040'  # @param { isTemplate: true, type: 'string'}\n",
        "LOSS = 'ziln'  # @param { isTemplate: true, type: 'string'} ['bce', 'ziln']\n",
        "MODEL = 'dnn'  # @param { isTemplate: true, type: 'string'} ['linear', 'dnn']\n",
        "LEARNING_RATE = 0.0002  # @param { isTemplate: true}\n",
        "EPOCHS = 400  # @param {type: 'integer'}\n",
        "OUTPUT_CSV_FOLDER = '/tmp/lifetime-value/acquire-valued-shoppers-challenge/result'  # @param { isTemplate: true, type: 'string'}"
      ]
    },
    {
      "cell_type": "code",
      "execution_count": 7,
      "metadata": {
        "id": "g7dg8TwYbxnl"
      },
      "outputs": [],
      "source": [
        "CATEGORICAL_FEATURES = ['chain', 'dept', 'category', 'brand', 'productmeasure']\n",
        "NUMERIC_FEATURES = ['log_calibration_value']\n",
        "\n",
        "ALL_FEATURES = CATEGORICAL_FEATURES + NUMERIC_FEATURES"
      ]
    },
    {
      "cell_type": "markdown",
      "metadata": {
        "id": "I_nbvZjMuj_z"
      },
      "source": [
        "## Data"
      ]
    },
    {
      "cell_type": "markdown",
      "metadata": {
        "id": "SFi0JMPu138h"
      },
      "source": [
        "### Download data"
      ]
    },
    {
      "cell_type": "markdown",
      "metadata": {
        "id": "krXMbrkVNtdN"
      },
      "source": [
        "Setup kaggle API correctly following https://www.kaggle.com/docs/api\n",
        "```\n",
        "%%shell\n",
        "mkdir ~/.kaggle\n",
        "echo \\{\\\"username\\\":\\\"{your kaggle username}\\\",\\\"key\\\":\\\"{your kaggle api key}\\\"\\} > ~/.kaggle/kaggle.json\n",
        "pip install kaggle\n",
        "```"
      ]
    },
    {
      "cell_type": "code",
      "execution_count": 8,
      "metadata": {},
      "outputs": [
        {
          "name": "stdout",
          "output_type": "stream",
          "text": [
            "Requirement already satisfied: kaggle in /Users/andrew.chan/lifetime_value/.venv/lib/python3.8/site-packages (1.6.17)\n",
            "Requirement already satisfied: six>=1.10 in /Users/andrew.chan/lifetime_value/.venv/lib/python3.8/site-packages (from kaggle) (1.17.0)\n",
            "Requirement already satisfied: certifi>=2023.7.22 in /Users/andrew.chan/lifetime_value/.venv/lib/python3.8/site-packages (from kaggle) (2025.1.31)\n",
            "Requirement already satisfied: python-dateutil in /Users/andrew.chan/lifetime_value/.venv/lib/python3.8/site-packages (from kaggle) (2.9.0.post0)\n",
            "Requirement already satisfied: requests in /Users/andrew.chan/lifetime_value/.venv/lib/python3.8/site-packages (from kaggle) (2.32.3)\n",
            "Requirement already satisfied: tqdm in /Users/andrew.chan/lifetime_value/.venv/lib/python3.8/site-packages (from kaggle) (4.67.1)\n",
            "Requirement already satisfied: python-slugify in /Users/andrew.chan/lifetime_value/.venv/lib/python3.8/site-packages (from kaggle) (8.0.4)\n",
            "Requirement already satisfied: urllib3 in /Users/andrew.chan/lifetime_value/.venv/lib/python3.8/site-packages (from kaggle) (2.2.3)\n",
            "Requirement already satisfied: bleach in /Users/andrew.chan/lifetime_value/.venv/lib/python3.8/site-packages (from kaggle) (6.1.0)\n",
            "Requirement already satisfied: webencodings in /Users/andrew.chan/lifetime_value/.venv/lib/python3.8/site-packages (from bleach->kaggle) (0.5.1)\n",
            "Requirement already satisfied: text-unidecode>=1.3 in /Users/andrew.chan/lifetime_value/.venv/lib/python3.8/site-packages (from python-slugify->kaggle) (1.3)\n",
            "Requirement already satisfied: charset-normalizer<4,>=2 in /Users/andrew.chan/lifetime_value/.venv/lib/python3.8/site-packages (from requests->kaggle) (3.4.1)\n",
            "Requirement already satisfied: idna<4,>=2.5 in /Users/andrew.chan/lifetime_value/.venv/lib/python3.8/site-packages (from requests->kaggle) (3.10)\n",
            "Note: you may need to restart the kernel to use updated packages.\n"
          ]
        }
      ],
      "source": [
        "%pip install kaggle"
      ]
    },
    {
      "cell_type": "code",
      "execution_count": 9,
      "metadata": {
        "id": "0gf4ipd-14x0"
      },
      "outputs": [],
      "source": [
        "# %%bash\n",
        "# if [ -e /tmp/lifetime-value/acquire-valued-shoppers-challenge/transactions.csv ]\n",
        "# then\n",
        "#   echo \"File already exists, no need to download.\"\n",
        "# else\n",
        "#   rm -rf /tmp/lifetime-value/acquire-valued-shoppers-challenge\n",
        "#   mkdir -p /tmp/lifetime-value/acquire-valued-shoppers-challenge\n",
        "#   cd /tmp/lifetime-value/acquire-valued-shoppers-challenge\n",
        "#   kaggle competitions download -c acquire-valued-shoppers-challenge\n",
        "#   echo \"Unzip file. This may take 10 min.\"\n",
        "#   gunzip transactions.csv.gz\n",
        "# fi"
      ]
    },
    {
      "cell_type": "markdown",
      "metadata": {
        "id": "V4zoAS25uj_7"
      },
      "source": [
        "### Load transaction csv"
      ]
    },
    {
      "cell_type": "code",
      "execution_count": 10,
      "metadata": {
        "id": "5tIMvE3dW1Ky"
      },
      "outputs": [],
      "source": [
        "def load_transaction_data(company):\n",
        "  all_data_filename = '/tmp/lifetime-value/acquire-valued-shoppers-challenge/transactions.csv'\n",
        "  one_company_data_filename = (\n",
        "      '/tmp/lifetime-value/acquire-valued-shoppers-challenge/transactions_company_{}.csv'\n",
        "      .format(COMPANY))\n",
        "  if os.path.isfile(one_company_data_filename):\n",
        "    df = pd.read_csv(one_company_data_filename)\n",
        "  else:\n",
        "    data_list = []\n",
        "    chunksize = 10**6\n",
        "    # 350 iterations\n",
        "    for chunk in tqdm.tqdm(pd.read_csv(all_data_filename, chunksize=chunksize)):\n",
        "      data_list.append(chunk.query(\"company=={}\".format(company)))\n",
        "    df = pd.concat(data_list, axis=0)\n",
        "    df.to_csv(one_company_data_filename, index=None)\n",
        "  return df"
      ]
    },
    {
      "cell_type": "markdown",
      "metadata": {
        "id": "9ra4bfwCVwKn"
      },
      "source": [
        "### Preprocess data"
      ]
    },
    {
      "cell_type": "code",
      "execution_count": 11,
      "metadata": {
        "id": "PlJl5g9Delmi"
      },
      "outputs": [],
      "source": [
        "def preprocess(df):\n",
        "  df = df.query('purchaseamount>0')\n",
        "  df['date'] = pd.to_datetime(df['date'], format='%Y-%m-%d')\n",
        "  df['start_date'] = df.groupby('id')['date'].transform('min')\n",
        "\n",
        "  # Compute calibration values\n",
        "  calibration_value = (\n",
        "      df.query('date==start_date').groupby('id')\n",
        "      ['purchaseamount'].sum().reset_index())\n",
        "  calibration_value.columns = ['id', 'calibration_value']\n",
        "\n",
        "  # Compute holdout values\n",
        "  one_year_holdout_window_mask = (\n",
        "      (df['date'] > df['start_date']) &\n",
        "      (df['date'] <= df['start_date'] + np.timedelta64(365, 'D')))\n",
        "  holdout_value = (\n",
        "      df[one_year_holdout_window_mask].groupby('id')\n",
        "      ['purchaseamount'].sum().reset_index())\n",
        "  holdout_value.columns = ['id', 'holdout_value']\n",
        "\n",
        "  # Compute calibration attributes\n",
        "  calibration_attributes = (\n",
        "      df.query('date==start_date').sort_values(\n",
        "          'purchaseamount', ascending=False).groupby('id')[[\n",
        "              'chain', 'dept', 'category', 'brand', 'productmeasure'\n",
        "          ]].first().reset_index())\n",
        "\n",
        "  # Merge dataframes\n",
        "  customer_level_data = (\n",
        "      calibration_value.merge(calibration_attributes, how='left',\n",
        "                              on='id').merge(\n",
        "                                  holdout_value, how='left', on='id'))\n",
        "  customer_level_data['holdout_value'] = (\n",
        "      customer_level_data['holdout_value'].fillna(0.))\n",
        "  customer_level_data[CATEGORICAL_FEATURES] = (\n",
        "      customer_level_data[CATEGORICAL_FEATURES].fillna('UNKNOWN'))\n",
        "\n",
        "  # Specify data types\n",
        "  customer_level_data['log_calibration_value'] = (\n",
        "      np.log(customer_level_data['calibration_value']).astype('float32'))\n",
        "  customer_level_data['chain'] = (\n",
        "      customer_level_data['chain'].astype('category'))\n",
        "  customer_level_data['dept'] = (customer_level_data['dept'].astype('category'))\n",
        "  customer_level_data['brand'] = (\n",
        "      customer_level_data['brand'].astype('category'))\n",
        "  customer_level_data['category'] = (\n",
        "      customer_level_data['category'].astype('category'))\n",
        "  customer_level_data['label'] = (\n",
        "      customer_level_data['holdout_value'].astype('float32'))\n",
        "  return customer_level_data"
      ]
    },
    {
      "cell_type": "markdown",
      "metadata": {
        "id": "fP3q6uuMoXhA"
      },
      "source": [
        "### Load customer-level csv"
      ]
    },
    {
      "cell_type": "code",
      "execution_count": 12,
      "metadata": {
        "id": "X8B4zV1xoeMX"
      },
      "outputs": [],
      "source": [
        "def load_customer_level_csv(company):\n",
        "  customer_level_data_file = (\n",
        "      '/tmp/lifetime-value/acquire-valued-shoppers-challenge/customer_level_data_company_{}.csv'\n",
        "      .format(company))\n",
        "  if os.path.isfile(customer_level_data_file):\n",
        "    customer_level_data = pd.read_csv(customer_level_data_file)\n",
        "  else:\n",
        "    customer_level_data = preprocess(load_transaction_data(company))\n",
        "  for cat_col in CATEGORICAL_FEATURES:\n",
        "    customer_level_data[cat_col] = (\n",
        "        customer_level_data[cat_col].astype('category'))\n",
        "  for num_col in [\n",
        "      'log_calibration_value', 'calibration_value', 'holdout_value'\n",
        "  ]:\n",
        "    customer_level_data[num_col] = (\n",
        "        customer_level_data[num_col].astype('float32'))\n",
        "\n",
        "  return customer_level_data"
      ]
    },
    {
      "cell_type": "code",
      "execution_count": 13,
      "metadata": {
        "id": "DWwMxpIEukAE"
      },
      "outputs": [],
      "source": [
        "# Processes data. 350 iteration in total. May take 10min.\n",
        "customer_level_data = load_customer_level_csv(COMPANY)"
      ]
    },
    {
      "cell_type": "code",
      "execution_count": 14,
      "metadata": {},
      "outputs": [
        {
          "data": {
            "text/plain": [
              "<bound method NDFrame.head of                 id  calibration_value chain dept category  brand  \\\n",
              "0            86246              11.58   205   36     3630  23359   \n",
              "1            86252               0.99   205   21     2105  14357   \n",
              "2         12262064               1.72    95   21     2105  14357   \n",
              "3         12277270               4.49    95   36     3601   3809   \n",
              "4         12332190               1.49    95   36     3611   4599   \n",
              "...            ...                ...   ...  ...      ...    ...   \n",
              "249280  4824696849               1.00    46   36     3601   3809   \n",
              "249281  4829517835               6.98    46   36     3601   3809   \n",
              "249282  4837642552               4.99    46   36     3611   4599   \n",
              "249283  4847628950              16.65   166   36     3618  23359   \n",
              "249284  4847787712               3.67    46   36     3601   3809   \n",
              "\n",
              "       productmeasure  holdout_value  log_calibration_value       label  \n",
              "0                  OZ     358.260010               2.449280  358.260010  \n",
              "1                  OZ     336.649994              -0.010050  336.649994  \n",
              "2                  OZ      32.310001               0.542324   32.310001  \n",
              "3                  OZ     186.750000               1.501853  186.750000  \n",
              "4                  OZ      53.610001               0.398776   53.610001  \n",
              "...               ...            ...                    ...         ...  \n",
              "249280             OZ       0.000000               0.000000    0.000000  \n",
              "249281             OZ       0.000000               1.943049    0.000000  \n",
              "249282             OZ      14.970000               1.607436   14.970000  \n",
              "249283             OZ      71.110001               2.812410   71.110001  \n",
              "249284             OZ       0.000000               1.300192    0.000000  \n",
              "\n",
              "[249285 rows x 10 columns]>"
            ]
          },
          "execution_count": 14,
          "metadata": {},
          "output_type": "execute_result"
        }
      ],
      "source": [
        "customer_level_data.head"
      ]
    },
    {
      "cell_type": "markdown",
      "metadata": {
        "id": "09tqgvANtsil"
      },
      "source": [
        "We observe a mixture of zero and lognormal distribution of holdout value."
      ]
    },
    {
      "cell_type": "code",
      "execution_count": 15,
      "metadata": {
        "id": "BtF0z3VbmGev"
      },
      "outputs": [
        {
          "data": {
            "text/plain": [
              "<Axes: >"
            ]
          },
          "execution_count": 15,
          "metadata": {},
          "output_type": "execute_result"
        },
        {
          "data": {
            "image/png": "[encoded data removed]",
            "text/plain": [
              "<Figure size 640x480 with 1 Axes>"
            ]
          },
          "metadata": {},
          "output_type": "display_data"
        }
      ],
      "source": [
        "customer_level_data.label.apply(np.log1p).hist(bins=50)"
      ]
    },
    {
      "cell_type": "code",
      "execution_count": 16,
      "metadata": {
        "id": "wLpgjEuofbdy"
      },
      "outputs": [
        {
          "data": {
            "text/html": [
              "<div>\n",
              "<style scoped>\n",
              "    .dataframe tbody tr th:only-of-type {\n",
              "        vertical-align: middle;\n",
              "    }\n",
              "\n",
              "    .dataframe tbody tr th {\n",
              "        vertical-align: top;\n",
              "    }\n",
              "\n",
              "    .dataframe thead th {\n",
              "        text-align: right;\n",
              "    }\n",
              "</style>\n",
              "<table border=\"1\" class=\"dataframe\">\n",
              "  <thead>\n",
              "    <tr style=\"text-align: right;\">\n",
              "      <th></th>\n",
              "      <th>0</th>\n",
              "      <th>1</th>\n",
              "      <th>2</th>\n",
              "      <th>3</th>\n",
              "      <th>4</th>\n",
              "    </tr>\n",
              "  </thead>\n",
              "  <tbody>\n",
              "    <tr>\n",
              "      <th>id</th>\n",
              "      <td>86246</td>\n",
              "      <td>86252</td>\n",
              "      <td>12262064</td>\n",
              "      <td>12277270</td>\n",
              "      <td>12332190</td>\n",
              "    </tr>\n",
              "    <tr>\n",
              "      <th>calibration_value</th>\n",
              "      <td>11.58</td>\n",
              "      <td>0.99</td>\n",
              "      <td>1.72</td>\n",
              "      <td>4.49</td>\n",
              "      <td>1.49</td>\n",
              "    </tr>\n",
              "    <tr>\n",
              "      <th>chain</th>\n",
              "      <td>205</td>\n",
              "      <td>205</td>\n",
              "      <td>95</td>\n",
              "      <td>95</td>\n",
              "      <td>95</td>\n",
              "    </tr>\n",
              "    <tr>\n",
              "      <th>dept</th>\n",
              "      <td>36</td>\n",
              "      <td>21</td>\n",
              "      <td>21</td>\n",
              "      <td>36</td>\n",
              "      <td>36</td>\n",
              "    </tr>\n",
              "    <tr>\n",
              "      <th>category</th>\n",
              "      <td>3630</td>\n",
              "      <td>2105</td>\n",
              "      <td>2105</td>\n",
              "      <td>3601</td>\n",
              "      <td>3611</td>\n",
              "    </tr>\n",
              "    <tr>\n",
              "      <th>brand</th>\n",
              "      <td>23359</td>\n",
              "      <td>14357</td>\n",
              "      <td>14357</td>\n",
              "      <td>3809</td>\n",
              "      <td>4599</td>\n",
              "    </tr>\n",
              "    <tr>\n",
              "      <th>productmeasure</th>\n",
              "      <td>OZ</td>\n",
              "      <td>OZ</td>\n",
              "      <td>OZ</td>\n",
              "      <td>OZ</td>\n",
              "      <td>OZ</td>\n",
              "    </tr>\n",
              "    <tr>\n",
              "      <th>holdout_value</th>\n",
              "      <td>358.26001</td>\n",
              "      <td>336.649994</td>\n",
              "      <td>32.310001</td>\n",
              "      <td>186.75</td>\n",
              "      <td>53.610001</td>\n",
              "    </tr>\n",
              "    <tr>\n",
              "      <th>log_calibration_value</th>\n",
              "      <td>2.44928</td>\n",
              "      <td>-0.01005</td>\n",
              "      <td>0.542324</td>\n",
              "      <td>1.501853</td>\n",
              "      <td>0.398776</td>\n",
              "    </tr>\n",
              "    <tr>\n",
              "      <th>label</th>\n",
              "      <td>358.26001</td>\n",
              "      <td>336.649994</td>\n",
              "      <td>32.310001</td>\n",
              "      <td>186.75</td>\n",
              "      <td>53.610001</td>\n",
              "    </tr>\n",
              "  </tbody>\n",
              "</table>\n",
              "</div>"
            ],
            "text/plain": [
              "                               0           1          2         3          4\n",
              "id                         86246       86252   12262064  12277270   12332190\n",
              "calibration_value          11.58        0.99       1.72      4.49       1.49\n",
              "chain                        205         205         95        95         95\n",
              "dept                          36          21         21        36         36\n",
              "category                    3630        2105       2105      3601       3611\n",
              "brand                      23359       14357      14357      3809       4599\n",
              "productmeasure                OZ          OZ         OZ        OZ         OZ\n",
              "holdout_value          358.26001  336.649994  32.310001    186.75  53.610001\n",
              "log_calibration_value    2.44928    -0.01005   0.542324  1.501853   0.398776\n",
              "label                  358.26001  336.649994  32.310001    186.75  53.610001"
            ]
          },
          "execution_count": 16,
          "metadata": {},
          "output_type": "execute_result"
        }
      ],
      "source": [
        "customer_level_data.head().T"
      ]
    },
    {
      "cell_type": "markdown",
      "metadata": {
        "id": "slIDJAaTcQeK"
      },
      "source": [
        "## Data"
      ]
    },
    {
      "cell_type": "markdown",
      "metadata": {
        "id": "i4kN0uk4kZ68"
      },
      "source": [
        "### Make train/eval"
      ]
    },
    {
      "cell_type": "code",
      "execution_count": 17,
      "metadata": {
        "id": "JjP5v6NiQfCX"
      },
      "outputs": [],
      "source": [
        "def linear_split(df):\n",
        "  # get_dummies preserves numeric features.\n",
        "  x = pd.get_dummies(df[ALL_FEATURES], drop_first=True).astype('float32').values\n",
        "  y = df['label'].values\n",
        "\n",
        "  x_train, x_eval, y_train, y_eval = model_selection.train_test_split(\n",
        "      x, y, test_size=0.2, random_state=123)\n",
        "\n",
        "  return x_train, x_eval, y_train, y_eval"
      ]
    },
    {
      "cell_type": "code",
      "execution_count": 18,
      "metadata": {
        "id": "KtWXwORJjaP4"
      },
      "outputs": [],
      "source": [
        "def dnn_split(df):\n",
        "  for key in CATEGORICAL_FEATURES:\n",
        "    encoder = preprocessing.LabelEncoder()\n",
        "    df[key] = encoder.fit_transform(df[key])\n",
        "\n",
        "  df_train, df_eval = model_selection.train_test_split(\n",
        "      df, test_size=0.2, random_state=123)\n",
        "\n",
        "  def feature_dict(df):\n",
        "    features = {k: v.values for k, v in dict(df[CATEGORICAL_FEATURES]).items()}\n",
        "    features['numeric'] = df[NUMERIC_FEATURES].values\n",
        "    return features\n",
        "\n",
        "  x_train, y_train = feature_dict(df_train), df_train['label'].values\n",
        "  x_eval, y_eval = feature_dict(df_eval), df_eval['label'].values\n",
        "\n",
        "  return x_train, x_eval, y_train, y_eval"
      ]
    },
    {
      "cell_type": "markdown",
      "metadata": {
        "id": "lqbShWBzR4NE"
      },
      "source": [
        "## Model"
      ]
    },
    {
      "cell_type": "code",
      "execution_count": 19,
      "metadata": {
        "id": "Yh4Y4a89ooP3"
      },
      "outputs": [],
      "source": [
        "def linear_model(output_units):\n",
        "  return tf.keras.experimental.LinearModel(output_units)"
      ]
    },
    {
      "cell_type": "code",
      "execution_count": 20,
      "metadata": {
        "id": "W8yo3HLtrAE_"
      },
      "outputs": [],
      "source": [
        "def embedding_dim(x):\n",
        "  return int(x**.25) + 1\n",
        "\n",
        "\n",
        "def embedding_layer(vocab_size):\n",
        "  return tf.keras.Sequential([\n",
        "      tf.keras.layers.Embedding(\n",
        "          input_dim=vocab_size,\n",
        "          output_dim=embedding_dim(vocab_size),\n",
        "          input_length=1),\n",
        "      tf.keras.layers.Flatten(),\n",
        "  ])\n",
        "\n",
        "\n",
        "def dnn_model(output_units, df):\n",
        "  numeric_input = tf.keras.layers.Input(\n",
        "      shape=(len(NUMERIC_FEATURES),), name='numeric')\n",
        "\n",
        "  embedding_inputs = [\n",
        "      tf.keras.layers.Input(shape=(1,), name=key, dtype=np.int64)\n",
        "      for key in CATEGORICAL_FEATURES\n",
        "  ]\n",
        "\n",
        "  embedding_outputs = [\n",
        "      embedding_layer(vocab_size=df[key].nunique())(input)\n",
        "      for key, input in zip(CATEGORICAL_FEATURES, embedding_inputs)\n",
        "  ]\n",
        "\n",
        "  deep_input = tf.keras.layers.concatenate([numeric_input] + embedding_outputs)\n",
        "  deep_model = tf.keras.Sequential([\n",
        "      tf.keras.layers.Dense(64, activation='relu'),\n",
        "      tf.keras.layers.Dense(32, activation='relu'),\n",
        "      tf.keras.layers.Dense(output_units),\n",
        "  ])\n",
        "  return tf.keras.Model(\n",
        "      inputs=[numeric_input] + embedding_inputs, outputs=deep_model(deep_input))"
      ]
    },
    {
      "cell_type": "markdown",
      "metadata": {
        "id": "U8l-KzZ12fbK"
      },
      "source": [
        "### Train"
      ]
    },
    {
      "cell_type": "code",
      "execution_count": 21,
      "metadata": {
        "id": "45BHY6q7rQmI"
      },
      "outputs": [],
      "source": [
        "if LOSS == 'bce':\n",
        "  loss = keras.losses.BinaryCrossentropy(from_logits=True)\n",
        "  output_units = 1\n",
        "\n",
        "if LOSS == 'ziln':\n",
        "  loss = ltv.zero_inflated_lognormal_loss\n",
        "  output_units = 3"
      ]
    },
    {
      "cell_type": "code",
      "execution_count": 22,
      "metadata": {
        "id": "7Jeou8bGrhll"
      },
      "outputs": [],
      "source": [
        "if MODEL == 'linear':\n",
        "  x_train, x_eval, y_train, y_eval = linear_split(customer_level_data)\n",
        "  model = linear_model(output_units)\n",
        "\n",
        "if MODEL == 'dnn':\n",
        "  x_train, x_eval, y_train, y_eval = dnn_split(customer_level_data)\n",
        "  model = dnn_model(output_units, customer_level_data)"
      ]
    },
    {
      "cell_type": "code",
      "execution_count": 23,
      "metadata": {
        "id": "uF2IdTpAwiZV"
      },
      "outputs": [],
      "source": [
        "if LOSS == 'bce':\n",
        "  y_train = (y_train > 0).astype('float32')\n",
        "  y_eval = (y_eval > 0).astype('float32')"
      ]
    },
    {
      "cell_type": "code",
      "execution_count": 24,
      "metadata": {
        "id": "_GQ-RlIAfT62"
      },
      "outputs": [
        {
          "name": "stderr",
          "output_type": "stream",
          "text": [
            "WARNING:absl:At this time, the v2.11+ optimizer `tf.keras.optimizers.Adam` runs slowly on M1/M2 Macs, please use the legacy Keras optimizer instead, located at `tf.keras.optimizers.legacy.Adam`.\n",
            "WARNING:absl:`lr` is deprecated in Keras optimizer, please use `learning_rate` or use the legacy optimizer, e.g.,tf.keras.optimizers.legacy.Adam.\n",
            "WARNING:absl:There is a known slowdown when using v2.11+ Keras optimizers on M1/M2 Macs. Falling back to the legacy Keras optimizer, i.e., `tf.keras.optimizers.legacy.Adam`.\n"
          ]
        }
      ],
      "source": [
        "model.compile(loss=loss, optimizer=keras.optimizers.Adam(lr=LEARNING_RATE))"
      ]
    },
    {
      "cell_type": "code",
      "execution_count": 25,
      "metadata": {
        "id": "chEIOzq6rlJx"
      },
      "outputs": [],
      "source": [
        "callbacks = [\n",
        "    tf.keras.callbacks.ReduceLROnPlateau(monitor='val_loss', min_lr=1e-6),\n",
        "    tf.keras.callbacks.EarlyStopping(monitor='val_loss', patience=10),\n",
        "]"
      ]
    },
    {
      "cell_type": "code",
      "execution_count": 26,
      "metadata": {
        "id": "-BjnHV7MWhK1"
      },
      "outputs": [
        {
          "name": "stdout",
          "output_type": "stream",
          "text": [
            "Epoch 1/400\n",
            "195/195 - 1s - loss: 5.8018 - val_loss: 4.6381 - lr: 0.0010 - 853ms/epoch - 4ms/step\n",
            "Epoch 2/400\n",
            "195/195 - 0s - loss: 4.6141 - val_loss: 4.6235 - lr: 0.0010 - 234ms/epoch - 1ms/step\n",
            "Epoch 3/400\n",
            "195/195 - 0s - loss: 4.6099 - val_loss: 4.6218 - lr: 0.0010 - 228ms/epoch - 1ms/step\n",
            "Epoch 4/400\n",
            "195/195 - 0s - loss: 4.6080 - val_loss: 4.6201 - lr: 0.0010 - 210ms/epoch - 1ms/step\n",
            "Epoch 5/400\n",
            "195/195 - 0s - loss: 4.6060 - val_loss: 4.6179 - lr: 0.0010 - 213ms/epoch - 1ms/step\n",
            "Epoch 6/400\n",
            "195/195 - 0s - loss: 4.6046 - val_loss: 4.6167 - lr: 0.0010 - 204ms/epoch - 1ms/step\n",
            "Epoch 7/400\n",
            "195/195 - 0s - loss: 4.6037 - val_loss: 4.6166 - lr: 0.0010 - 203ms/epoch - 1ms/step\n",
            "Epoch 8/400\n",
            "195/195 - 0s - loss: 4.6029 - val_loss: 4.6152 - lr: 0.0010 - 202ms/epoch - 1ms/step\n",
            "Epoch 9/400\n",
            "195/195 - 0s - loss: 4.6022 - val_loss: 4.6155 - lr: 0.0010 - 198ms/epoch - 1ms/step\n",
            "Epoch 10/400\n",
            "195/195 - 0s - loss: 4.6017 - val_loss: 4.6142 - lr: 0.0010 - 203ms/epoch - 1ms/step\n",
            "Epoch 11/400\n",
            "195/195 - 0s - loss: 4.6013 - val_loss: 4.6148 - lr: 0.0010 - 202ms/epoch - 1ms/step\n",
            "Epoch 12/400\n",
            "195/195 - 0s - loss: 4.6009 - val_loss: 4.6144 - lr: 0.0010 - 200ms/epoch - 1ms/step\n",
            "Epoch 13/400\n",
            "195/195 - 0s - loss: 4.6010 - val_loss: 4.6140 - lr: 0.0010 - 218ms/epoch - 1ms/step\n",
            "Epoch 14/400\n",
            "195/195 - 0s - loss: 4.6008 - val_loss: 4.6141 - lr: 0.0010 - 196ms/epoch - 1ms/step\n",
            "Epoch 15/400\n",
            "195/195 - 0s - loss: 4.6007 - val_loss: 4.6148 - lr: 0.0010 - 195ms/epoch - 998us/step\n",
            "Epoch 16/400\n",
            "195/195 - 0s - loss: 4.6006 - val_loss: 4.6137 - lr: 0.0010 - 197ms/epoch - 1ms/step\n",
            "Epoch 17/400\n",
            "195/195 - 0s - loss: 4.6004 - val_loss: 4.6148 - lr: 0.0010 - 199ms/epoch - 1ms/step\n",
            "Epoch 18/400\n",
            "195/195 - 0s - loss: 4.6001 - val_loss: 4.6140 - lr: 0.0010 - 197ms/epoch - 1ms/step\n",
            "Epoch 19/400\n",
            "195/195 - 0s - loss: 4.5999 - val_loss: 4.6139 - lr: 0.0010 - 198ms/epoch - 1ms/step\n",
            "Epoch 20/400\n",
            "195/195 - 0s - loss: 4.5999 - val_loss: 4.6135 - lr: 0.0010 - 198ms/epoch - 1ms/step\n",
            "Epoch 21/400\n",
            "195/195 - 0s - loss: 4.5999 - val_loss: 4.6146 - lr: 0.0010 - 201ms/epoch - 1ms/step\n",
            "Epoch 22/400\n",
            "195/195 - 0s - loss: 4.5996 - val_loss: 4.6135 - lr: 0.0010 - 198ms/epoch - 1ms/step\n",
            "Epoch 23/400\n",
            "195/195 - 0s - loss: 4.5994 - val_loss: 4.6139 - lr: 0.0010 - 201ms/epoch - 1ms/step\n",
            "Epoch 24/400\n",
            "195/195 - 0s - loss: 4.5995 - val_loss: 4.6138 - lr: 0.0010 - 201ms/epoch - 1ms/step\n",
            "Epoch 25/400\n",
            "195/195 - 0s - loss: 4.5991 - val_loss: 4.6131 - lr: 0.0010 - 202ms/epoch - 1ms/step\n",
            "Epoch 26/400\n",
            "195/195 - 0s - loss: 4.5991 - val_loss: 4.6131 - lr: 0.0010 - 204ms/epoch - 1ms/step\n",
            "Epoch 27/400\n",
            "195/195 - 0s - loss: 4.5986 - val_loss: 4.6131 - lr: 0.0010 - 198ms/epoch - 1ms/step\n",
            "Epoch 28/400\n",
            "195/195 - 0s - loss: 4.5985 - val_loss: 4.6130 - lr: 0.0010 - 199ms/epoch - 1ms/step\n",
            "Epoch 29/400\n",
            "195/195 - 0s - loss: 4.5985 - val_loss: 4.6130 - lr: 0.0010 - 199ms/epoch - 1ms/step\n",
            "Epoch 30/400\n",
            "195/195 - 0s - loss: 4.5981 - val_loss: 4.6126 - lr: 0.0010 - 198ms/epoch - 1ms/step\n",
            "Epoch 31/400\n",
            "195/195 - 0s - loss: 4.5979 - val_loss: 4.6126 - lr: 0.0010 - 200ms/epoch - 1ms/step\n",
            "Epoch 32/400\n",
            "195/195 - 0s - loss: 4.5979 - val_loss: 4.6125 - lr: 0.0010 - 207ms/epoch - 1ms/step\n",
            "Epoch 33/400\n",
            "195/195 - 0s - loss: 4.5976 - val_loss: 4.6121 - lr: 0.0010 - 200ms/epoch - 1ms/step\n",
            "Epoch 34/400\n",
            "195/195 - 0s - loss: 4.5974 - val_loss: 4.6119 - lr: 0.0010 - 198ms/epoch - 1ms/step\n",
            "Epoch 35/400\n",
            "195/195 - 0s - loss: 4.5976 - val_loss: 4.6145 - lr: 0.0010 - 198ms/epoch - 1ms/step\n",
            "Epoch 36/400\n",
            "195/195 - 0s - loss: 4.5976 - val_loss: 4.6123 - lr: 0.0010 - 200ms/epoch - 1ms/step\n",
            "Epoch 37/400\n",
            "195/195 - 0s - loss: 4.5971 - val_loss: 4.6123 - lr: 0.0010 - 198ms/epoch - 1ms/step\n",
            "Epoch 38/400\n",
            "195/195 - 0s - loss: 4.5968 - val_loss: 4.6144 - lr: 0.0010 - 205ms/epoch - 1ms/step\n",
            "Epoch 39/400\n",
            "195/195 - 0s - loss: 4.5971 - val_loss: 4.6124 - lr: 0.0010 - 196ms/epoch - 1ms/step\n",
            "Epoch 40/400\n",
            "195/195 - 0s - loss: 4.5969 - val_loss: 4.6133 - lr: 0.0010 - 198ms/epoch - 1ms/step\n",
            "Epoch 41/400\n",
            "195/195 - 0s - loss: 4.5966 - val_loss: 4.6118 - lr: 0.0010 - 205ms/epoch - 1ms/step\n",
            "Epoch 42/400\n",
            "195/195 - 0s - loss: 4.5966 - val_loss: 4.6119 - lr: 0.0010 - 200ms/epoch - 1ms/step\n",
            "Epoch 43/400\n",
            "195/195 - 0s - loss: 4.5965 - val_loss: 4.6126 - lr: 0.0010 - 201ms/epoch - 1ms/step\n",
            "Epoch 44/400\n",
            "195/195 - 0s - loss: 4.5963 - val_loss: 4.6128 - lr: 0.0010 - 200ms/epoch - 1ms/step\n",
            "Epoch 45/400\n",
            "195/195 - 0s - loss: 4.5961 - val_loss: 4.6123 - lr: 0.0010 - 200ms/epoch - 1ms/step\n",
            "Epoch 46/400\n",
            "195/195 - 0s - loss: 4.5960 - val_loss: 4.6143 - lr: 0.0010 - 197ms/epoch - 1ms/step\n",
            "Epoch 47/400\n",
            "195/195 - 0s - loss: 4.5960 - val_loss: 4.6136 - lr: 0.0010 - 197ms/epoch - 1ms/step\n",
            "Epoch 48/400\n",
            "195/195 - 0s - loss: 4.5960 - val_loss: 4.6123 - lr: 0.0010 - 197ms/epoch - 1ms/step\n",
            "Epoch 49/400\n",
            "195/195 - 0s - loss: 4.5958 - val_loss: 4.6113 - lr: 0.0010 - 194ms/epoch - 993us/step\n",
            "Epoch 50/400\n",
            "195/195 - 0s - loss: 4.5958 - val_loss: 4.6127 - lr: 0.0010 - 198ms/epoch - 1ms/step\n",
            "Epoch 51/400\n",
            "195/195 - 0s - loss: 4.5957 - val_loss: 4.6117 - lr: 0.0010 - 198ms/epoch - 1ms/step\n",
            "Epoch 52/400\n",
            "195/195 - 0s - loss: 4.5955 - val_loss: 4.6118 - lr: 0.0010 - 197ms/epoch - 1ms/step\n",
            "Epoch 53/400\n",
            "195/195 - 0s - loss: 4.5954 - val_loss: 4.6110 - lr: 0.0010 - 205ms/epoch - 1ms/step\n",
            "Epoch 54/400\n",
            "195/195 - 0s - loss: 4.5951 - val_loss: 4.6109 - lr: 0.0010 - 204ms/epoch - 1ms/step\n",
            "Epoch 55/400\n",
            "195/195 - 0s - loss: 4.5950 - val_loss: 4.6107 - lr: 0.0010 - 203ms/epoch - 1ms/step\n",
            "Epoch 56/400\n",
            "195/195 - 0s - loss: 4.5953 - val_loss: 4.6119 - lr: 0.0010 - 199ms/epoch - 1ms/step\n",
            "Epoch 57/400\n",
            "195/195 - 0s - loss: 4.5949 - val_loss: 4.6110 - lr: 0.0010 - 204ms/epoch - 1ms/step\n",
            "Epoch 58/400\n",
            "195/195 - 0s - loss: 4.5949 - val_loss: 4.6107 - lr: 0.0010 - 206ms/epoch - 1ms/step\n",
            "Epoch 59/400\n",
            "195/195 - 0s - loss: 4.5950 - val_loss: 4.6116 - lr: 0.0010 - 204ms/epoch - 1ms/step\n",
            "Epoch 60/400\n",
            "195/195 - 0s - loss: 4.5948 - val_loss: 4.6109 - lr: 0.0010 - 203ms/epoch - 1ms/step\n",
            "Epoch 61/400\n",
            "195/195 - 0s - loss: 4.5949 - val_loss: 4.6105 - lr: 0.0010 - 205ms/epoch - 1ms/step\n",
            "Epoch 62/400\n",
            "195/195 - 0s - loss: 4.5948 - val_loss: 4.6102 - lr: 0.0010 - 205ms/epoch - 1ms/step\n",
            "Epoch 63/400\n",
            "195/195 - 0s - loss: 4.5944 - val_loss: 4.6104 - lr: 0.0010 - 200ms/epoch - 1ms/step\n",
            "Epoch 64/400\n",
            "195/195 - 0s - loss: 4.5946 - val_loss: 4.6104 - lr: 0.0010 - 200ms/epoch - 1ms/step\n",
            "Epoch 65/400\n",
            "195/195 - 0s - loss: 4.5944 - val_loss: 4.6122 - lr: 0.0010 - 201ms/epoch - 1ms/step\n",
            "Epoch 66/400\n",
            "195/195 - 0s - loss: 4.5943 - val_loss: 4.6113 - lr: 0.0010 - 199ms/epoch - 1ms/step\n",
            "Epoch 67/400\n",
            "195/195 - 0s - loss: 4.5942 - val_loss: 4.6113 - lr: 0.0010 - 197ms/epoch - 1ms/step\n",
            "Epoch 68/400\n",
            "195/195 - 0s - loss: 4.5941 - val_loss: 4.6100 - lr: 0.0010 - 196ms/epoch - 1ms/step\n",
            "Epoch 69/400\n",
            "195/195 - 0s - loss: 4.5942 - val_loss: 4.6101 - lr: 0.0010 - 196ms/epoch - 1ms/step\n",
            "Epoch 70/400\n",
            "195/195 - 0s - loss: 4.5940 - val_loss: 4.6104 - lr: 0.0010 - 195ms/epoch - 1ms/step\n",
            "Epoch 71/400\n",
            "195/195 - 0s - loss: 4.5938 - val_loss: 4.6101 - lr: 0.0010 - 194ms/epoch - 994us/step\n",
            "Epoch 72/400\n",
            "195/195 - 0s - loss: 4.5938 - val_loss: 4.6106 - lr: 0.0010 - 215ms/epoch - 1ms/step\n",
            "Epoch 73/400\n",
            "195/195 - 0s - loss: 4.5938 - val_loss: 4.6103 - lr: 0.0010 - 197ms/epoch - 1ms/step\n",
            "Epoch 74/400\n",
            "195/195 - 0s - loss: 4.5938 - val_loss: 4.6119 - lr: 0.0010 - 199ms/epoch - 1ms/step\n",
            "Epoch 75/400\n",
            "195/195 - 0s - loss: 4.5937 - val_loss: 4.6102 - lr: 0.0010 - 216ms/epoch - 1ms/step\n",
            "Epoch 76/400\n",
            "195/195 - 0s - loss: 4.5937 - val_loss: 4.6107 - lr: 0.0010 - 201ms/epoch - 1ms/step\n",
            "Epoch 77/400\n",
            "195/195 - 0s - loss: 4.5939 - val_loss: 4.6094 - lr: 0.0010 - 198ms/epoch - 1ms/step\n",
            "Epoch 78/400\n",
            "195/195 - 0s - loss: 4.5936 - val_loss: 4.6097 - lr: 0.0010 - 196ms/epoch - 1ms/step\n",
            "Epoch 79/400\n",
            "195/195 - 0s - loss: 4.5935 - val_loss: 4.6101 - lr: 0.0010 - 197ms/epoch - 1ms/step\n",
            "Epoch 80/400\n",
            "195/195 - 0s - loss: 4.5932 - val_loss: 4.6102 - lr: 0.0010 - 199ms/epoch - 1ms/step\n",
            "Epoch 81/400\n",
            "195/195 - 0s - loss: 4.5933 - val_loss: 4.6100 - lr: 0.0010 - 199ms/epoch - 1ms/step\n",
            "Epoch 82/400\n",
            "195/195 - 0s - loss: 4.5933 - val_loss: 4.6098 - lr: 0.0010 - 199ms/epoch - 1ms/step\n",
            "Epoch 83/400\n",
            "195/195 - 0s - loss: 4.5930 - val_loss: 4.6095 - lr: 0.0010 - 199ms/epoch - 1ms/step\n",
            "Epoch 84/400\n",
            "195/195 - 0s - loss: 4.5930 - val_loss: 4.6101 - lr: 0.0010 - 200ms/epoch - 1ms/step\n",
            "Epoch 85/400\n",
            "195/195 - 0s - loss: 4.5929 - val_loss: 4.6099 - lr: 0.0010 - 200ms/epoch - 1ms/step\n",
            "Epoch 86/400\n",
            "195/195 - 0s - loss: 4.5928 - val_loss: 4.6095 - lr: 0.0010 - 198ms/epoch - 1ms/step\n",
            "Epoch 87/400\n",
            "195/195 - 0s - loss: 4.5930 - val_loss: 4.6102 - lr: 0.0010 - 199ms/epoch - 1ms/step\n"
          ]
        }
      ],
      "source": [
        "history = model.fit(\n",
        "    x=x_train,\n",
        "    y=y_train,\n",
        "    batch_size=1024,\n",
        "    epochs=EPOCHS,\n",
        "    verbose=2,\n",
        "    callbacks=callbacks,\n",
        "    validation_data=(x_eval, y_eval)).history"
      ]
    },
    {
      "cell_type": "code",
      "execution_count": 27,
      "metadata": {
        "id": "mAJGs5SebDeN"
      },
      "outputs": [
        {
          "data": {
            "text/plain": [
              "<Axes: >"
            ]
          },
          "execution_count": 27,
          "metadata": {},
          "output_type": "execute_result"
        },
        {
          "data": {
            "image/png": "[encoded data removed]",
            "text/plain": [
              "<Figure size 640x480 with 1 Axes>"
            ]
          },
          "metadata": {},
          "output_type": "display_data"
        }
      ],
      "source": [
        "pd.DataFrame(history)[['loss', 'val_loss']][2:].plot()"
      ]
    },
    {
      "cell_type": "markdown",
      "metadata": {
        "id": "bHaiutmy2aYm"
      },
      "source": [
        "### Eval"
      ]
    },
    {
      "cell_type": "code",
      "execution_count": 28,
      "metadata": {
        "id": "l6E_5gYAYQMw"
      },
      "outputs": [
        {
          "name": "stdout",
          "output_type": "stream",
          "text": [
            "49/49 [==============================] - 0s 584us/step\n"
          ]
        }
      ],
      "source": [
        "logits = model.predict(x=x_eval, batch_size=1024)\n",
        "y_pred = K.sigmoid(logits[..., :1]).numpy().flatten()"
      ]
    },
    {
      "cell_type": "code",
      "execution_count": 29,
      "metadata": {
        "id": "ICTDpg4rxdlj"
      },
      "outputs": [],
      "source": [
        "y_true = (y_eval > 0).astype('float32')"
      ]
    },
    {
      "cell_type": "code",
      "execution_count": 30,
      "metadata": {
        "id": "POeY1gdKTwfx"
      },
      "outputs": [],
      "source": [
        "def classification_report(y_true: Sequence[int],\n",
        "                          y_pred: Sequence[float]) -> pd.DataFrame:\n",
        "  \"\"\"Report individual level classification metrics.\n",
        "\n",
        "  Arguments:\n",
        "    y_true: true binary labels.\n",
        "    y_pred: predicted binary labels.\n",
        "\n",
        "  Returns:\n",
        "    out: dataframe with classification metrics as columns.\n",
        "  \"\"\"\n",
        "  out = pd.DataFrame(index=[0])\n",
        "\n",
        "  out['AUC'] = metrics.roc_auc_score(y_true, y_pred)\n",
        "  out['PR_AUC'] = metrics.average_precision_score(y_true, y_pred)\n",
        "  out['precision'] = metrics.precision_score(y_true, 1 * (y_pred > .5))\n",
        "  out['recall'] = metrics.recall_score(y_true, 1 * (y_pred > .5))\n",
        "  out['f1'] = metrics.f1_score(y_true, 1 * (y_pred > .5))\n",
        "  return out"
      ]
    },
    {
      "cell_type": "code",
      "execution_count": 31,
      "metadata": {
        "id": "vGcWU2vFaeT1"
      },
      "outputs": [
        {
          "data": {
            "text/html": [
              "<div>\n",
              "<style scoped>\n",
              "    .dataframe tbody tr th:only-of-type {\n",
              "        vertical-align: middle;\n",
              "    }\n",
              "\n",
              "    .dataframe tbody tr th {\n",
              "        vertical-align: top;\n",
              "    }\n",
              "\n",
              "    .dataframe thead th {\n",
              "        text-align: right;\n",
              "    }\n",
              "</style>\n",
              "<table border=\"1\" class=\"dataframe\">\n",
              "  <thead>\n",
              "    <tr style=\"text-align: right;\">\n",
              "      <th></th>\n",
              "      <th>AUC</th>\n",
              "      <th>PR_AUC</th>\n",
              "      <th>precision</th>\n",
              "      <th>recall</th>\n",
              "      <th>f1</th>\n",
              "    </tr>\n",
              "  </thead>\n",
              "  <tbody>\n",
              "    <tr>\n",
              "      <th>0</th>\n",
              "      <td>0.665633</td>\n",
              "      <td>0.909495</td>\n",
              "      <td>0.846008</td>\n",
              "      <td>0.997268</td>\n",
              "      <td>0.915432</td>\n",
              "    </tr>\n",
              "  </tbody>\n",
              "</table>\n",
              "</div>"
            ],
            "text/plain": [
              "        AUC    PR_AUC  precision    recall        f1\n",
              "0  0.665633  0.909495   0.846008  0.997268  0.915432"
            ]
          },
          "execution_count": 31,
          "metadata": {},
          "output_type": "execute_result"
        }
      ],
      "source": [
        "classification = classification_report(y_true, y_pred)\n",
        "classification"
      ]
    },
    {
      "cell_type": "markdown",
      "metadata": {
        "id": "-i_AbqhXcurk"
      },
      "source": [
        "### All metrics together"
      ]
    },
    {
      "cell_type": "code",
      "execution_count": 32,
      "metadata": {
        "id": "Umqg1-0Bc1HS"
      },
      "outputs": [],
      "source": [
        "df_metrics = pd.DataFrame(\n",
        "    {\n",
        "        'company': COMPANY,\n",
        "        'model': MODEL,\n",
        "        'loss': LOSS,\n",
        "        'label_mean': y_true.mean(),\n",
        "        'pred_mean': y_pred.mean(),\n",
        "        'AUC': classification.loc[0, 'AUC'],\n",
        "        'PR_AUC': classification.loc[0, 'PR_AUC'],\n",
        "        'precision': classification.loc[0, 'precision'],\n",
        "        'recall': classification.loc[0, 'recall'],\n",
        "        'f1': classification.loc[0, 'f1']\n",
        "    },\n",
        "    index=[0])"
      ]
    },
    {
      "cell_type": "code",
      "execution_count": 33,
      "metadata": {
        "id": "1LV1Hs3xcxnd"
      },
      "outputs": [
        {
          "data": {
            "text/html": [
              "<div>\n",
              "<style scoped>\n",
              "    .dataframe tbody tr th:only-of-type {\n",
              "        vertical-align: middle;\n",
              "    }\n",
              "\n",
              "    .dataframe tbody tr th {\n",
              "        vertical-align: top;\n",
              "    }\n",
              "\n",
              "    .dataframe thead th {\n",
              "        text-align: right;\n",
              "    }\n",
              "</style>\n",
              "<table border=\"1\" class=\"dataframe\">\n",
              "  <thead>\n",
              "    <tr style=\"text-align: right;\">\n",
              "      <th></th>\n",
              "      <th>company</th>\n",
              "      <th>model</th>\n",
              "      <th>loss</th>\n",
              "      <th>label_mean</th>\n",
              "      <th>pred_mean</th>\n",
              "      <th>AUC</th>\n",
              "      <th>PR_AUC</th>\n",
              "      <th>precision</th>\n",
              "      <th>recall</th>\n",
              "      <th>f1</th>\n",
              "    </tr>\n",
              "  </thead>\n",
              "  <tbody>\n",
              "    <tr>\n",
              "      <th>0</th>\n",
              "      <td>104900040</td>\n",
              "      <td>dnn</td>\n",
              "      <td>ziln</td>\n",
              "      <td>0.844395</td>\n",
              "      <td>0.842988</td>\n",
              "      <td>0.665633</td>\n",
              "      <td>0.909495</td>\n",
              "      <td>0.846008</td>\n",
              "      <td>0.997268</td>\n",
              "      <td>0.915432</td>\n",
              "    </tr>\n",
              "  </tbody>\n",
              "</table>\n",
              "</div>"
            ],
            "text/plain": [
              "     company model  loss  label_mean  pred_mean       AUC    PR_AUC  \\\n",
              "0  104900040   dnn  ziln    0.844395   0.842988  0.665633  0.909495   \n",
              "\n",
              "   precision    recall        f1  \n",
              "0   0.846008  0.997268  0.915432  "
            ]
          },
          "execution_count": 33,
          "metadata": {},
          "output_type": "execute_result"
        }
      ],
      "source": [
        "df_metrics[[\n",
        "    'company',\n",
        "    'model',\n",
        "    'loss',\n",
        "    'label_mean',\n",
        "    'pred_mean',\n",
        "    'AUC',\n",
        "    'PR_AUC',\n",
        "    'precision',\n",
        "    'recall',\n",
        "    'f1',\n",
        "]]"
      ]
    },
    {
      "cell_type": "markdown",
      "metadata": {
        "id": "UVy6lYn4mSrj"
      },
      "source": [
        "## Save"
      ]
    },
    {
      "cell_type": "code",
      "execution_count": 34,
      "metadata": {
        "id": "mtkQ4mqUEFsb"
      },
      "outputs": [],
      "source": [
        "output_path = os.path.join(OUTPUT_CSV_FOLDER, COMPANY)"
      ]
    },
    {
      "cell_type": "code",
      "execution_count": 35,
      "metadata": {
        "id": "3qmLzJqOEFsm"
      },
      "outputs": [],
      "source": [
        "if not os.path.isdir(output_path):\n",
        "  os.makedirs(output_path)"
      ]
    },
    {
      "cell_type": "code",
      "execution_count": 36,
      "metadata": {
        "id": "61B5Zc_UEFsr"
      },
      "outputs": [],
      "source": [
        "output_file = os.path.join(output_path,\n",
        "                           '{}_classification_{}.csv'.format(MODEL, LOSS))"
      ]
    },
    {
      "cell_type": "code",
      "execution_count": 37,
      "metadata": {
        "id": "gqglbXfwEFsv"
      },
      "outputs": [],
      "source": [
        "df_metrics.to_csv(output_file, index=False)"
      ]
    }
  ],
  "metadata": {
    "colab": {
      "collapsed_sections": [],
      "last_runtime": {
        "build_target": "",
        "kind": "local"
      },
      "name": "classification.ipynb",
      "provenance": [],
      "toc_visible": true
    },
    "kernelspec": {
      "display_name": ".venv",
      "language": "python",
      "name": "python3"
    },
    "language_info": {
      "codemirror_mode": {
        "name": "ipython",
        "version": 3
      },
      "file_extension": ".py",
      "mimetype": "text/x-python",
      "name": "python",
      "nbconvert_exporter": "python",
      "pygments_lexer": "ipython3",
      "version": "3.8.12"
    }
  },
  "nbformat": 4,
  "nbformat_minor": 0
}
